{
 "cells": [
  {
   "cell_type": "code",
   "execution_count": 1,
   "metadata": {
    "collapsed": true
   },
   "outputs": [],
   "source": [
    "import pandas as pd\n",
    "from datetime import datetime, timedelta\n",
    "%matplotlib inline\n",
    "import json\n",
    "import matplotlib.pyplot as plt\n",
    "import pickle"
   ]
  },
  {
   "cell_type": "code",
   "execution_count": 2,
   "metadata": {
    "scrolled": false
   },
   "outputs": [
    {
     "data": {
      "text/html": [
       "<div>\n",
       "<style>\n",
       "    .dataframe thead tr:only-child th {\n",
       "        text-align: right;\n",
       "    }\n",
       "\n",
       "    .dataframe thead th {\n",
       "        text-align: left;\n",
       "    }\n",
       "\n",
       "    .dataframe tbody tr th {\n",
       "        vertical-align: top;\n",
       "    }\n",
       "</style>\n",
       "<table border=\"1\" class=\"dataframe\">\n",
       "  <thead>\n",
       "    <tr style=\"text-align: right;\">\n",
       "      <th></th>\n",
       "      <th>raw_index</th>\n",
       "      <th>route</th>\n",
       "      <th>licence_plate_number</th>\n",
       "      <th>calibrated_time</th>\n",
       "      <th>longitude</th>\n",
       "      <th>latitude</th>\n",
       "      <th>delta_lon</th>\n",
       "      <th>delta_lat</th>\n",
       "      <th>delta_time</th>\n",
       "    </tr>\n",
       "  </thead>\n",
       "  <tbody>\n",
       "    <tr>\n",
       "      <th>0</th>\n",
       "      <td>19</td>\n",
       "      <td>116</td>\n",
       "      <td>粤E19204</td>\n",
       "      <td>2015-07-01 00:01:35</td>\n",
       "      <td>113.14631</td>\n",
       "      <td>23.02181</td>\n",
       "      <td>0.0</td>\n",
       "      <td>0.0</td>\n",
       "      <td>5</td>\n",
       "    </tr>\n",
       "    <tr>\n",
       "      <th>1</th>\n",
       "      <td>39</td>\n",
       "      <td>116</td>\n",
       "      <td>粤E19204</td>\n",
       "      <td>2015-07-01 00:01:40</td>\n",
       "      <td>113.14631</td>\n",
       "      <td>23.02181</td>\n",
       "      <td>0.0</td>\n",
       "      <td>0.0</td>\n",
       "      <td>5</td>\n",
       "    </tr>\n",
       "    <tr>\n",
       "      <th>2</th>\n",
       "      <td>57</td>\n",
       "      <td>116</td>\n",
       "      <td>粤E19204</td>\n",
       "      <td>2015-07-01 00:01:45</td>\n",
       "      <td>113.14631</td>\n",
       "      <td>23.02181</td>\n",
       "      <td>0.0</td>\n",
       "      <td>0.0</td>\n",
       "      <td>5</td>\n",
       "    </tr>\n",
       "    <tr>\n",
       "      <th>3</th>\n",
       "      <td>82</td>\n",
       "      <td>116</td>\n",
       "      <td>粤E19204</td>\n",
       "      <td>2015-07-01 00:01:50</td>\n",
       "      <td>113.14631</td>\n",
       "      <td>23.02181</td>\n",
       "      <td>0.0</td>\n",
       "      <td>0.0</td>\n",
       "      <td>5</td>\n",
       "    </tr>\n",
       "    <tr>\n",
       "      <th>4</th>\n",
       "      <td>102</td>\n",
       "      <td>116</td>\n",
       "      <td>粤E19204</td>\n",
       "      <td>2015-07-01 00:01:55</td>\n",
       "      <td>113.14631</td>\n",
       "      <td>23.02181</td>\n",
       "      <td>0.0</td>\n",
       "      <td>0.0</td>\n",
       "      <td>5</td>\n",
       "    </tr>\n",
       "  </tbody>\n",
       "</table>\n",
       "</div>"
      ],
      "text/plain": [
       "   raw_index  route licence_plate_number      calibrated_time  longitude  \\\n",
       "0         19    116              粤E19204  2015-07-01 00:01:35  113.14631   \n",
       "1         39    116              粤E19204  2015-07-01 00:01:40  113.14631   \n",
       "2         57    116              粤E19204  2015-07-01 00:01:45  113.14631   \n",
       "3         82    116              粤E19204  2015-07-01 00:01:50  113.14631   \n",
       "4        102    116              粤E19204  2015-07-01 00:01:55  113.14631   \n",
       "\n",
       "   latitude  delta_lon  delta_lat  delta_time  \n",
       "0  23.02181        0.0        0.0           5  \n",
       "1  23.02181        0.0        0.0           5  \n",
       "2  23.02181        0.0        0.0           5  \n",
       "3  23.02181        0.0        0.0           5  \n",
       "4  23.02181        0.0        0.0           5  "
      ]
     },
     "execution_count": 2,
     "metadata": {},
     "output_type": "execute_result"
    }
   ],
   "source": [
    "complete_df = pd.read_csv(\"data/116_edit\",sep = \"\\t\" , header = 0)\n",
    "# del complete_df.index.name\n",
    "# complete_df = complete_df.set_index(\"raw_index\")\n",
    "complete_df.head()"
   ]
  },
  {
   "cell_type": "code",
   "execution_count": 3,
   "metadata": {
    "collapsed": true
   },
   "outputs": [],
   "source": [
    "# (pd.to_datetime(complete_df.calibrated_time[0]) - pd.to_datetime(complete_df.calibrated_time[1])).total_seconds()\n",
    "complete_df['calibrated_time'] = pd.to_datetime(complete_df['calibrated_time'])"
   ]
  },
  {
   "cell_type": "code",
   "execution_count": 4,
   "metadata": {},
   "outputs": [
    {
     "data": {
      "text/plain": [
       "count     8712493\n",
       "unique         24\n",
       "top       粤E19207\n",
       "freq       482164\n",
       "Name: licence_plate_number, dtype: object"
      ]
     },
     "execution_count": 4,
     "metadata": {},
     "output_type": "execute_result"
    }
   ],
   "source": [
    "# type(complete_df['calibrated_time'][0])\n",
    "# complete_df.head()\n",
    "bus1 = complete_df[complete_df[\"licence_plate_number\"] == \"粤E19204\"]\n",
    "# bus1.head()\n",
    "complete_df.licence_plate_number.describe()"
   ]
  },
  {
   "cell_type": "code",
   "execution_count": 5,
   "metadata": {},
   "outputs": [
    {
     "name": "stdout",
     "output_type": "stream",
     "text": [
      "粤E19204\n",
      "粤E19207\n",
      "粤E16952\n",
      "粤E19205\n",
      "粤E17022\n",
      "粤E17035\n",
      "粤E16977\n",
      "粤E17002\n",
      "粤E17027\n",
      "粤E17005\n",
      "粤E16979\n",
      "粤E17031\n",
      "粤E16963\n",
      "粤E17033\n",
      "粤E17180\n",
      "粤E17021\n",
      "粤E17017\n",
      "粤E19212\n",
      "粤E17012\n",
      "粤E16960\n",
      "粤E19209\n",
      "粤E17032\n",
      "粤E17039\n",
      "粤E17169\n",
      "460873\n"
     ]
    }
   ],
   "source": [
    "# find out all points that the bus stopped for the minimal time\n",
    "# it will take an hour to run\n",
    "not_working = []\n",
    "for plate in complete_df[\"licence_plate_number\"].unique():\n",
    "    bus1 = complete_df[complete_df[\"licence_plate_number\"] == plate]\n",
    "#     bus1 = bus1.reset_index(drop=True)\n",
    "    first_index = bus1.index[0]\n",
    "    last_loc = (bus1.loc[first_index][\"longitude\"], bus1.loc[first_index][\"latitude\"])\n",
    "    caching = []\n",
    "    for i in bus1.index:\n",
    "        if bus1.loc[i][\"longitude\"] == last_loc[0] and bus1.loc[i][\"latitude\"] == last_loc[1]:\n",
    "            caching.append(i)\n",
    "#             print i\n",
    "        else:\n",
    "            if len(caching) > 1: # if \n",
    "                not_working.append(caching)\n",
    "#                 print caching\n",
    "            # reset the cache\n",
    "            caching = [i]\n",
    "            last_loc = (bus1.loc[i][\"longitude\"], bus1.loc[i][\"latitude\"])\n",
    "            \n",
    "    print str(plate)\n",
    "#     break\n",
    "\n",
    "print len(not_working)"
   ]
  },
  {
   "cell_type": "code",
   "execution_count": 6,
   "metadata": {
    "collapsed": true
   },
   "outputs": [],
   "source": [
    "pickle.dump( not_working, open( \"data/test.p\", \"wb\" ) )\n",
    "# not_working = pickle.load(open( \"data/test.p\", \"rb\" ))"
   ]
  },
  {
   "cell_type": "code",
   "execution_count": 7,
   "metadata": {},
   "outputs": [
    {
     "data": {
      "text/plain": [
       "460873"
      ]
     },
     "execution_count": 7,
     "metadata": {},
     "output_type": "execute_result"
    }
   ],
   "source": [
    "len(not_working)"
   ]
  },
  {
   "cell_type": "markdown",
   "metadata": {},
   "source": [
    "## stop_index_15"
   ]
  },
  {
   "cell_type": "code",
   "execution_count": 8,
   "metadata": {
    "collapsed": true
   },
   "outputs": [],
   "source": [
    "stop_index_15 = [point[0] for point in not_working if (complete_df.loc[point[-1],\"calibrated_time\"] - complete_df.loc[point[0],\"calibrated_time\"]).total_seconds() > 15]"
   ]
  },
  {
   "cell_type": "code",
   "execution_count": 9,
   "metadata": {
    "collapsed": true
   },
   "outputs": [],
   "source": [
    "# len(stop_index_15)  136629\n",
    "# len(not_working)   800000+\n",
    "stop_loc_15_df = complete_df.loc[stop_index_15][[\"longitude\",\"latitude\"]]\n",
    "stop_loc_15_df = stop_loc_15_df[(stop_loc_15_df[\"latitude\"]>22.8)&\n",
    "                          (stop_loc_15_df[\"longitude\"]>113.00) &(stop_loc_15_df[\"longitude\"]<113.2)]"
   ]
  },
  {
   "cell_type": "code",
   "execution_count": 10,
   "metadata": {},
   "outputs": [
    {
     "data": {
      "text/plain": [
       "<matplotlib.axes._subplots.AxesSubplot at 0x13d2d5910>"
      ]
     },
     "execution_count": 10,
     "metadata": {},
     "output_type": "execute_result"
    },
    {
     "data": {
      "image/png": "[encoded data removed]",
      "text/plain": [
       "<matplotlib.figure.Figure at 0x111c76690>"
      ]
     },
     "metadata": {},
     "output_type": "display_data"
    }
   ],
   "source": [
    "stop_loc_15_df.plot.scatter(\"longitude\",\"latitude\")\n"
   ]
  },
  {
   "cell_type": "code",
   "execution_count": 11,
   "metadata": {},
   "outputs": [
    {
     "name": "stdout",
     "output_type": "stream",
     "text": [
      "10000\n",
      "20000\n",
      "30000\n",
      "40000\n",
      "50000\n",
      "60000\n",
      "70000\n",
      "80000\n",
      "90000\n",
      "100000\n",
      "110000\n",
      "120000\n",
      "130000\n"
     ]
    },
    {
     "data": {
      "text/html": [
       "<div>\n",
       "<style>\n",
       "    .dataframe thead tr:only-child th {\n",
       "        text-align: right;\n",
       "    }\n",
       "\n",
       "    .dataframe thead th {\n",
       "        text-align: left;\n",
       "    }\n",
       "\n",
       "    .dataframe tbody tr th {\n",
       "        vertical-align: top;\n",
       "    }\n",
       "</style>\n",
       "<table border=\"1\" class=\"dataframe\">\n",
       "  <thead>\n",
       "    <tr style=\"text-align: right;\">\n",
       "      <th></th>\n",
       "      <th>longitude</th>\n",
       "      <th>latitude</th>\n",
       "      <th>nearby</th>\n",
       "    </tr>\n",
       "  </thead>\n",
       "  <tbody>\n",
       "    <tr>\n",
       "      <th>0</th>\n",
       "      <td>113.14631</td>\n",
       "      <td>23.02181</td>\n",
       "      <td>3068</td>\n",
       "    </tr>\n",
       "    <tr>\n",
       "      <th>1803</th>\n",
       "      <td>113.14628</td>\n",
       "      <td>23.02175</td>\n",
       "      <td>3369</td>\n",
       "    </tr>\n",
       "    <tr>\n",
       "      <th>1812</th>\n",
       "      <td>113.14631</td>\n",
       "      <td>23.02175</td>\n",
       "      <td>3355</td>\n",
       "    </tr>\n",
       "    <tr>\n",
       "      <th>1824</th>\n",
       "      <td>113.14630</td>\n",
       "      <td>23.02175</td>\n",
       "      <td>3372</td>\n",
       "    </tr>\n",
       "    <tr>\n",
       "      <th>1834</th>\n",
       "      <td>113.14626</td>\n",
       "      <td>23.02175</td>\n",
       "      <td>3385</td>\n",
       "    </tr>\n",
       "  </tbody>\n",
       "</table>\n",
       "</div>"
      ],
      "text/plain": [
       "      longitude  latitude  nearby\n",
       "0     113.14631  23.02181    3068\n",
       "1803  113.14628  23.02175    3369\n",
       "1812  113.14631  23.02175    3355\n",
       "1824  113.14630  23.02175    3372\n",
       "1834  113.14626  23.02175    3385"
      ]
     },
     "execution_count": 11,
     "metadata": {},
     "output_type": "execute_result"
    }
   ],
   "source": [
    "count = 0\n",
    "stop_loc_15_df[\"nearby\"] = 0\n",
    "for i in stop_loc_15_df.index:\n",
    "    count += 1\n",
    "    if count%10000 == 0:\n",
    "        print count\n",
    "    stop_loc_15_df.loc[i,\"nearby\"] = stop_loc_15_df[(stop_loc_15_df[\"longitude\"] > (stop_loc_15_df.loc[i,\"longitude\"] - 0.0002))&\n",
    "                                              (stop_loc_15_df[\"longitude\"] < (stop_loc_15_df.loc[i,\"longitude\"] + 0.0002))&\n",
    "                                              (stop_loc_15_df[\"latitude\"] > (stop_loc_15_df.loc[i,\"latitude\"]-0.0002))&\n",
    "                                              (stop_loc_15_df[\"latitude\"] < (stop_loc_15_df.loc[i,\"latitude\"]+0.0002))].shape[0]\n",
    "\n",
    "# +-0.00005 8.5 meters\n",
    "# +-0.0002 34 meters\n",
    "# count\n",
    "stop_loc_15_df.head()\n"
   ]
  },
  {
   "cell_type": "code",
   "execution_count": 12,
   "metadata": {},
   "outputs": [
    {
     "data": {
      "text/plain": [
       "<matplotlib.axes._subplots.AxesSubplot at 0x1cd35fd50>"
      ]
     },
     "execution_count": 12,
     "metadata": {},
     "output_type": "execute_result"
    },
    {
     "data": {
      "image/png": "[encoded data removed]",
      "text/plain": [
       "<matplotlib.figure.Figure at 0x1cd381990>"
      ]
     },
     "metadata": {},
     "output_type": "display_data"
    }
   ],
   "source": [
    "stop_loc_15_df_unique = stop_loc_15_df.drop_duplicates().sort_values(\"nearby\",ascending = False)\n",
    "# stop_loc_15_df_unique.head(30)\n",
    "stop_loc_15_df_unique = stop_loc_15_df_unique[(stop_loc_15_df_unique[\"nearby\"]<10000)&(stop_loc_15_df_unique[\"nearby\"]>200)]\n",
    "stop_loc_15_df_unique.plot.scatter(\"longitude\",\"latitude\")"
   ]
  },
  {
   "cell_type": "code",
   "execution_count": 64,
   "metadata": {
    "collapsed": true
   },
   "outputs": [],
   "source": [
    "# stop_loc_15_df_unique.shape\n",
    "# from sklearn.cluster import KMeans\n",
    "from sklearn.cluster import DBSCAN\n",
    "DB = DBSCAN(eps=0.0005, min_samples=200).fit(stop_loc_15_df_unique[[\"longitude\",\"latitude\"]])\n",
    "# kmeans = KMeans(n_clusters=30, random_state=0).fit(stop_loc_15_df_unique[[\"longitude\",\"latitude\"]])"
   ]
  },
  {
   "cell_type": "code",
   "execution_count": 65,
   "metadata": {},
   "outputs": [],
   "source": [
    "# print len(DB.components_.tolist())\n",
    "# print len(DB.labels_.tolist())\n",
    "# print len(DB.core_sample_indices_)\n",
    "# DB.core_sample_indices_\n",
    "\n",
    "loc = pd.DataFrame(DB.components_.tolist())\n",
    "loc.index = DB.core_sample_indices_\n",
    "loc.columns = [\"lon\",\"lat\"]\n",
    "# loc\n",
    "lab = pd.DataFrame(DB.labels_)\n",
    "lab.columns = [\"label\"]\n",
    "# lab\n",
    "df = pd.concat([loc, lab], axis=1)\n",
    "df = df.dropna(axis=0, how='any')"
   ]
  },
  {
   "cell_type": "code",
   "execution_count": 68,
   "metadata": {},
   "outputs": [],
   "source": [
    "stop_loc = df.groupby(\"label\").mean()"
   ]
  },
  {
   "cell_type": "code",
   "execution_count": 71,
   "metadata": {},
   "outputs": [
    {
     "data": {
      "text/plain": [
       "<matplotlib.axes._subplots.AxesSubplot at 0x127591c10>"
      ]
     },
     "execution_count": 71,
     "metadata": {},
     "output_type": "execute_result"
    },
    {
     "data": {
      "image/png": "[encoded data removed]",
      "text/plain": [
       "<matplotlib.figure.Figure at 0x1273437d0>"
      ]
     },
     "metadata": {},
     "output_type": "display_data"
    }
   ],
   "source": [
    "valid_stop = stop_loc[(stop_loc.lon<113.12)&(stop_loc.lon>113.02)]\n",
    "# df.head()\n",
    "valid_stop.plot(x=\"lon\", y= \"lat\", kind = \"scatter\",color = \"red\")"
   ]
  },
  {
   "cell_type": "code",
   "execution_count": 72,
   "metadata": {
    "collapsed": true
   },
   "outputs": [],
   "source": [
    "valid_stop.to_csv(\"stoploc.csv\")"
   ]
  },
  {
   "cell_type": "code",
   "execution_count": 129,
   "metadata": {},
   "outputs": [
    {
     "data": {
      "text/plain": [
       "<matplotlib.axes._subplots.AxesSubplot at 0x1bc177290>"
      ]
     },
     "execution_count": 129,
     "metadata": {},
     "output_type": "execute_result"
    },
    {
     "data": {
      "text/plain": [
       "<matplotlib.figure.Figure at 0x1db228a90>"
      ]
     },
     "metadata": {},
     "output_type": "display_data"
    },
    {
     "data": {
      "image/png": "[encoded data removed]",
      "text/plain": [
       "<matplotlib.figure.Figure at 0x13cc3add0>"
      ]
     },
     "metadata": {},
     "output_type": "display_data"
    }
   ],
   "source": [
    "plt.figure()\n",
    "# stop_loc.plot(x=\"lon\",y=\"lat\", kind = \"scatter\")\n",
    "# stop_loc_df_unique.plot(x=\"longitude\", y= \"latitude\", kind = \"scatter\",secondary_y=True, style='g' )\n",
    "# with pd.plot_params.use('x_compat', True):\n",
    "# a = \n",
    "pd.DataFrame(kmeans.cluster_centers_).plot(x=0, y= 1, kind = \"scatter\",color = \"red\")\n",
    "# DB.components_\n",
    "# pd.DataFrame(DB.core_sample_indices_)\n",
    "# stop_loc_15_df_unique.shape"
   ]
  },
  {
   "cell_type": "markdown",
   "metadata": {},
   "source": [
    "### Baidu Maps"
   ]
  },
  {
   "cell_type": "code",
   "execution_count": 107,
   "metadata": {
    "collapsed": true
   },
   "outputs": [],
   "source": [
    "stop_loc = pd.read_csv(\"data/116_stop.csv\", header = 0)\n",
    "# stop_loc.head()\n",
    "stop_loc = stop_loc.reset_index()\n",
    "stop_loc[\"lon\"] = stop_loc[\"index\"].apply(lambda x:float(x.split(\"\\t\")[1][1:]))\n",
    "stop_loc[\"index\"] = stop_loc[\"index\"].apply(lambda x:x.split(\"\\t\")[0])\n",
    "stop_loc[\"name\\tlon\"] = stop_loc[\"name\\tlon\"].apply(lambda x:float(x[:-1]))\n",
    "stop_loc.columns = [\"name\",\"lat\",\"lon\"]\n"
   ]
  },
  {
   "cell_type": "code",
   "execution_count": 111,
   "metadata": {},
   "outputs": [
    {
     "data": {
      "text/plain": [
       "<matplotlib.axes._subplots.AxesSubplot at 0x1dc74df10>"
      ]
     },
     "execution_count": 111,
     "metadata": {},
     "output_type": "execute_result"
    },
    {
     "data": {
      "image/png": "[encoded data removed]",
      "text/plain": [
       "<matplotlib.figure.Figure at 0x12b39c610>"
      ]
     },
     "metadata": {},
     "output_type": "display_data"
    }
   ],
   "source": [
    "stop_loc.plot(x=\"lon\",y=\"lat\", kind = \"scatter\",  color = \"black\")"
   ]
  },
  {
   "cell_type": "code",
   "execution_count": 136,
   "metadata": {},
   "outputs": [
    {
     "data": {
      "text/plain": [
       "<matplotlib.axes._subplots.AxesSubplot at 0x120cf64d0>"
      ]
     },
     "execution_count": 136,
     "metadata": {},
     "output_type": "execute_result"
    },
    {
     "data": {
      "text/plain": [
       "<matplotlib.figure.Figure at 0x11c531850>"
      ]
     },
     "metadata": {},
     "output_type": "display_data"
    },
    {
     "data": {
      "image/png": "[encoded data removed]",
      "text/plain": [
       "<matplotlib.figure.Figure at 0x11c50ad50>"
      ]
     },
     "metadata": {},
     "output_type": "display_data"
    }
   ],
   "source": [
    "plt.figure()\n",
    "a = pd.DataFrame(kmeans.cluster_centers_).plot(x=0, y= 1, kind = \"scatter\", color = \"red\")\n",
    "stop_loc.plot(x=\"lon_a\",y=\"lat_a\", kind = \"scatter\",  color = \"black\", ax = a)"
   ]
  },
  {
   "cell_type": "code",
   "execution_count": 130,
   "metadata": {
    "collapsed": true
   },
   "outputs": [],
   "source": [
    "import math\n",
    "smallest = 1000\n",
    "best = None\n",
    "for i in range(100):\n",
    "    for j in range(100):\n",
    "        stop_loc[\"lon_a\"] = stop_loc[\"lon\"] - 0.005 - i*0.0001\n",
    "        stop_loc[\"lat_a\"] = stop_loc[\"lat\"] + 0.005 - j*0.0001\n",
    "        score_sum = 0\n",
    "        for index1 in stop_loc.index:\n",
    "            \n",
    "            temp_close = 0\n",
    "            temp_distance = 1\n",
    "            for index2 in stop_loc_hat.index:\n",
    "                dist = (math.pow(stop_loc_hat.loc[index2,0]- stop_loc.loc[index1,\"lon_a\"], 2)+  \n",
    "                    math.pow(stop_loc_hat.loc[index2,1]- stop_loc.loc[index1,\"lat_a\"], 2))\n",
    "                if dist < temp_distance:\n",
    "                    temp_distance = dist\n",
    "                    temp_close = index2\n",
    "            score_sum += temp_distance\n",
    "        if score_sum < smallest:\n",
    "            smallest = score_sum\n",
    "            best = (i,j)\n",
    "#             print (i,j)\n",
    "#             print score_sum\n",
    "    print i\n",
    "print best"
   ]
  },
  {
   "cell_type": "code",
   "execution_count": 133,
   "metadata": {
    "collapsed": true
   },
   "outputs": [],
   "source": [
    "# stop_loc\n",
    "stop_loc[\"lon_a\"] = stop_loc[\"lon\"] -0.0117\n",
    "stop_loc[\"lat_a\"] = stop_loc[\"lat\"] -0.0035000000000000005"
   ]
  },
  {
   "cell_type": "code",
   "execution_count": 110,
   "metadata": {},
   "outputs": [
    {
     "data": {
      "text/plain": [
       "<matplotlib.axes._subplots.AxesSubplot at 0x1de7bf910>"
      ]
     },
     "execution_count": 110,
     "metadata": {},
     "output_type": "execute_result"
    },
    {
     "data": {
      "text/plain": [
       "<matplotlib.figure.Figure at 0x13aca6490>"
      ]
     },
     "metadata": {},
     "output_type": "display_data"
    },
    {
     "data": {
      "image/png": "[encoded data removed]",
      "text/plain": [
       "<matplotlib.figure.Figure at 0x14cc9fdd0>"
      ]
     },
     "metadata": {},
     "output_type": "display_data"
    }
   ],
   "source": [
    "plt.figure()\n",
    "# stop_loc.plot(x=\"lon\",y=\"lat\", kind = \"scatter\")\n",
    "# stop_loc_df_unique.plot(x=\"longitude\", y= \"latitude\", kind = \"scatter\",secondary_y=True, style='g' )\n",
    "# with pd.plot_params.use('x_compat', True):\n",
    "a = stop_loc_15_df.plot(x=\"longitude\", y= \"latitude\", kind = \"scatter\", color = \"red\", alpha=0.1)\n",
    "stop_loc.plot(x=\"lon_a\",y=\"lat_a\", kind = \"scatter\",  color = \"black\", ax = a)"
   ]
  },
  {
   "cell_type": "code",
   "execution_count": null,
   "metadata": {
    "collapsed": true
   },
   "outputs": [],
   "source": []
  },
  {
   "cell_type": "markdown",
   "metadata": {
    "collapsed": true
   },
   "source": [
    "### Scratch"
   ]
  },
  {
   "cell_type": "markdown",
   "metadata": {},
   "source": [
    "#### stop_index_30"
   ]
  },
  {
   "cell_type": "code",
   "execution_count": 59,
   "metadata": {
    "collapsed": true
   },
   "outputs": [],
   "source": [
    "stop_index_30 = [point[0] for point in not_working if (complete_df.loc[point[-1],\"calibrated_time\"] - complete_df.loc[point[0],\"calibrated_time\"]).total_seconds() > 30]\n",
    "stop_loc_30_df = complete_df.loc[stop_index_30][[\"longitude\",\"latitude\"]]\n",
    "stop_loc_30_df = stop_loc_30_df[(stop_loc_30_df[\"latitude\"]>22.8)&\n",
    "                          (stop_loc_30_df[\"longitude\"]>113.00) &(stop_loc_30_df[\"longitude\"]<113.2)]"
   ]
  },
  {
   "cell_type": "code",
   "execution_count": 60,
   "metadata": {},
   "outputs": [
    {
     "data": {
      "text/plain": [
       "<matplotlib.axes._subplots.AxesSubplot at 0x1c89ac850>"
      ]
     },
     "execution_count": 60,
     "metadata": {},
     "output_type": "execute_result"
    },
    {
     "data": {
      "image/png": "[encoded data removed]",
      "text/plain": [
       "<matplotlib.figure.Figure at 0x148b868d0>"
      ]
     },
     "metadata": {},
     "output_type": "display_data"
    }
   ],
   "source": [
    "stop_loc_30_df.plot.scatter(\"longitude\",\"latitude\")\n"
   ]
  },
  {
   "cell_type": "code",
   "execution_count": 61,
   "metadata": {},
   "outputs": [
    {
     "name": "stdout",
     "output_type": "stream",
     "text": [
      "10000\n",
      "20000\n",
      "30000\n",
      "40000\n"
     ]
    },
    {
     "data": {
      "text/html": [
       "<div>\n",
       "<style>\n",
       "    .dataframe thead tr:only-child th {\n",
       "        text-align: right;\n",
       "    }\n",
       "\n",
       "    .dataframe thead th {\n",
       "        text-align: left;\n",
       "    }\n",
       "\n",
       "    .dataframe tbody tr th {\n",
       "        vertical-align: top;\n",
       "    }\n",
       "</style>\n",
       "<table border=\"1\" class=\"dataframe\">\n",
       "  <thead>\n",
       "    <tr style=\"text-align: right;\">\n",
       "      <th></th>\n",
       "      <th>longitude</th>\n",
       "      <th>latitude</th>\n",
       "      <th>nearby</th>\n",
       "    </tr>\n",
       "  </thead>\n",
       "  <tbody>\n",
       "    <tr>\n",
       "      <th>0</th>\n",
       "      <td>113.14631</td>\n",
       "      <td>23.02181</td>\n",
       "      <td>124</td>\n",
       "    </tr>\n",
       "    <tr>\n",
       "      <th>1803</th>\n",
       "      <td>113.14628</td>\n",
       "      <td>23.02175</td>\n",
       "      <td>136</td>\n",
       "    </tr>\n",
       "    <tr>\n",
       "      <th>1824</th>\n",
       "      <td>113.14630</td>\n",
       "      <td>23.02175</td>\n",
       "      <td>123</td>\n",
       "    </tr>\n",
       "    <tr>\n",
       "      <th>1848</th>\n",
       "      <td>113.14630</td>\n",
       "      <td>23.02173</td>\n",
       "      <td>106</td>\n",
       "    </tr>\n",
       "    <tr>\n",
       "      <th>4070</th>\n",
       "      <td>113.14636</td>\n",
       "      <td>23.02170</td>\n",
       "      <td>44</td>\n",
       "    </tr>\n",
       "  </tbody>\n",
       "</table>\n",
       "</div>"
      ],
      "text/plain": [
       "      longitude  latitude  nearby\n",
       "0     113.14631  23.02181     124\n",
       "1803  113.14628  23.02175     136\n",
       "1824  113.14630  23.02175     123\n",
       "1848  113.14630  23.02173     106\n",
       "4070  113.14636  23.02170      44"
      ]
     },
     "execution_count": 61,
     "metadata": {},
     "output_type": "execute_result"
    }
   ],
   "source": [
    "count = 0\n",
    "stop_loc_30_df[\"nearby\"] = 0\n",
    "for i in stop_loc_30_df.index:\n",
    "    count += 1\n",
    "    if count%10000 == 0:\n",
    "        print count\n",
    "    stop_loc_30_df.loc[i,\"nearby\"] = stop_loc_30_df[(stop_loc_30_df[\"longitude\"] > (stop_loc_30_df.loc[i,\"longitude\"] - 0.00005))&\n",
    "                                              (stop_loc_30_df[\"longitude\"] < (stop_loc_30_df.loc[i,\"longitude\"] + 0.00005))&\n",
    "                                              (stop_loc_30_df[\"latitude\"] > (stop_loc_30_df.loc[i,\"latitude\"]-0.00005))&\n",
    "                                              (stop_loc_30_df[\"latitude\"] < (stop_loc_30_df.loc[i,\"latitude\"]+0.00005))].shape[0]\n",
    "\n",
    "# +-0.00005 17 meters\n",
    "# count\n",
    "stop_loc_30_df.head()"
   ]
  },
  {
   "cell_type": "code",
   "execution_count": 83,
   "metadata": {},
   "outputs": [
    {
     "data": {
      "text/plain": [
       "<matplotlib.axes._subplots.AxesSubplot at 0x218ab21d0>"
      ]
     },
     "execution_count": 83,
     "metadata": {},
     "output_type": "execute_result"
    },
    {
     "data": {
      "image/png": "[encoded data removed]",
      "text/plain": [
       "<matplotlib.figure.Figure at 0x1a66a2bd0>"
      ]
     },
     "metadata": {},
     "output_type": "display_data"
    }
   ],
   "source": [
    "stop_loc_30_df_unique = stop_loc_30_df.drop_duplicates().sort_values(\"nearby\",ascending = False)\n",
    "# stop_loc_30_df_unique.head(30)\n",
    "stop_loc_30_df_unique = stop_loc_30_df_unique[(stop_loc_30_df_unique[\"nearby\"]<200)&(stop_loc_30_df_unique[\"nearby\"]>20)]\n",
    "stop_loc_30_df_unique.plot.scatter(\"longitude\",\"latitude\")"
   ]
  },
  {
   "cell_type": "markdown",
   "metadata": {},
   "source": [
    "#### Between a range"
   ]
  },
  {
   "cell_type": "code",
   "execution_count": 84,
   "metadata": {
    "collapsed": true
   },
   "outputs": [],
   "source": [
    "stop_index_range = [point[0] for point in not_working if (complete_df.loc[point[-1],\"calibrated_time\"] - complete_df.loc[point[0],\"calibrated_time\"]).total_seconds() > 15 and (complete_df.loc[point[-1],\"calibrated_time\"] - complete_df.loc[point[0],\"calibrated_time\"]).total_seconds() < 60]\n",
    "stop_loc_range_df = complete_df.loc[stop_index_range][[\"longitude\",\"latitude\"]]\n",
    "stop_loc_range_df = stop_loc_range_df[(stop_loc_range_df[\"latitude\"]>22.8)&\n",
    "                          (stop_loc_range_df[\"longitude\"]>113.00) &(stop_loc_range_df[\"longitude\"]<113.2)]"
   ]
  },
  {
   "cell_type": "code",
   "execution_count": 85,
   "metadata": {},
   "outputs": [
    {
     "data": {
      "text/plain": [
       "<matplotlib.axes._subplots.AxesSubplot at 0x1bd9841d0>"
      ]
     },
     "execution_count": 85,
     "metadata": {},
     "output_type": "execute_result"
    },
    {
     "data": {
      "image/png": "[encoded data removed]",
      "text/plain": [
       "<matplotlib.figure.Figure at 0x1c92fa690>"
      ]
     },
     "metadata": {},
     "output_type": "display_data"
    }
   ],
   "source": [
    "stop_loc_range_df.plot.scatter(\"longitude\",\"latitude\")\n"
   ]
  },
  {
   "cell_type": "code",
   "execution_count": 19,
   "metadata": {},
   "outputs": [
    {
     "ename": "NameError",
     "evalue": "name 'stop_loc_range_df' is not defined",
     "output_type": "error",
     "traceback": [
      "\u001b[0;31m---------------------------------------------------------------------------\u001b[0m",
      "\u001b[0;31mNameError\u001b[0m                                 Traceback (most recent call last)",
      "\u001b[0;32m<ipython-input-19-2055333a8f73>\u001b[0m in \u001b[0;36m<module>\u001b[0;34m()\u001b[0m\n\u001b[1;32m      1\u001b[0m \u001b[0mcount\u001b[0m \u001b[0;34m=\u001b[0m \u001b[0;36m0\u001b[0m\u001b[0;34m\u001b[0m\u001b[0m\n\u001b[0;32m----> 2\u001b[0;31m \u001b[0mstop_loc_range_df\u001b[0m\u001b[0;34m[\u001b[0m\u001b[0;34m\"nearby\"\u001b[0m\u001b[0;34m]\u001b[0m \u001b[0;34m=\u001b[0m \u001b[0;36m0\u001b[0m\u001b[0;34m\u001b[0m\u001b[0m\n\u001b[0m\u001b[1;32m      3\u001b[0m \u001b[0;32mfor\u001b[0m \u001b[0mi\u001b[0m \u001b[0;32min\u001b[0m \u001b[0mstop_loc_range_df\u001b[0m\u001b[0;34m.\u001b[0m\u001b[0mindex\u001b[0m\u001b[0;34m:\u001b[0m\u001b[0;34m\u001b[0m\u001b[0m\n\u001b[1;32m      4\u001b[0m     \u001b[0mcount\u001b[0m \u001b[0;34m+=\u001b[0m \u001b[0;36m1\u001b[0m\u001b[0;34m\u001b[0m\u001b[0m\n\u001b[1;32m      5\u001b[0m     \u001b[0;32mif\u001b[0m \u001b[0mcount\u001b[0m\u001b[0;34m%\u001b[0m\u001b[0;36m10000\u001b[0m \u001b[0;34m==\u001b[0m \u001b[0;36m0\u001b[0m\u001b[0;34m:\u001b[0m\u001b[0;34m\u001b[0m\u001b[0m\n",
      "\u001b[0;31mNameError\u001b[0m: name 'stop_loc_range_df' is not defined"
     ]
    }
   ],
   "source": [
    "count = 0\n",
    "stop_loc_range_df[\"nearby\"] = 0\n",
    "for i in stop_loc_range_df.index:\n",
    "    count += 1\n",
    "    if count%10000 == 0:\n",
    "        print count\n",
    "    stop_loc_range_df.loc[i,\"nearby\"] = stop_loc_range_df[(stop_loc_range_df[\"longitude\"] > (stop_loc_range_df.loc[i,\"longitude\"] - 0.00005))&\n",
    "                                              (stop_loc_range_df[\"longitude\"] < (stop_loc_range_df.loc[i,\"longitude\"] + 0.00005))&\n",
    "                                              (stop_loc_range_df[\"latitude\"] > (stop_loc_range_df.loc[i,\"latitude\"]-0.00005))&\n",
    "                                              (stop_loc_range_df[\"latitude\"] < (stop_loc_range_df.loc[i,\"latitude\"]+0.00005))].shape[0]\n",
    "\n",
    "# +-0.00005 17 meters\n",
    "# count\n",
    "stop_loc_range_df.head()"
   ]
  },
  {
   "cell_type": "code",
   "execution_count": 81,
   "metadata": {},
   "outputs": [
    {
     "ename": "NameError",
     "evalue": "name 'stop_loc_range_df' is not defined",
     "output_type": "error",
     "traceback": [
      "\u001b[0;31m---------------------------------------------------------------------------\u001b[0m",
      "\u001b[0;31mNameError\u001b[0m                                 Traceback (most recent call last)",
      "\u001b[0;32m<ipython-input-81-65c8db58c001>\u001b[0m in \u001b[0;36m<module>\u001b[0;34m()\u001b[0m\n\u001b[0;32m----> 1\u001b[0;31m \u001b[0mstop_loc_range_df_unique\u001b[0m \u001b[0;34m=\u001b[0m \u001b[0mstop_loc_range_df\u001b[0m\u001b[0;34m.\u001b[0m\u001b[0mdrop_duplicates\u001b[0m\u001b[0;34m(\u001b[0m\u001b[0;34m)\u001b[0m\u001b[0;34m.\u001b[0m\u001b[0msort_values\u001b[0m\u001b[0;34m(\u001b[0m\u001b[0;34m\"nearby\"\u001b[0m\u001b[0;34m,\u001b[0m\u001b[0mascending\u001b[0m \u001b[0;34m=\u001b[0m \u001b[0mFalse\u001b[0m\u001b[0;34m)\u001b[0m\u001b[0;34m\u001b[0m\u001b[0m\n\u001b[0m\u001b[1;32m      2\u001b[0m \u001b[0;31m# stop_loc_range_df_unique.head(30)\u001b[0m\u001b[0;34m\u001b[0m\u001b[0;34m\u001b[0m\u001b[0m\n\u001b[1;32m      3\u001b[0m \u001b[0mstop_loc_range_df_unique\u001b[0m \u001b[0;34m=\u001b[0m \u001b[0mstop_loc_range_df_unique\u001b[0m\u001b[0;34m[\u001b[0m\u001b[0;34m(\u001b[0m\u001b[0mstop_loc_range_df_unique\u001b[0m\u001b[0;34m[\u001b[0m\u001b[0;34m\"nearby\"\u001b[0m\u001b[0;34m]\u001b[0m\u001b[0;34m<\u001b[0m\u001b[0;36m100\u001b[0m\u001b[0;34m)\u001b[0m\u001b[0;34m&\u001b[0m\u001b[0;34m(\u001b[0m\u001b[0mstop_loc_range_df_unique\u001b[0m\u001b[0;34m[\u001b[0m\u001b[0;34m\"nearby\"\u001b[0m\u001b[0;34m]\u001b[0m\u001b[0;34m>\u001b[0m\u001b[0;36m50\u001b[0m\u001b[0;34m)\u001b[0m\u001b[0;34m]\u001b[0m\u001b[0;34m\u001b[0m\u001b[0m\n\u001b[1;32m      4\u001b[0m \u001b[0mstop_loc_range_df_unique\u001b[0m\u001b[0;34m.\u001b[0m\u001b[0mplot\u001b[0m\u001b[0;34m.\u001b[0m\u001b[0mscatter\u001b[0m\u001b[0;34m(\u001b[0m\u001b[0;34m\"longitude\"\u001b[0m\u001b[0;34m,\u001b[0m\u001b[0;34m\"latitude\"\u001b[0m\u001b[0;34m)\u001b[0m\u001b[0;34m\u001b[0m\u001b[0m\n",
      "\u001b[0;31mNameError\u001b[0m: name 'stop_loc_range_df' is not defined"
     ]
    }
   ],
   "source": [
    "stop_loc_range_df_unique = stop_loc_range_df.drop_duplicates().sort_values(\"nearby\",ascending = False)\n",
    "# stop_loc_range_df_unique.head(30)\n",
    "stop_loc_range_df_unique = stop_loc_range_df_unique[(stop_loc_range_df_unique[\"nearby\"]<100)&(stop_loc_range_df_unique[\"nearby\"]>50)]\n",
    "stop_loc_range_df_unique.plot.scatter(\"longitude\",\"latitude\")"
   ]
  },
  {
   "cell_type": "code",
   "execution_count": 74,
   "metadata": {
    "collapsed": true
   },
   "outputs": [],
   "source": [
    "# stop_loc_df[\"count\"] = 1\n",
    "# stop_loc_df\n",
    "\n",
    "# stop_loc_df.groupby([0,1]).ngroups\n",
    "# pd.unique(stop_loc_df[[0,1]]).values.ravel()\n",
    "# stop_loc_df.unique()"
   ]
  },
  {
   "cell_type": "markdown",
   "metadata": {
    "collapsed": true
   },
   "source": [
    "#### Baidu Maps API"
   ]
  },
  {
   "cell_type": "code",
   "execution_count": 92,
   "metadata": {
    "collapsed": true
   },
   "outputs": [],
   "source": [
    "from urllib2 import Request, urlopen, URLError"
   ]
  },
  {
   "cell_type": "code",
   "execution_count": 11,
   "metadata": {},
   "outputs": [
    {
     "data": {
      "text/html": [
       "<div>\n",
       "<style>\n",
       "    .dataframe thead tr:only-child th {\n",
       "        text-align: right;\n",
       "    }\n",
       "\n",
       "    .dataframe thead th {\n",
       "        text-align: left;\n",
       "    }\n",
       "\n",
       "    .dataframe tbody tr th {\n",
       "        vertical-align: top;\n",
       "    }\n",
       "</style>\n",
       "<table border=\"1\" class=\"dataframe\">\n",
       "  <thead>\n",
       "    <tr style=\"text-align: right;\">\n",
       "      <th></th>\n",
       "      <th>name\tlon</th>\n",
       "    </tr>\n",
       "  </thead>\n",
       "  <tbody>\n",
       "    <tr>\n",
       "      <th>�����й�����Ŧվ\\t\"113.14303</th>\n",
       "      <td>22.99001\"</td>\n",
       "    </tr>\n",
       "    <tr>\n",
       "      <th>������\\t\"113.141601</th>\n",
       "      <td>22.9893\"</td>\n",
       "    </tr>\n",
       "    <tr>\n",
       "      <th>������·\\t\"113.138105</th>\n",
       "      <td>22.988861\"</td>\n",
       "    </tr>\n",
       "    <tr>\n",
       "      <th>����·��\\t\"113.134698</th>\n",
       "      <td>22.988911\"</td>\n",
       "    </tr>\n",
       "    <tr>\n",
       "      <th>�غ�ܰͥ\\t\"113.130975</th>\n",
       "      <td>22.990432\"</td>\n",
       "    </tr>\n",
       "  </tbody>\n",
       "</table>\n",
       "</div>"
      ],
      "text/plain": [
       "                            name\\tlon\n",
       "�����й�����Ŧվ\\t\"113.14303   22.99001\"\n",
       "������\\t\"113.141601          22.9893\"\n",
       "������·\\t\"113.138105       22.988861\"\n",
       "����·��\\t\"113.134698       22.988911\"\n",
       "�غ�ܰͥ\\t\"113.130975         22.990432\""
      ]
     },
     "execution_count": 11,
     "metadata": {},
     "output_type": "execute_result"
    }
   ],
   "source": [
    "stop_loc = pd.read_csv(\"data/116_stop.csv\", header = 0)\n",
    "# stop_loc.head()\n",
    "stop_loc = stop_loc.reset_index()\n",
    "stop_loc[\"lon\"] = stop_loc[\"index\"].apply(lambda x:float(x.split(\"\\t\")[1][1:]))\n",
    "stop_loc[\"index\"] = stop_loc[\"index\"].apply(lambda x:x.split(\"\\t\")[0])\n",
    "stop_loc[\"name\\tlon\"] = stop_loc[\"name\\tlon\"].apply(lambda x:float(x[:-1]))\n",
    "stop_loc[\"lon_a\"] = stop_loc[\"lon\"] -0.0117\n",
    "stop_loc[\"lat_a\"] = stop_loc[\"lat\"] -0.0035000000000000005"
   ]
  },
  {
   "cell_type": "code",
   "execution_count": 63,
   "metadata": {
    "collapsed": true
   },
   "outputs": [],
   "source": [
    "stop_loc[\"lon_a\"] = stop_loc[\"lon\"] -0.0117\n",
    "stop_loc[\"lat_a\"] = stop_loc[\"lat\"] -0.0035000000000000005\n",
    "# -0.0117\n",
    "# -0.0035000000000000005"
   ]
  },
  {
   "cell_type": "code",
   "execution_count": 65,
   "metadata": {},
   "outputs": [
    {
     "data": {
      "text/html": [
       "<div>\n",
       "<style>\n",
       "    .dataframe thead tr:only-child th {\n",
       "        text-align: right;\n",
       "    }\n",
       "\n",
       "    .dataframe thead th {\n",
       "        text-align: left;\n",
       "    }\n",
       "\n",
       "    .dataframe tbody tr th {\n",
       "        vertical-align: top;\n",
       "    }\n",
       "</style>\n",
       "<table border=\"1\" class=\"dataframe\">\n",
       "  <thead>\n",
       "    <tr style=\"text-align: right;\">\n",
       "      <th></th>\n",
       "      <th>name</th>\n",
       "      <th>lat</th>\n",
       "      <th>lon</th>\n",
       "      <th>lon_a</th>\n",
       "      <th>lat_a</th>\n",
       "    </tr>\n",
       "  </thead>\n",
       "  <tbody>\n",
       "    <tr>\n",
       "      <th>0</th>\n",
       "      <td>�����й�����Ŧվ</td>\n",
       "      <td>22.990010</td>\n",
       "      <td>113.143030</td>\n",
       "      <td>113.131330</td>\n",
       "      <td>22.986510</td>\n",
       "    </tr>\n",
       "    <tr>\n",
       "      <th>1</th>\n",
       "      <td>������</td>\n",
       "      <td>22.989300</td>\n",
       "      <td>113.141601</td>\n",
       "      <td>113.129901</td>\n",
       "      <td>22.985800</td>\n",
       "    </tr>\n",
       "    <tr>\n",
       "      <th>2</th>\n",
       "      <td>������·</td>\n",
       "      <td>22.988861</td>\n",
       "      <td>113.138105</td>\n",
       "      <td>113.126405</td>\n",
       "      <td>22.985361</td>\n",
       "    </tr>\n",
       "    <tr>\n",
       "      <th>3</th>\n",
       "      <td>����·��</td>\n",
       "      <td>22.988911</td>\n",
       "      <td>113.134698</td>\n",
       "      <td>113.122998</td>\n",
       "      <td>22.985411</td>\n",
       "    </tr>\n",
       "    <tr>\n",
       "      <th>4</th>\n",
       "      <td>�غ�ܰͥ</td>\n",
       "      <td>22.990432</td>\n",
       "      <td>113.130975</td>\n",
       "      <td>113.119275</td>\n",
       "      <td>22.986932</td>\n",
       "    </tr>\n",
       "  </tbody>\n",
       "</table>\n",
       "</div>"
      ],
      "text/plain": [
       "            name        lat         lon       lon_a      lat_a\n",
       "0  �����й�����Ŧվ  22.990010  113.143030  113.131330  22.986510\n",
       "1         ������  22.989300  113.141601  113.129901  22.985800\n",
       "2        ������·  22.988861  113.138105  113.126405  22.985361\n",
       "3        ����·��  22.988911  113.134698  113.122998  22.985411\n",
       "4          �غ�ܰͥ  22.990432  113.130975  113.119275  22.986932"
      ]
     },
     "execution_count": 65,
     "metadata": {},
     "output_type": "execute_result"
    }
   ],
   "source": [
    "stop_loc.columns = [\"name\",\"lat\",\"lon\",\"\"]\n",
    "stop_loc.head()\n"
   ]
  },
  {
   "cell_type": "code",
   "execution_count": 109,
   "metadata": {},
   "outputs": [
    {
     "data": {
      "text/plain": [
       "<matplotlib.axes._subplots.AxesSubplot at 0x12a99cd10>"
      ]
     },
     "execution_count": 109,
     "metadata": {},
     "output_type": "execute_result"
    },
    {
     "data": {
      "image/png": "[encoded data removed]",
      "text/plain": [
       "<matplotlib.figure.Figure at 0x12632f790>"
      ]
     },
     "metadata": {},
     "output_type": "display_data"
    }
   ],
   "source": [
    "stop_loc.plot(x=\"lon\",y=\"lat\", kind = \"scatter\")"
   ]
  },
  {
   "cell_type": "code",
   "execution_count": 71,
   "metadata": {
    "scrolled": true
   },
   "outputs": [
    {
     "data": {
      "text/plain": [
       "<matplotlib.axes._subplots.AxesSubplot at 0x14a50c4d0>"
      ]
     },
     "execution_count": 71,
     "metadata": {},
     "output_type": "execute_result"
    },
    {
     "data": {
      "text/plain": [
       "<matplotlib.figure.Figure at 0x12884dad0>"
      ]
     },
     "metadata": {},
     "output_type": "display_data"
    },
    {
     "data": {
      "image/png": "[encoded data removed]",
      "text/plain": [
       "<matplotlib.figure.Figure at 0x12885e3d0>"
      ]
     },
     "metadata": {},
     "output_type": "display_data"
    }
   ],
   "source": [
    "# stop_loc_df_unique.columns = [\"lon\",\"lat\",\"nearby\"]\n",
    "plt.figure()\n",
    "# stop_loc.plot(x=\"lon\",y=\"lat\", kind = \"scatter\")\n",
    "# stop_loc_df_unique.plot(x=\"longitude\", y= \"latitude\", kind = \"scatter\",secondary_y=True, style='g' )\n",
    "# with pd.plot_params.use('x_compat', True):\n",
    "a = stop_loc_15_df.plot(x=\"longitude\", y= \"latitude\", kind = \"scatter\", color = \"red\", alpha=0.1)\n",
    "stop_loc.plot(x=\"lon_a\",y=\"lat_a\", kind = \"scatter\",  color = \"black\", ax = a)\n",
    "#     \"longitude\",\"latitude\""
   ]
  },
  {
   "cell_type": "code",
   "execution_count": 159,
   "metadata": {},
   "outputs": [
    {
     "data": {
      "text/html": [
       "<div>\n",
       "<style>\n",
       "    .dataframe thead tr:only-child th {\n",
       "        text-align: right;\n",
       "    }\n",
       "\n",
       "    .dataframe thead th {\n",
       "        text-align: left;\n",
       "    }\n",
       "\n",
       "    .dataframe tbody tr th {\n",
       "        vertical-align: top;\n",
       "    }\n",
       "</style>\n",
       "<table border=\"1\" class=\"dataframe\">\n",
       "  <thead>\n",
       "    <tr style=\"text-align: right;\">\n",
       "      <th></th>\n",
       "      <th>longitude</th>\n",
       "      <th>latitude</th>\n",
       "      <th>nearby</th>\n",
       "    </tr>\n",
       "    <tr>\n",
       "      <th>raw_index</th>\n",
       "      <th></th>\n",
       "      <th></th>\n",
       "      <th></th>\n",
       "    </tr>\n",
       "  </thead>\n",
       "  <tbody>\n",
       "    <tr>\n",
       "      <th>8682025</th>\n",
       "      <td>113.13155</td>\n",
       "      <td>22.98566</td>\n",
       "      <td>299</td>\n",
       "    </tr>\n",
       "    <tr>\n",
       "      <th>2917945</th>\n",
       "      <td>113.14618</td>\n",
       "      <td>23.02153</td>\n",
       "      <td>299</td>\n",
       "    </tr>\n",
       "    <tr>\n",
       "      <th>1306389</th>\n",
       "      <td>113.14571</td>\n",
       "      <td>23.02163</td>\n",
       "      <td>299</td>\n",
       "    </tr>\n",
       "    <tr>\n",
       "      <th>6831855</th>\n",
       "      <td>113.01735</td>\n",
       "      <td>23.04670</td>\n",
       "      <td>299</td>\n",
       "    </tr>\n",
       "    <tr>\n",
       "      <th>8057153</th>\n",
       "      <td>113.14625</td>\n",
       "      <td>23.02163</td>\n",
       "      <td>298</td>\n",
       "    </tr>\n",
       "  </tbody>\n",
       "</table>\n",
       "</div>"
      ],
      "text/plain": [
       "           longitude  latitude  nearby\n",
       "raw_index                             \n",
       "8682025    113.13155  22.98566     299\n",
       "2917945    113.14618  23.02153     299\n",
       "1306389    113.14571  23.02163     299\n",
       "6831855    113.01735  23.04670     299\n",
       "8057153    113.14625  23.02163     298"
      ]
     },
     "execution_count": 159,
     "metadata": {},
     "output_type": "execute_result"
    }
   ],
   "source": [
    "stop_loc_df_unique.head()"
   ]
  },
  {
   "cell_type": "code",
   "execution_count": 18,
   "metadata": {},
   "outputs": [
    {
     "data": {
      "text/plain": [
       "(136627, 2)"
      ]
     },
     "execution_count": 18,
     "metadata": {},
     "output_type": "execute_result"
    }
   ],
   "source": [
    "stop_loc_15_df.shape()"
   ]
  },
  {
   "cell_type": "code",
   "execution_count": 23,
   "metadata": {},
   "outputs": [
    {
     "data": {
      "text/plain": [
       "(5972, 3)"
      ]
     },
     "execution_count": 23,
     "metadata": {},
     "output_type": "execute_result"
    }
   ],
   "source": [
    "# stop_loc.head()\n",
    "stop_loc_15_df_unique.shape"
   ]
  },
  {
   "cell_type": "markdown",
   "metadata": {},
   "source": [
    "Bus Stop Candidates"
   ]
  },
  {
   "cell_type": "code",
   "execution_count": 84,
   "metadata": {
    "collapsed": true
   },
   "outputs": [],
   "source": [
    "from sklearn.cluster import KMeans\n",
    "kmeans = KMeans(n_clusters=50, random_state=0).fit(stop_loc_15_df_unique[[\"longitude\",\"latitude\"]])"
   ]
  },
  {
   "cell_type": "code",
   "execution_count": 83,
   "metadata": {},
   "outputs": [
    {
     "data": {
      "text/plain": [
       "<matplotlib.axes._subplots.AxesSubplot at 0x1c4eae310>"
      ]
     },
     "execution_count": 83,
     "metadata": {},
     "output_type": "execute_result"
    },
    {
     "data": {
      "image/png": "[encoded data removed]",
      "text/plain": [
       "<matplotlib.figure.Figure at 0x1c4ead050>"
      ]
     },
     "metadata": {},
     "output_type": "display_data"
    }
   ],
   "source": [
    "stop_loc_15_df_unique = stop_loc_15_df.drop_duplicates().sort_values(\"nearby\",ascending = False)\n",
    "# stop_loc_15_df_unique.head(30)\n",
    "stop_loc_15_df_unique = stop_loc_15_df_unique[(stop_loc_15_df_unique[\"nearby\"]<1000)&(stop_loc_15_df_unique[\"nearby\"]>20)]\n",
    "stop_loc_15_df_unique.plot.scatter(\"longitude\",\"latitude\")\n"
   ]
  },
  {
   "cell_type": "code",
   "execution_count": 85,
   "metadata": {},
   "outputs": [
    {
     "data": {
      "text/plain": [
       "<matplotlib.axes._subplots.AxesSubplot at 0x1b2b66f10>"
      ]
     },
     "execution_count": 85,
     "metadata": {},
     "output_type": "execute_result"
    },
    {
     "data": {
      "text/plain": [
       "<matplotlib.figure.Figure at 0x154d7da90>"
      ]
     },
     "metadata": {},
     "output_type": "display_data"
    },
    {
     "data": {
      "image/png": "[encoded data removed]",
      "text/plain": [
       "<matplotlib.figure.Figure at 0x1ca7f1150>"
      ]
     },
     "metadata": {},
     "output_type": "display_data"
    }
   ],
   "source": [
    "plt.figure()\n",
    "# stop_loc.plot(x=\"lon\",y=\"lat\", kind = \"scatter\")\n",
    "# stop_loc_df_unique.plot(x=\"longitude\", y= \"latitude\", kind = \"scatter\",secondary_y=True, style='g' )\n",
    "# with pd.plot_params.use('x_compat', True):\n",
    "# a = \n",
    "pd.DataFrame(kmeans.cluster_centers_).plot(x=0, y= 1, kind = \"scatter\",color = \"red\")\n",
    "# stop_loc_15_df.plot(x=\"longitude\", y= \"latitude\", kind = \"scatter\", color = \"red\", alpha=0.1)\n",
    "# stop_loc.plot(x=\"lon_a\",y=\"lat_a\", kind = \"scatter\",  color = \"black\", ax = a)\n",
    "# pd.DataFrame(kmeans.cluster_centers_)"
   ]
  },
  {
   "cell_type": "code",
   "execution_count": 78,
   "metadata": {},
   "outputs": [
    {
     "data": {
      "text/plain": [
       "<matplotlib.axes._subplots.AxesSubplot at 0x1e23a2390>"
      ]
     },
     "execution_count": 78,
     "metadata": {},
     "output_type": "execute_result"
    },
    {
     "data": {
      "image/png": "[encoded data removed]",
      "text/plain": [
       "<matplotlib.figure.Figure at 0x1440d4090>"
      ]
     },
     "metadata": {},
     "output_type": "display_data"
    }
   ],
   "source": [
    "stop_loc.plot(x=\"lon_a\",y=\"lat_a\", kind = \"scatter\",  color = \"black\")\n",
    "dbscan\n",
    "large area\n",
    "large threshold"
   ]
  },
  {
   "cell_type": "code",
   "execution_count": 51,
   "metadata": {
    "collapsed": true
   },
   "outputs": [],
   "source": [
    "stop_loc_hat = pd.DataFrame(kmeans.cluster_centers_)"
   ]
  },
  {
   "cell_type": "code",
   "execution_count": 62,
   "metadata": {},
   "outputs": [
    {
     "data": {
      "text/plain": [
       "-0.0117"
      ]
     },
     "execution_count": 62,
     "metadata": {},
     "output_type": "execute_result"
    }
   ],
   "source": [
    "(67, 85)\n",
    "\n",
    "-0.005 - 67*0.0001"
   ]
  },
  {
   "cell_type": "code",
   "execution_count": 61,
   "metadata": {},
   "outputs": [
    {
     "data": {
      "text/plain": [
       "-0.0035000000000000005"
      ]
     },
     "execution_count": 61,
     "metadata": {},
     "output_type": "execute_result"
    }
   ],
   "source": [
    "0.005 - 85*0.0001"
   ]
  },
  {
   "cell_type": "code",
   "execution_count": null,
   "metadata": {
    "collapsed": true
   },
   "outputs": [],
   "source": [
    "-0.0117\n",
    "-0.0035000000000000005"
   ]
  }
 ],
 "metadata": {
  "kernelspec": {
   "display_name": "Python 2",
   "language": "python",
   "name": "python2"
  },
  "language_info": {
   "codemirror_mode": {
    "name": "ipython",
    "version": 2
   },
   "file_extension": ".py",
   "mimetype": "text/x-python",
   "name": "python",
   "nbconvert_exporter": "python",
   "pygments_lexer": "ipython2",
   "version": "2.7.13"
  }
 },
 "nbformat": 4,
 "nbformat_minor": 2
}
