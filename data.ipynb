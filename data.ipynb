{
 "cells": [
  {
   "cell_type": "code",
   "execution_count": 1,
   "metadata": {
    "collapsed": true
   },
   "outputs": [],
   "source": [
    "import pandas as pd\n",
    "from datetime import datetime\n"
   ]
  },
  {
   "cell_type": "code",
   "execution_count": 19,
   "metadata": {},
   "outputs": [],
   "source": [
    "data = pd.read_csv(\"116\",sep = \"\\t\" , header = None)\n",
    "# data.head()"
   ]
  },
  {
   "cell_type": "code",
   "execution_count": 20,
   "metadata": {},
   "outputs": [
    {
     "data": {
      "text/html": [
       "<div>\n",
       "<style>\n",
       "    .dataframe thead tr:only-child th {\n",
       "        text-align: right;\n",
       "    }\n",
       "\n",
       "    .dataframe thead th {\n",
       "        text-align: left;\n",
       "    }\n",
       "\n",
       "    .dataframe tbody tr th {\n",
       "        vertical-align: top;\n",
       "    }\n",
       "</style>\n",
       "<table border=\"1\" class=\"dataframe\">\n",
       "  <thead>\n",
       "    <tr style=\"text-align: right;\">\n",
       "      <th></th>\n",
       "      <th>0</th>\n",
       "      <th>1</th>\n",
       "      <th>2</th>\n",
       "      <th>3</th>\n",
       "      <th>4</th>\n",
       "      <th>5</th>\n",
       "      <th>6</th>\n",
       "      <th>7</th>\n",
       "      <th>8</th>\n",
       "      <th>9</th>\n",
       "    </tr>\n",
       "  </thead>\n",
       "  <tbody>\n",
       "    <tr>\n",
       "      <th>0</th>\n",
       "      <td>GPS</td>\n",
       "      <td>粤E19204</td>\n",
       "      <td>116</td>\n",
       "      <td>-1</td>\n",
       "      <td>113.14631</td>\n",
       "      <td>23.02181</td>\n",
       "      <td>2015-07-01 00:01:30</td>\n",
       "      <td>-1</td>\n",
       "      <td>-1</td>\n",
       "      <td>2015-07-01 00:01:34</td>\n",
       "    </tr>\n",
       "    <tr>\n",
       "      <th>1</th>\n",
       "      <td>GPS</td>\n",
       "      <td>粤E19207</td>\n",
       "      <td>116</td>\n",
       "      <td>-1</td>\n",
       "      <td>113.09928</td>\n",
       "      <td>23.05066</td>\n",
       "      <td>2015-07-01 00:01:30</td>\n",
       "      <td>-1</td>\n",
       "      <td>-1</td>\n",
       "      <td>2015-07-01 00:01:34</td>\n",
       "    </tr>\n",
       "    <tr>\n",
       "      <th>2</th>\n",
       "      <td>GPS</td>\n",
       "      <td>粤E16952</td>\n",
       "      <td>116</td>\n",
       "      <td>-1</td>\n",
       "      <td>113.14620</td>\n",
       "      <td>23.02110</td>\n",
       "      <td>2015-07-01 00:01:25</td>\n",
       "      <td>-1</td>\n",
       "      <td>-1</td>\n",
       "      <td>2015-07-01 00:01:34</td>\n",
       "    </tr>\n",
       "    <tr>\n",
       "      <th>3</th>\n",
       "      <td>GPS</td>\n",
       "      <td>粤E19205</td>\n",
       "      <td>116</td>\n",
       "      <td>-1</td>\n",
       "      <td>113.14623</td>\n",
       "      <td>23.02135</td>\n",
       "      <td>2015-07-01 00:01:31</td>\n",
       "      <td>-1</td>\n",
       "      <td>-1</td>\n",
       "      <td>2015-07-01 00:01:35</td>\n",
       "    </tr>\n",
       "    <tr>\n",
       "      <th>4</th>\n",
       "      <td>GPS</td>\n",
       "      <td>粤E17022</td>\n",
       "      <td>116</td>\n",
       "      <td>-1</td>\n",
       "      <td>113.14618</td>\n",
       "      <td>23.02138</td>\n",
       "      <td>2015-07-01 00:01:30</td>\n",
       "      <td>-1</td>\n",
       "      <td>-1</td>\n",
       "      <td>2015-07-01 00:01:35</td>\n",
       "    </tr>\n",
       "  </tbody>\n",
       "</table>\n",
       "</div>"
      ],
      "text/plain": [
       "     0        1    2  3          4         5                    6  7  8  \\\n",
       "0  GPS  粤E19204  116 -1  113.14631  23.02181  2015-07-01 00:01:30 -1 -1   \n",
       "1  GPS  粤E19207  116 -1  113.09928  23.05066  2015-07-01 00:01:30 -1 -1   \n",
       "2  GPS  粤E16952  116 -1  113.14620  23.02110  2015-07-01 00:01:25 -1 -1   \n",
       "3  GPS  粤E19205  116 -1  113.14623  23.02135  2015-07-01 00:01:31 -1 -1   \n",
       "4  GPS  粤E17022  116 -1  113.14618  23.02138  2015-07-01 00:01:30 -1 -1   \n",
       "\n",
       "                     9  \n",
       "0  2015-07-01 00:01:34  \n",
       "1  2015-07-01 00:01:34  \n",
       "2  2015-07-01 00:01:34  \n",
       "3  2015-07-01 00:01:35  \n",
       "4  2015-07-01 00:01:35  "
      ]
     },
     "execution_count": 20,
     "metadata": {},
     "output_type": "execute_result"
    }
   ],
   "source": [
    "data.head()"
   ]
  },
  {
   "cell_type": "code",
   "execution_count": 38,
   "metadata": {
    "collapsed": true
   },
   "outputs": [],
   "source": [
    "bus1 = data[data[1] == \"粤E19204\"]\n",
    "bus1 = bus1.reset_index(drop=True)"
   ]
  },
  {
   "cell_type": "code",
   "execution_count": 51,
   "metadata": {},
   "outputs": [
    {
     "data": {
      "text/html": [
       "<div>\n",
       "<style>\n",
       "    .dataframe thead tr:only-child th {\n",
       "        text-align: right;\n",
       "    }\n",
       "\n",
       "    .dataframe thead th {\n",
       "        text-align: left;\n",
       "    }\n",
       "\n",
       "    .dataframe tbody tr th {\n",
       "        vertical-align: top;\n",
       "    }\n",
       "</style>\n",
       "<table border=\"1\" class=\"dataframe\">\n",
       "  <thead>\n",
       "    <tr style=\"text-align: right;\">\n",
       "      <th></th>\n",
       "      <th>0</th>\n",
       "      <th>1</th>\n",
       "      <th>2</th>\n",
       "      <th>3</th>\n",
       "      <th>4</th>\n",
       "      <th>5</th>\n",
       "      <th>6</th>\n",
       "      <th>7</th>\n",
       "      <th>8</th>\n",
       "      <th>9</th>\n",
       "    </tr>\n",
       "  </thead>\n",
       "  <tbody>\n",
       "    <tr>\n",
       "      <th>0</th>\n",
       "      <td>GPS</td>\n",
       "      <td>粤E19204</td>\n",
       "      <td>116</td>\n",
       "      <td>-1</td>\n",
       "      <td>113.14631</td>\n",
       "      <td>23.02181</td>\n",
       "      <td>2015-07-01 00:01:30</td>\n",
       "      <td>-1</td>\n",
       "      <td>-1</td>\n",
       "      <td>2015-07-01 00:01:34</td>\n",
       "    </tr>\n",
       "    <tr>\n",
       "      <th>1</th>\n",
       "      <td>GPS</td>\n",
       "      <td>粤E19204</td>\n",
       "      <td>116</td>\n",
       "      <td>-1</td>\n",
       "      <td>113.14631</td>\n",
       "      <td>23.02181</td>\n",
       "      <td>2015-07-01 00:01:35</td>\n",
       "      <td>-1</td>\n",
       "      <td>-1</td>\n",
       "      <td>2015-07-01 00:01:39</td>\n",
       "    </tr>\n",
       "    <tr>\n",
       "      <th>2</th>\n",
       "      <td>GPS</td>\n",
       "      <td>粤E19204</td>\n",
       "      <td>116</td>\n",
       "      <td>-1</td>\n",
       "      <td>113.14631</td>\n",
       "      <td>23.02181</td>\n",
       "      <td>2015-07-01 00:01:40</td>\n",
       "      <td>-1</td>\n",
       "      <td>-1</td>\n",
       "      <td>2015-07-01 00:01:44</td>\n",
       "    </tr>\n",
       "    <tr>\n",
       "      <th>3</th>\n",
       "      <td>GPS</td>\n",
       "      <td>粤E19204</td>\n",
       "      <td>116</td>\n",
       "      <td>-1</td>\n",
       "      <td>113.14631</td>\n",
       "      <td>23.02181</td>\n",
       "      <td>2015-07-01 00:01:45</td>\n",
       "      <td>-1</td>\n",
       "      <td>-1</td>\n",
       "      <td>2015-07-01 00:01:47</td>\n",
       "    </tr>\n",
       "    <tr>\n",
       "      <th>4</th>\n",
       "      <td>GPS</td>\n",
       "      <td>粤E19204</td>\n",
       "      <td>116</td>\n",
       "      <td>-1</td>\n",
       "      <td>113.14631</td>\n",
       "      <td>23.02181</td>\n",
       "      <td>2015-07-01 00:01:50</td>\n",
       "      <td>-1</td>\n",
       "      <td>-1</td>\n",
       "      <td>2015-07-01 00:01:54</td>\n",
       "    </tr>\n",
       "  </tbody>\n",
       "</table>\n",
       "</div>"
      ],
      "text/plain": [
       "     0        1    2  3          4         5                    6  7  8  \\\n",
       "0  GPS  粤E19204  116 -1  113.14631  23.02181  2015-07-01 00:01:30 -1 -1   \n",
       "1  GPS  粤E19204  116 -1  113.14631  23.02181  2015-07-01 00:01:35 -1 -1   \n",
       "2  GPS  粤E19204  116 -1  113.14631  23.02181  2015-07-01 00:01:40 -1 -1   \n",
       "3  GPS  粤E19204  116 -1  113.14631  23.02181  2015-07-01 00:01:45 -1 -1   \n",
       "4  GPS  粤E19204  116 -1  113.14631  23.02181  2015-07-01 00:01:50 -1 -1   \n",
       "\n",
       "                     9  \n",
       "0  2015-07-01 00:01:34  \n",
       "1  2015-07-01 00:01:39  \n",
       "2  2015-07-01 00:01:44  \n",
       "3  2015-07-01 00:01:47  \n",
       "4  2015-07-01 00:01:54  "
      ]
     },
     "execution_count": 51,
     "metadata": {},
     "output_type": "execute_result"
    }
   ],
   "source": [
    "bus1.head()\n",
    "# bus1.describe"
   ]
  },
  {
   "cell_type": "code",
   "execution_count": 50,
   "metadata": {},
   "outputs": [
    {
     "data": {
      "text/plain": [
       "342658"
      ]
     },
     "execution_count": 50,
     "metadata": {},
     "output_type": "execute_result"
    }
   ],
   "source": [
    "# datetime.strptime()\n",
    "\n",
    "# data[6][0]\n",
    "\n",
    "# datetime.strptime(data[6][0],'%Y-%m-%d %H-')\n",
    "\n",
    "# pd.to_datetime(data.loc[:1000][6])\n",
    "\n",
    "# data[6]\n",
    "\n",
    "bus1\n",
    "not_working = []\n",
    "last_loc = (bus1.loc[0][4], bus1.loc[0][5])\n",
    "\n",
    "# last_loc\n",
    "caching = []\n",
    "for i in range(bus1.shape[0]):\n",
    "    if bus1.loc[i][4] == last_loc[0] and bus1.loc[i][5] == last_loc[1]:\n",
    "        caching.append(i)\n",
    "    else:\n",
    "        if len(caching) > 120:\n",
    "            not_working = not_working + caching\n",
    "        caching = []\n",
    "        last_loc = (bus1.loc[i][4], bus1.loc[i][5])\n",
    "\n",
    "len(not_working)\n",
    "# bus1.loc[5]\n",
    "\n",
    "# bus1.shape\n",
    "\n",
    "# for \n",
    "\n",
    "# data"
   ]
  },
  {
   "cell_type": "code",
   "execution_count": 52,
   "metadata": {},
   "outputs": [
    {
     "data": {
      "text/plain": [
       "[498148,\n",
       " 498149,\n",
       " 498150,\n",
       " 498151,\n",
       " 498152,\n",
       " 498153,\n",
       " 498154,\n",
       " 498155,\n",
       " 498156,\n",
       " 498157]"
      ]
     },
     "execution_count": 52,
     "metadata": {},
     "output_type": "execute_result"
    }
   ],
   "source": [
    "caching[:10]"
   ]
  },
  {
   "cell_type": "code",
   "execution_count": null,
   "metadata": {
    "collapsed": true
   },
   "outputs": [],
   "source": []
  }
 ],
 "metadata": {
  "kernelspec": {
   "display_name": "Python 2",
   "language": "python",
   "name": "python2"
  },
  "language_info": {
   "codemirror_mode": {
    "name": "ipython",
    "version": 2
   },
   "file_extension": ".py",
   "mimetype": "text/x-python",
   "name": "python",
   "nbconvert_exporter": "python",
   "pygments_lexer": "ipython2",
   "version": "2.7.13"
  }
 },
 "nbformat": 4,
 "nbformat_minor": 2
}
