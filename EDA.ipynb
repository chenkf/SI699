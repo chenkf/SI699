{
 "cells": [
  {
   "cell_type": "markdown",
   "metadata": {},
   "source": [
    "# Exploration of Bus Route 116 Data"
   ]
  },
  {
   "cell_type": "code",
   "execution_count": 1,
   "metadata": {
    "collapsed": true
   },
   "outputs": [],
   "source": [
    "import pandas as pd\n",
    "from datetime import datetime, timedelta\n",
    "import pickle\n",
    "\n",
    "%matplotlib inline\n",
    "import matplotlib as mpl\n",
    "mpl.rcParams['figure.figsize'] = (10,10)"
   ]
  },
  {
   "cell_type": "markdown",
   "metadata": {},
   "source": [
    "## Load route 116"
   ]
  },
  {
   "cell_type": "code",
   "execution_count": 2,
   "metadata": {
    "collapsed": true
   },
   "outputs": [],
   "source": [
    "data = pd.read_csv(\"data/116\", sep='\\t',header=None)"
   ]
  },
  {
   "cell_type": "markdown",
   "metadata": {},
   "source": [
    "## Metadata\n",
    "GPS,车辆编号,翻译线路编号（没有为-）,方向（0上行1下行，-1表示没有）,wgs84坐标系经度,纬度,校准后数据时间,速度（不一定有，没有-1）,角度（不一定有，没有-1）,原始数据接收时间，运营/非运营(1表示非运营,0表示运营,-1表示未知),线路编号（没有为-）,指定线路编号（没有为-）,数据来源(0：公交/交委、其他你们可以不用)，8位随机数字，原始数据时间"
   ]
  },
  {
   "cell_type": "code",
   "execution_count": 3,
   "metadata": {
    "collapsed": true
   },
   "outputs": [],
   "source": [
    "data.columns = [\"GPS\", \"licence_plate_number\",\"route\",\"direction\",\"longitude\",\"latitude\",\n",
    "               \"calibrated_time\",\"velocity\",\"angle\",\"raw_time\"]"
   ]
  },
  {
   "cell_type": "code",
   "execution_count": 4,
   "metadata": {
    "scrolled": true
   },
   "outputs": [
    {
     "data": {
      "text/plain": [
       "array([-1])"
      ]
     },
     "execution_count": 4,
     "metadata": {},
     "output_type": "execute_result"
    }
   ],
   "source": [
    "data.angle.unique()"
   ]
  },
  {
   "cell_type": "code",
   "execution_count": 5,
   "metadata": {},
   "outputs": [
    {
     "data": {
      "text/plain": [
       "array([-1])"
      ]
     },
     "execution_count": 5,
     "metadata": {},
     "output_type": "execute_result"
    }
   ],
   "source": [
    "data.velocity.unique()"
   ]
  },
  {
   "cell_type": "markdown",
   "metadata": {},
   "source": [
    "## Select certain fields"
   ]
  },
  {
   "cell_type": "code",
   "execution_count": 6,
   "metadata": {
    "collapsed": true
   },
   "outputs": [],
   "source": [
    "data = data[[\"licence_plate_number\",\"route\",\"longitude\",\"latitude\",\"calibrated_time\",\"raw_time\"]]"
   ]
  },
  {
   "cell_type": "code",
   "execution_count": 7,
   "metadata": {},
   "outputs": [
    {
     "data": {
      "text/html": [
       "<div>\n",
       "<style>\n",
       "    .dataframe thead tr:only-child th {\n",
       "        text-align: right;\n",
       "    }\n",
       "\n",
       "    .dataframe thead th {\n",
       "        text-align: left;\n",
       "    }\n",
       "\n",
       "    .dataframe tbody tr th {\n",
       "        vertical-align: top;\n",
       "    }\n",
       "</style>\n",
       "<table border=\"1\" class=\"dataframe\">\n",
       "  <thead>\n",
       "    <tr style=\"text-align: right;\">\n",
       "      <th></th>\n",
       "      <th>licence_plate_number</th>\n",
       "      <th>route</th>\n",
       "      <th>longitude</th>\n",
       "      <th>latitude</th>\n",
       "      <th>calibrated_time</th>\n",
       "      <th>raw_time</th>\n",
       "    </tr>\n",
       "  </thead>\n",
       "  <tbody>\n",
       "    <tr>\n",
       "      <th>0</th>\n",
       "      <td>粤E19204</td>\n",
       "      <td>116</td>\n",
       "      <td>113.14631</td>\n",
       "      <td>23.02181</td>\n",
       "      <td>2015-07-01 00:01:30</td>\n",
       "      <td>2015-07-01 00:01:34</td>\n",
       "    </tr>\n",
       "    <tr>\n",
       "      <th>1</th>\n",
       "      <td>粤E19207</td>\n",
       "      <td>116</td>\n",
       "      <td>113.09928</td>\n",
       "      <td>23.05066</td>\n",
       "      <td>2015-07-01 00:01:30</td>\n",
       "      <td>2015-07-01 00:01:34</td>\n",
       "    </tr>\n",
       "    <tr>\n",
       "      <th>2</th>\n",
       "      <td>粤E16952</td>\n",
       "      <td>116</td>\n",
       "      <td>113.14620</td>\n",
       "      <td>23.02110</td>\n",
       "      <td>2015-07-01 00:01:25</td>\n",
       "      <td>2015-07-01 00:01:34</td>\n",
       "    </tr>\n",
       "    <tr>\n",
       "      <th>3</th>\n",
       "      <td>粤E19205</td>\n",
       "      <td>116</td>\n",
       "      <td>113.14623</td>\n",
       "      <td>23.02135</td>\n",
       "      <td>2015-07-01 00:01:31</td>\n",
       "      <td>2015-07-01 00:01:35</td>\n",
       "    </tr>\n",
       "    <tr>\n",
       "      <th>4</th>\n",
       "      <td>粤E17022</td>\n",
       "      <td>116</td>\n",
       "      <td>113.14618</td>\n",
       "      <td>23.02138</td>\n",
       "      <td>2015-07-01 00:01:30</td>\n",
       "      <td>2015-07-01 00:01:35</td>\n",
       "    </tr>\n",
       "  </tbody>\n",
       "</table>\n",
       "</div>"
      ],
      "text/plain": [
       "  licence_plate_number  route  longitude  latitude      calibrated_time  \\\n",
       "0              粤E19204    116  113.14631  23.02181  2015-07-01 00:01:30   \n",
       "1              粤E19207    116  113.09928  23.05066  2015-07-01 00:01:30   \n",
       "2              粤E16952    116  113.14620  23.02110  2015-07-01 00:01:25   \n",
       "3              粤E19205    116  113.14623  23.02135  2015-07-01 00:01:31   \n",
       "4              粤E17022    116  113.14618  23.02138  2015-07-01 00:01:30   \n",
       "\n",
       "              raw_time  \n",
       "0  2015-07-01 00:01:34  \n",
       "1  2015-07-01 00:01:34  \n",
       "2  2015-07-01 00:01:34  \n",
       "3  2015-07-01 00:01:35  \n",
       "4  2015-07-01 00:01:35  "
      ]
     },
     "execution_count": 7,
     "metadata": {},
     "output_type": "execute_result"
    }
   ],
   "source": [
    "data.head()"
   ]
  },
  {
   "cell_type": "markdown",
   "metadata": {},
   "source": [
    "### How many records are there?"
   ]
  },
  {
   "cell_type": "code",
   "execution_count": 8,
   "metadata": {},
   "outputs": [
    {
     "data": {
      "text/plain": [
       "(9896391, 6)"
      ]
     },
     "execution_count": 8,
     "metadata": {},
     "output_type": "execute_result"
    }
   ],
   "source": [
    "data.shape"
   ]
  },
  {
   "cell_type": "markdown",
   "metadata": {},
   "source": [
    "## Clean the data"
   ]
  },
  {
   "cell_type": "markdown",
   "metadata": {},
   "source": [
    "### Throw away the records with inappropriate time range"
   ]
  },
  {
   "cell_type": "code",
   "execution_count": 9,
   "metadata": {
    "collapsed": true
   },
   "outputs": [],
   "source": [
    "# # Generate all unique seconds, minutes, hours.\n",
    "# now = datetime(2000, 1, 1, 0, 0, 0)\n",
    "# last = datetime(2000, 1, 2, 0, 0, 0)\n",
    "# delta = timedelta(seconds=1)\n",
    "\n",
    "# seconds = set()\n",
    "# minutes = set()\n",
    "# hours = set()\n",
    "# while now < last:\n",
    "#     second = now.strftime('%S')\n",
    "#     minute = now.strftime('%M')\n",
    "#     hour = now.strftime('%H')\n",
    "#     seconds.add(second)\n",
    "#     minutes.add(minute)\n",
    "#     hours.add(hour)\n",
    "#     now += delta\n",
    "# seconds = list(seconds)\n",
    "# minutes = list(minutes)\n",
    "# hours = list(hours)\n",
    "\n",
    "# # Generate all unique months.\n",
    "# months=[\"01\", \"02\", \"03\", \"04\", \"05\", \"06\", \"07\", \"08\", \"09\", \"10\", \"11\", \"12\"]\n",
    "\n",
    "seconds = [str(s).zfill(2)  for s in range(60)]\n",
    "minutes = [str(s).zfill(2)  for s in range(60)]\n",
    "hours = [str(s).zfill(2)  for s in range(24)]\n",
    "months = [str(s).zfill(2)  for s in range(1,13)]"
   ]
  },
  {
   "cell_type": "code",
   "execution_count": 10,
   "metadata": {
    "collapsed": true
   },
   "outputs": [],
   "source": [
    "# for time in [\"calibrated_time\", \"raw_time\"]:\n",
    "for time in [\"calibrated_time\"]:\n",
    "    data = data[data[time].str[-2:].isin(seconds)]\n",
    "    data = data[data[time].str[-5:-3].isin(minutes)]\n",
    "    data = data[data[time].str[-8:-6].isin(hours)]\n",
    "    data = data[data[time].str[5:7].isin(months)]\n",
    "    data = data[data[time].str[:4].isin([\"2015\"])]"
   ]
  },
  {
   "cell_type": "markdown",
   "metadata": {},
   "source": [
    "### How many records remain after throwing away the records with inappropriate time range?"
   ]
  },
  {
   "cell_type": "code",
   "execution_count": 11,
   "metadata": {},
   "outputs": [
    {
     "data": {
      "text/plain": [
       "(9889251, 6)"
      ]
     },
     "execution_count": 11,
     "metadata": {},
     "output_type": "execute_result"
    }
   ],
   "source": [
    "data.shape"
   ]
  },
  {
   "cell_type": "code",
   "execution_count": 12,
   "metadata": {},
   "outputs": [
    {
     "name": "stdout",
     "output_type": "stream",
     "text": [
      "0.072% of records are removed\n"
     ]
    }
   ],
   "source": [
    "print(str(round(((9896391 /9889252 - 1)*100),3)) + \"% of records are removed\")"
   ]
  },
  {
   "cell_type": "markdown",
   "metadata": {},
   "source": [
    "### Throw away the records with inappropriate longitude and latitude (we can do mean imputation in the future)"
   ]
  },
  {
   "cell_type": "code",
   "execution_count": 13,
   "metadata": {},
   "outputs": [
    {
     "data": {
      "text/plain": [
       "count    9.889251e+06\n",
       "mean     1.131076e+02\n",
       "std      8.412117e-01\n",
       "min     -2.046620e+03\n",
       "25%      1.130974e+02\n",
       "50%      1.131178e+02\n",
       "75%      1.131462e+02\n",
       "max      1.130355e+03\n",
       "Name: longitude, dtype: float64"
      ]
     },
     "execution_count": 13,
     "metadata": {},
     "output_type": "execute_result"
    }
   ],
   "source": [
    "data[\"longitude\"].describe()"
   ]
  },
  {
   "cell_type": "code",
   "execution_count": 14,
   "metadata": {},
   "outputs": [
    {
     "data": {
      "text/plain": [
       "count    9.889251e+06\n",
       "mean     2.302936e+01\n",
       "std      7.356210e-01\n",
       "min      3.000000e-05\n",
       "25%      2.302088e+01\n",
       "50%      2.302211e+01\n",
       "75%      2.304831e+01\n",
       "max      1.646518e+03\n",
       "Name: latitude, dtype: float64"
      ]
     },
     "execution_count": 14,
     "metadata": {},
     "output_type": "execute_result"
    }
   ],
   "source": [
    "data[\"latitude\"].describe()"
   ]
  },
  {
   "cell_type": "code",
   "execution_count": 15,
   "metadata": {
    "collapsed": true
   },
   "outputs": [],
   "source": [
    "data = data[(data[\"longitude\"] > 113) & (data[\"longitude\"] < 114)]"
   ]
  },
  {
   "cell_type": "code",
   "execution_count": 16,
   "metadata": {},
   "outputs": [
    {
     "name": "stdout",
     "output_type": "stream",
     "text": [
      "0.1% of records are removed so far\n"
     ]
    }
   ],
   "source": [
    "print(str(round(((9896391 / len(data) - 1)*100),3)) + \"% of records are removed so far\")"
   ]
  },
  {
   "cell_type": "code",
   "execution_count": 17,
   "metadata": {
    "collapsed": true
   },
   "outputs": [],
   "source": [
    "data = data[(data[\"latitude\"] > 22) & (data[\"latitude\"] < 24)]"
   ]
  },
  {
   "cell_type": "code",
   "execution_count": 18,
   "metadata": {},
   "outputs": [
    {
     "name": "stdout",
     "output_type": "stream",
     "text": [
      "0.102% of records are removed so far\n"
     ]
    }
   ],
   "source": [
    "print(str(round(((9896391 / len(data) - 1)*100),3)) + \"% of records are removed so far\")"
   ]
  },
  {
   "cell_type": "code",
   "execution_count": 116,
   "metadata": {},
   "outputs": [
    {
     "data": {
      "text/plain": [
       "count    9.886354e+06\n",
       "mean     1.131094e+02\n",
       "std      4.027435e-02\n",
       "min      1.130000e+02\n",
       "25%      1.130974e+02\n",
       "50%      1.131178e+02\n",
       "75%      1.131462e+02\n",
       "max      1.139977e+02\n",
       "Name: longitude, dtype: float64"
      ]
     },
     "execution_count": 116,
     "metadata": {},
     "output_type": "execute_result"
    }
   ],
   "source": [
    "data[\"longitude\"].describe()"
   ]
  },
  {
   "cell_type": "code",
   "execution_count": 117,
   "metadata": {},
   "outputs": [
    {
     "data": {
      "text/plain": [
       "count    9.886354e+06\n",
       "mean     2.302972e+01\n",
       "std      2.331114e-02\n",
       "min      2.220363e+01\n",
       "25%      2.302088e+01\n",
       "50%      2.302211e+01\n",
       "75%      2.304833e+01\n",
       "max      2.351935e+01\n",
       "Name: latitude, dtype: float64"
      ]
     },
     "execution_count": 117,
     "metadata": {},
     "output_type": "execute_result"
    }
   ],
   "source": [
    "data[\"latitude\"].describe()"
   ]
  },
  {
   "cell_type": "markdown",
   "metadata": {},
   "source": [
    "## Sort records by bus and time"
   ]
  },
  {
   "cell_type": "code",
   "execution_count": 19,
   "metadata": {
    "collapsed": true
   },
   "outputs": [],
   "source": [
    "data.sort_values([\"licence_plate_number\",\"calibrated_time\"], inplace=True)"
   ]
  },
  {
   "cell_type": "markdown",
   "metadata": {},
   "source": [
    "## Transform raw_time and calibrated_time to datetime object"
   ]
  },
  {
   "cell_type": "code",
   "execution_count": 91,
   "metadata": {
    "collapsed": true
   },
   "outputs": [],
   "source": [
    "# data[\"raw_time\"] = data[\"raw_time\"].apply(lambda x: datetime.strptime(x, \"%Y-%m-%d %H:%M:%S\"))\n",
    "data[\"calibrated_time\"] = data[\"calibrated_time\"].apply(lambda x: datetime.strptime(x, \"%Y-%m-%d %H:%M:%S\"))"
   ]
  },
  {
   "cell_type": "markdown",
   "metadata": {},
   "source": [
    "## Save/load 116 route in a Python pickle object"
   ]
  },
  {
   "cell_type": "code",
   "execution_count": 3,
   "metadata": {
    "collapsed": true
   },
   "outputs": [],
   "source": [
    "# with open('data.pickle', 'wb'i) as handle:\n",
    "#     pickle.dump(data, handle, protocol=pickle.HIGHEST_PROTOCOL)\n",
    "\n",
    "with open('data.pickle', 'rb') as handle:\n",
    "    data = pickle.load(handle)"
   ]
  },
  {
   "cell_type": "markdown",
   "metadata": {},
   "source": [
    "## Throw away records when the bus is not working"
   ]
  },
  {
   "cell_type": "code",
   "execution_count": 2,
   "metadata": {},
   "outputs": [
    {
     "ename": "NameError",
     "evalue": "name 'data' is not defined",
     "output_type": "error",
     "traceback": [
      "\u001b[0;31m---------------------------------------------------------------------------\u001b[0m",
      "\u001b[0;31mNameError\u001b[0m                                 Traceback (most recent call last)",
      "\u001b[0;32m<ipython-input-2-d3cb9283357d>\u001b[0m in \u001b[0;36m<module>\u001b[0;34m()\u001b[0m\n\u001b[0;32m----> 1\u001b[0;31m \u001b[0mbus1\u001b[0m \u001b[0;34m=\u001b[0m \u001b[0mdata\u001b[0m\u001b[0;34m[\u001b[0m\u001b[0mdata\u001b[0m\u001b[0;34m[\u001b[0m\u001b[0;34m'licence_plate_number'\u001b[0m\u001b[0;34m]\u001b[0m\u001b[0;34m==\u001b[0m\u001b[0;34m\"粤E19212\"\u001b[0m\u001b[0;34m]\u001b[0m\u001b[0;34m\u001b[0m\u001b[0m\n\u001b[0m",
      "\u001b[0;31mNameError\u001b[0m: name 'data' is not defined"
     ]
    }
   ],
   "source": [
    "bus1 = data[data['licence_plate_number']==\"粤E19212\"]"
   ]
  },
  {
   "cell_type": "code",
   "execution_count": 7,
   "metadata": {},
   "outputs": [
    {
     "data": {
      "text/html": [
       "<div>\n",
       "<style>\n",
       "    .dataframe thead tr:only-child th {\n",
       "        text-align: right;\n",
       "    }\n",
       "\n",
       "    .dataframe thead th {\n",
       "        text-align: left;\n",
       "    }\n",
       "\n",
       "    .dataframe tbody tr th {\n",
       "        vertical-align: top;\n",
       "    }\n",
       "</style>\n",
       "<table border=\"1\" class=\"dataframe\">\n",
       "  <thead>\n",
       "    <tr style=\"text-align: right;\">\n",
       "      <th></th>\n",
       "      <th>licence_plate_number</th>\n",
       "      <th>route</th>\n",
       "      <th>longitude</th>\n",
       "      <th>latitude</th>\n",
       "      <th>calibrated_time</th>\n",
       "      <th>raw_time</th>\n",
       "    </tr>\n",
       "  </thead>\n",
       "  <tbody>\n",
       "    <tr>\n",
       "      <th>30</th>\n",
       "      <td>粤E19212</td>\n",
       "      <td>116</td>\n",
       "      <td>113.14626</td>\n",
       "      <td>23.02151</td>\n",
       "      <td>2015-07-01 00:01:36</td>\n",
       "      <td>2015-07-01 00:01:40</td>\n",
       "    </tr>\n",
       "    <tr>\n",
       "      <th>76</th>\n",
       "      <td>粤E19212</td>\n",
       "      <td>116</td>\n",
       "      <td>113.14625</td>\n",
       "      <td>23.02150</td>\n",
       "      <td>2015-07-01 00:01:48</td>\n",
       "      <td>2015-07-01 00:01:52</td>\n",
       "    </tr>\n",
       "    <tr>\n",
       "      <th>121</th>\n",
       "      <td>粤E19212</td>\n",
       "      <td>116</td>\n",
       "      <td>113.14625</td>\n",
       "      <td>23.02148</td>\n",
       "      <td>2015-07-01 00:02:00</td>\n",
       "      <td>2015-07-01 00:02:05</td>\n",
       "    </tr>\n",
       "    <tr>\n",
       "      <th>169</th>\n",
       "      <td>粤E19212</td>\n",
       "      <td>116</td>\n",
       "      <td>113.14623</td>\n",
       "      <td>23.02146</td>\n",
       "      <td>2015-07-01 00:02:12</td>\n",
       "      <td>2015-07-01 00:02:16</td>\n",
       "    </tr>\n",
       "    <tr>\n",
       "      <th>207</th>\n",
       "      <td>粤E19212</td>\n",
       "      <td>116</td>\n",
       "      <td>113.14625</td>\n",
       "      <td>23.02146</td>\n",
       "      <td>2015-07-01 00:02:24</td>\n",
       "      <td>2015-07-01 00:02:28</td>\n",
       "    </tr>\n",
       "  </tbody>\n",
       "</table>\n",
       "</div>"
      ],
      "text/plain": [
       "    licence_plate_number  route  longitude  latitude     calibrated_time  \\\n",
       "30               粤E19212    116  113.14626  23.02151 2015-07-01 00:01:36   \n",
       "76               粤E19212    116  113.14625  23.02150 2015-07-01 00:01:48   \n",
       "121              粤E19212    116  113.14625  23.02148 2015-07-01 00:02:00   \n",
       "169              粤E19212    116  113.14623  23.02146 2015-07-01 00:02:12   \n",
       "207              粤E19212    116  113.14625  23.02146 2015-07-01 00:02:24   \n",
       "\n",
       "               raw_time  \n",
       "30  2015-07-01 00:01:40  \n",
       "76  2015-07-01 00:01:52  \n",
       "121 2015-07-01 00:02:05  \n",
       "169 2015-07-01 00:02:16  \n",
       "207 2015-07-01 00:02:28  "
      ]
     },
     "execution_count": 7,
     "metadata": {},
     "output_type": "execute_result"
    }
   ],
   "source": [
    "bus1.head()"
   ]
  },
  {
   "cell_type": "code",
   "execution_count": 1,
   "metadata": {},
   "outputs": [
    {
     "ename": "NameError",
     "evalue": "name 'bus1' is not defined",
     "output_type": "error",
     "traceback": [
      "\u001b[0;31m---------------------------------------------------------------------------\u001b[0m",
      "\u001b[0;31mNameError\u001b[0m                                 Traceback (most recent call last)",
      "\u001b[0;32m<ipython-input-1-c3f7652c0351>\u001b[0m in \u001b[0;36m<module>\u001b[0;34m()\u001b[0m\n\u001b[0;32m----> 1\u001b[0;31m \u001b[0mbus1\u001b[0m\u001b[0;34m[\u001b[0m\u001b[0;36m1\u001b[0m\u001b[0;34m:\u001b[0m\u001b[0;36m24\u001b[0m\u001b[0;34m*\u001b[0m\u001b[0;36m60\u001b[0m\u001b[0;34m*\u001b[0m\u001b[0;36m60\u001b[0m\u001b[0;34m]\u001b[0m\u001b[0;34m.\u001b[0m\u001b[0mplot\u001b[0m\u001b[0;34m(\u001b[0m\u001b[0mx\u001b[0m\u001b[0;34m=\u001b[0m\u001b[0;34m\"calibrated_time\"\u001b[0m\u001b[0;34m,\u001b[0m\u001b[0my\u001b[0m\u001b[0;34m=\u001b[0m\u001b[0;34m\"longitude\"\u001b[0m\u001b[0;34m)\u001b[0m\u001b[0;34m\u001b[0m\u001b[0m\n\u001b[0m",
      "\u001b[0;31mNameError\u001b[0m: name 'bus1' is not defined"
     ]
    }
   ],
   "source": [
    "bus1[1:24*60*60].plot(x=\"calibrated_time\",y=\"longitude\")"
   ]
  },
  {
   "cell_type": "markdown",
   "metadata": {},
   "source": [
    "It seems that in one day it has 11 cycles"
   ]
  },
  {
   "cell_type": "code",
   "execution_count": 9,
   "metadata": {},
   "outputs": [
    {
     "data": {
      "text/plain": [
       "<matplotlib.axes._subplots.AxesSubplot at 0x11ba682e8>"
      ]
     },
     "execution_count": 9,
     "metadata": {},
     "output_type": "execute_result"
    },
    {
     "data": {
      "image/png": "[encoded data removed]",
      "text/plain": [
       "<matplotlib.figure.Figure at 0x107ee6cc0>"
      ]
     },
     "metadata": {},
     "output_type": "display_data"
    }
   ],
   "source": [
    "bus1[1:8000].plot(x=\"calibrated_time\",y=\"longitude\")"
   ]
  },
  {
   "cell_type": "markdown",
   "metadata": {},
   "source": [
    "When we zoom in to see 1 cycle, it actually shows 3 shifts in a cycle"
   ]
  },
  {
   "cell_type": "code",
   "execution_count": 10,
   "metadata": {},
   "outputs": [
    {
     "data": {
      "text/plain": [
       "<matplotlib.axes._subplots.AxesSubplot at 0x10d2007b8>"
      ]
     },
     "execution_count": 10,
     "metadata": {},
     "output_type": "execute_result"
    },
    {
     "data": {
      "image/png": "[encoded data removed]",
      "text/plain": [
       "<matplotlib.figure.Figure at 0x10601bc18>"
      ]
     },
     "metadata": {},
     "output_type": "display_data"
    }
   ],
   "source": [
    "bus1[1:24*60*60].plot(x=\"calibrated_time\",y=\"latitude\")"
   ]
  },
  {
   "cell_type": "code",
   "execution_count": 130,
   "metadata": {},
   "outputs": [
    {
     "data": {
      "text/plain": [
       "<matplotlib.axes._subplots.AxesSubplot at 0x14065d3c8>"
      ]
     },
     "execution_count": 130,
     "metadata": {},
     "output_type": "execute_result"
    },
    {
     "data": {
      "image/png": "[encoded data removed]",
      "text/plain": [
       "<matplotlib.figure.Figure at 0x11c8e1dd8>"
      ]
     },
     "metadata": {},
     "output_type": "display_data"
    }
   ],
   "source": [
    "bus1[1:8000].plot(x=\"calibrated_time\",y=\"latitude\")"
   ]
  },
  {
   "cell_type": "code",
   "execution_count": 137,
   "metadata": {
    "collapsed": true
   },
   "outputs": [],
   "source": [
    "import matplotlib.pyplot as plt\n",
    "import matplotlib.dates as mdates"
   ]
  },
  {
   "cell_type": "code",
   "execution_count": 140,
   "metadata": {},
   "outputs": [
    {
     "data": {
      "text/plain": [
       "<matplotlib.axes._subplots.AxesSubplot at 0x1202ec400>"
      ]
     },
     "execution_count": 140,
     "metadata": {},
     "output_type": "execute_result"
    },
    {
     "data": {
      "image/png": "[encoded data removed]",
      "text/plain": [
       "<matplotlib.figure.Figure at 0x1202d57b8>"
      ]
     },
     "metadata": {},
     "output_type": "display_data"
    }
   ],
   "source": [
    "bus1[1000:4000].plot(x=\"calibrated_time\",y=\"latitude\")"
   ]
  },
  {
   "cell_type": "code",
   "execution_count": null,
   "metadata": {
    "collapsed": true
   },
   "outputs": [],
   "source": [
    "bus1[2900:4000]\n",
    "# 23.02181, 113.14631"
   ]
  },
  {
   "cell_type": "markdown",
   "metadata": {},
   "source": [
    "### How many records for each bus?"
   ]
  },
  {
   "cell_type": "code",
   "execution_count": 30,
   "metadata": {},
   "outputs": [
    {
     "data": {
      "text/plain": [
       "<matplotlib.axes._subplots.AxesSubplot at 0x115f20f28>"
      ]
     },
     "execution_count": 30,
     "metadata": {},
     "output_type": "execute_result"
    },
    {
     "data": {
      "image/png": "[encoded data removed]",
      "text/plain": [
       "<matplotlib.figure.Figure at 0x11dc35dd8>"
      ]
     },
     "metadata": {},
     "output_type": "display_data"
    }
   ],
   "source": [
    "data[\"licence_plate_number\"].value_counts().plot(kind=\"bar\")"
   ]
  },
  {
   "cell_type": "markdown",
   "metadata": {},
   "source": [
    "### What is the distribution of the time difference between raw_time and calibrated_time?"
   ]
  },
  {
   "cell_type": "code",
   "execution_count": 217,
   "metadata": {},
   "outputs": [
    {
     "data": {
      "text/plain": [
       "0   00:00:04\n",
       "1   00:00:04\n",
       "2   00:00:09\n",
       "3   00:00:04\n",
       "4   00:00:05\n",
       "dtype: timedelta64[ns]"
      ]
     },
     "execution_count": 217,
     "metadata": {},
     "output_type": "execute_result"
    }
   ],
   "source": [
    "elapsed_time = data[\"raw_time\"] - data[\"calibrated_time\"]\n",
    "elapsed_time.head()"
   ]
  },
  {
   "cell_type": "code",
   "execution_count": 242,
   "metadata": {},
   "outputs": [
    {
     "data": {
      "text/plain": [
       "count                   9889252\n",
       "mean     0 days 00:00:15.524539\n",
       "std      0 days 01:23:20.001776\n",
       "min           -2 days +13:31:04\n",
       "25%             0 days 00:00:03\n",
       "50%             0 days 00:00:04\n",
       "75%             0 days 00:00:05\n",
       "max           181 days 00:00:04\n",
       "dtype: object"
      ]
     },
     "execution_count": 242,
     "metadata": {},
     "output_type": "execute_result"
    }
   ],
   "source": [
    "elapsed_time.describe()"
   ]
  },
  {
   "cell_type": "markdown",
   "metadata": {},
   "source": [
    "### How frequent does GPS record data?"
   ]
  },
  {
   "cell_type": "code",
   "execution_count": 246,
   "metadata": {},
   "outputs": [
    {
     "data": {
      "text/html": [
       "<div>\n",
       "<style>\n",
       "    .dataframe thead tr:only-child th {\n",
       "        text-align: right;\n",
       "    }\n",
       "\n",
       "    .dataframe thead th {\n",
       "        text-align: left;\n",
       "    }\n",
       "\n",
       "    .dataframe tbody tr th {\n",
       "        vertical-align: top;\n",
       "    }\n",
       "</style>\n",
       "<table border=\"1\" class=\"dataframe\">\n",
       "  <thead>\n",
       "    <tr style=\"text-align: right;\">\n",
       "      <th></th>\n",
       "      <th>GPS</th>\n",
       "      <th>licence_plate_number</th>\n",
       "      <th>route</th>\n",
       "      <th>direction</th>\n",
       "      <th>longitude</th>\n",
       "      <th>latitude</th>\n",
       "      <th>calibrated_time</th>\n",
       "      <th>velocity</th>\n",
       "      <th>angle</th>\n",
       "      <th>raw_time</th>\n",
       "    </tr>\n",
       "  </thead>\n",
       "  <tbody>\n",
       "    <tr>\n",
       "      <th>0</th>\n",
       "      <td>GPS</td>\n",
       "      <td>粤E19204</td>\n",
       "      <td>116</td>\n",
       "      <td>-1</td>\n",
       "      <td>113.14631</td>\n",
       "      <td>23.02181</td>\n",
       "      <td>2015-07-01 00:01:30</td>\n",
       "      <td>-1</td>\n",
       "      <td>-1</td>\n",
       "      <td>2015-07-01 00:01:34</td>\n",
       "    </tr>\n",
       "    <tr>\n",
       "      <th>19</th>\n",
       "      <td>GPS</td>\n",
       "      <td>粤E19204</td>\n",
       "      <td>116</td>\n",
       "      <td>-1</td>\n",
       "      <td>113.14631</td>\n",
       "      <td>23.02181</td>\n",
       "      <td>2015-07-01 00:01:35</td>\n",
       "      <td>-1</td>\n",
       "      <td>-1</td>\n",
       "      <td>2015-07-01 00:01:39</td>\n",
       "    </tr>\n",
       "    <tr>\n",
       "      <th>39</th>\n",
       "      <td>GPS</td>\n",
       "      <td>粤E19204</td>\n",
       "      <td>116</td>\n",
       "      <td>-1</td>\n",
       "      <td>113.14631</td>\n",
       "      <td>23.02181</td>\n",
       "      <td>2015-07-01 00:01:40</td>\n",
       "      <td>-1</td>\n",
       "      <td>-1</td>\n",
       "      <td>2015-07-01 00:01:44</td>\n",
       "    </tr>\n",
       "    <tr>\n",
       "      <th>57</th>\n",
       "      <td>GPS</td>\n",
       "      <td>粤E19204</td>\n",
       "      <td>116</td>\n",
       "      <td>-1</td>\n",
       "      <td>113.14631</td>\n",
       "      <td>23.02181</td>\n",
       "      <td>2015-07-01 00:01:45</td>\n",
       "      <td>-1</td>\n",
       "      <td>-1</td>\n",
       "      <td>2015-07-01 00:01:47</td>\n",
       "    </tr>\n",
       "    <tr>\n",
       "      <th>82</th>\n",
       "      <td>GPS</td>\n",
       "      <td>粤E19204</td>\n",
       "      <td>116</td>\n",
       "      <td>-1</td>\n",
       "      <td>113.14631</td>\n",
       "      <td>23.02181</td>\n",
       "      <td>2015-07-01 00:01:50</td>\n",
       "      <td>-1</td>\n",
       "      <td>-1</td>\n",
       "      <td>2015-07-01 00:01:54</td>\n",
       "    </tr>\n",
       "    <tr>\n",
       "      <th>102</th>\n",
       "      <td>GPS</td>\n",
       "      <td>粤E19204</td>\n",
       "      <td>116</td>\n",
       "      <td>-1</td>\n",
       "      <td>113.14631</td>\n",
       "      <td>23.02181</td>\n",
       "      <td>2015-07-01 00:01:55</td>\n",
       "      <td>-1</td>\n",
       "      <td>-1</td>\n",
       "      <td>2015-07-01 00:01:58</td>\n",
       "    </tr>\n",
       "    <tr>\n",
       "      <th>124</th>\n",
       "      <td>GPS</td>\n",
       "      <td>粤E19204</td>\n",
       "      <td>116</td>\n",
       "      <td>-1</td>\n",
       "      <td>113.14631</td>\n",
       "      <td>23.02181</td>\n",
       "      <td>2015-07-01 00:02:00</td>\n",
       "      <td>-1</td>\n",
       "      <td>-1</td>\n",
       "      <td>2015-07-01 00:02:05</td>\n",
       "    </tr>\n",
       "    <tr>\n",
       "      <th>132</th>\n",
       "      <td>GPS</td>\n",
       "      <td>粤E19204</td>\n",
       "      <td>116</td>\n",
       "      <td>-1</td>\n",
       "      <td>113.14631</td>\n",
       "      <td>23.02181</td>\n",
       "      <td>2015-07-01 00:02:00</td>\n",
       "      <td>-1</td>\n",
       "      <td>-1</td>\n",
       "      <td>2015-07-01 00:02:06</td>\n",
       "    </tr>\n",
       "    <tr>\n",
       "      <th>137</th>\n",
       "      <td>GPS</td>\n",
       "      <td>粤E19204</td>\n",
       "      <td>116</td>\n",
       "      <td>-1</td>\n",
       "      <td>113.14631</td>\n",
       "      <td>23.02181</td>\n",
       "      <td>2015-07-01 00:02:05</td>\n",
       "      <td>-1</td>\n",
       "      <td>-1</td>\n",
       "      <td>2015-07-01 00:02:09</td>\n",
       "    </tr>\n",
       "    <tr>\n",
       "      <th>159</th>\n",
       "      <td>GPS</td>\n",
       "      <td>粤E19204</td>\n",
       "      <td>116</td>\n",
       "      <td>-1</td>\n",
       "      <td>113.14631</td>\n",
       "      <td>23.02181</td>\n",
       "      <td>2015-07-01 00:02:10</td>\n",
       "      <td>-1</td>\n",
       "      <td>-1</td>\n",
       "      <td>2015-07-01 00:02:14</td>\n",
       "    </tr>\n",
       "    <tr>\n",
       "      <th>179</th>\n",
       "      <td>GPS</td>\n",
       "      <td>粤E19204</td>\n",
       "      <td>116</td>\n",
       "      <td>-1</td>\n",
       "      <td>113.14631</td>\n",
       "      <td>23.02181</td>\n",
       "      <td>2015-07-01 00:02:15</td>\n",
       "      <td>-1</td>\n",
       "      <td>-1</td>\n",
       "      <td>2015-07-01 00:02:18</td>\n",
       "    </tr>\n",
       "    <tr>\n",
       "      <th>189</th>\n",
       "      <td>GPS</td>\n",
       "      <td>粤E19204</td>\n",
       "      <td>116</td>\n",
       "      <td>-1</td>\n",
       "      <td>113.14631</td>\n",
       "      <td>23.02181</td>\n",
       "      <td>2015-07-01 00:02:15</td>\n",
       "      <td>-1</td>\n",
       "      <td>-1</td>\n",
       "      <td>2015-07-01 00:02:23</td>\n",
       "    </tr>\n",
       "    <tr>\n",
       "      <th>196</th>\n",
       "      <td>GPS</td>\n",
       "      <td>粤E19204</td>\n",
       "      <td>116</td>\n",
       "      <td>-1</td>\n",
       "      <td>113.14631</td>\n",
       "      <td>23.02181</td>\n",
       "      <td>2015-07-01 00:02:20</td>\n",
       "      <td>-1</td>\n",
       "      <td>-1</td>\n",
       "      <td>2015-07-01 00:02:23</td>\n",
       "    </tr>\n",
       "    <tr>\n",
       "      <th>210</th>\n",
       "      <td>GPS</td>\n",
       "      <td>粤E19204</td>\n",
       "      <td>116</td>\n",
       "      <td>-1</td>\n",
       "      <td>113.14631</td>\n",
       "      <td>23.02181</td>\n",
       "      <td>2015-07-01 00:02:25</td>\n",
       "      <td>-1</td>\n",
       "      <td>-1</td>\n",
       "      <td>2015-07-01 00:02:28</td>\n",
       "    </tr>\n",
       "    <tr>\n",
       "      <th>228</th>\n",
       "      <td>GPS</td>\n",
       "      <td>粤E19204</td>\n",
       "      <td>116</td>\n",
       "      <td>-1</td>\n",
       "      <td>113.14631</td>\n",
       "      <td>23.02181</td>\n",
       "      <td>2015-07-01 00:02:30</td>\n",
       "      <td>-1</td>\n",
       "      <td>-1</td>\n",
       "      <td>2015-07-01 00:02:34</td>\n",
       "    </tr>\n",
       "    <tr>\n",
       "      <th>250</th>\n",
       "      <td>GPS</td>\n",
       "      <td>粤E19204</td>\n",
       "      <td>116</td>\n",
       "      <td>-1</td>\n",
       "      <td>113.14631</td>\n",
       "      <td>23.02181</td>\n",
       "      <td>2015-07-01 00:02:35</td>\n",
       "      <td>-1</td>\n",
       "      <td>-1</td>\n",
       "      <td>2015-07-01 00:02:38</td>\n",
       "    </tr>\n",
       "    <tr>\n",
       "      <th>270</th>\n",
       "      <td>GPS</td>\n",
       "      <td>粤E19204</td>\n",
       "      <td>116</td>\n",
       "      <td>-1</td>\n",
       "      <td>113.14631</td>\n",
       "      <td>23.02181</td>\n",
       "      <td>2015-07-01 00:02:40</td>\n",
       "      <td>-1</td>\n",
       "      <td>-1</td>\n",
       "      <td>2015-07-01 00:02:43</td>\n",
       "    </tr>\n",
       "    <tr>\n",
       "      <th>293</th>\n",
       "      <td>GPS</td>\n",
       "      <td>粤E19204</td>\n",
       "      <td>116</td>\n",
       "      <td>-1</td>\n",
       "      <td>113.14631</td>\n",
       "      <td>23.02181</td>\n",
       "      <td>2015-07-01 00:02:45</td>\n",
       "      <td>-1</td>\n",
       "      <td>-1</td>\n",
       "      <td>2015-07-01 00:02:48</td>\n",
       "    </tr>\n",
       "    <tr>\n",
       "      <th>313</th>\n",
       "      <td>GPS</td>\n",
       "      <td>粤E19204</td>\n",
       "      <td>116</td>\n",
       "      <td>-1</td>\n",
       "      <td>113.14631</td>\n",
       "      <td>23.02181</td>\n",
       "      <td>2015-07-01 00:02:50</td>\n",
       "      <td>-1</td>\n",
       "      <td>-1</td>\n",
       "      <td>2015-07-01 00:02:54</td>\n",
       "    </tr>\n",
       "    <tr>\n",
       "      <th>340</th>\n",
       "      <td>GPS</td>\n",
       "      <td>粤E19204</td>\n",
       "      <td>116</td>\n",
       "      <td>-1</td>\n",
       "      <td>113.14631</td>\n",
       "      <td>23.02181</td>\n",
       "      <td>2015-07-01 00:02:55</td>\n",
       "      <td>-1</td>\n",
       "      <td>-1</td>\n",
       "      <td>2015-07-01 00:02:58</td>\n",
       "    </tr>\n",
       "    <tr>\n",
       "      <th>364</th>\n",
       "      <td>GPS</td>\n",
       "      <td>粤E19204</td>\n",
       "      <td>116</td>\n",
       "      <td>-1</td>\n",
       "      <td>113.14631</td>\n",
       "      <td>23.02181</td>\n",
       "      <td>2015-07-01 00:03:00</td>\n",
       "      <td>-1</td>\n",
       "      <td>-1</td>\n",
       "      <td>2015-07-01 00:03:04</td>\n",
       "    </tr>\n",
       "    <tr>\n",
       "      <th>383</th>\n",
       "      <td>GPS</td>\n",
       "      <td>粤E19204</td>\n",
       "      <td>116</td>\n",
       "      <td>-1</td>\n",
       "      <td>113.14631</td>\n",
       "      <td>23.02181</td>\n",
       "      <td>2015-07-01 00:03:05</td>\n",
       "      <td>-1</td>\n",
       "      <td>-1</td>\n",
       "      <td>2015-07-01 00:03:08</td>\n",
       "    </tr>\n",
       "    <tr>\n",
       "      <th>401</th>\n",
       "      <td>GPS</td>\n",
       "      <td>粤E19204</td>\n",
       "      <td>116</td>\n",
       "      <td>-1</td>\n",
       "      <td>113.14631</td>\n",
       "      <td>23.02181</td>\n",
       "      <td>2015-07-01 00:03:10</td>\n",
       "      <td>-1</td>\n",
       "      <td>-1</td>\n",
       "      <td>2015-07-01 00:03:14</td>\n",
       "    </tr>\n",
       "    <tr>\n",
       "      <th>421</th>\n",
       "      <td>GPS</td>\n",
       "      <td>粤E19204</td>\n",
       "      <td>116</td>\n",
       "      <td>-1</td>\n",
       "      <td>113.14631</td>\n",
       "      <td>23.02181</td>\n",
       "      <td>2015-07-01 00:03:15</td>\n",
       "      <td>-1</td>\n",
       "      <td>-1</td>\n",
       "      <td>2015-07-01 00:03:18</td>\n",
       "    </tr>\n",
       "    <tr>\n",
       "      <th>447</th>\n",
       "      <td>GPS</td>\n",
       "      <td>粤E19204</td>\n",
       "      <td>116</td>\n",
       "      <td>-1</td>\n",
       "      <td>113.14631</td>\n",
       "      <td>23.02181</td>\n",
       "      <td>2015-07-01 00:03:20</td>\n",
       "      <td>-1</td>\n",
       "      <td>-1</td>\n",
       "      <td>2015-07-01 00:03:23</td>\n",
       "    </tr>\n",
       "    <tr>\n",
       "      <th>458</th>\n",
       "      <td>GPS</td>\n",
       "      <td>粤E19204</td>\n",
       "      <td>116</td>\n",
       "      <td>-1</td>\n",
       "      <td>113.14631</td>\n",
       "      <td>23.02181</td>\n",
       "      <td>2015-07-01 00:03:25</td>\n",
       "      <td>-1</td>\n",
       "      <td>-1</td>\n",
       "      <td>2015-07-01 00:03:28</td>\n",
       "    </tr>\n",
       "    <tr>\n",
       "      <th>469</th>\n",
       "      <td>GPS</td>\n",
       "      <td>粤E19204</td>\n",
       "      <td>116</td>\n",
       "      <td>-1</td>\n",
       "      <td>113.14631</td>\n",
       "      <td>23.02181</td>\n",
       "      <td>2015-07-01 00:03:25</td>\n",
       "      <td>-1</td>\n",
       "      <td>-1</td>\n",
       "      <td>2015-07-01 00:03:30</td>\n",
       "    </tr>\n",
       "    <tr>\n",
       "      <th>506</th>\n",
       "      <td>GPS</td>\n",
       "      <td>粤E19204</td>\n",
       "      <td>116</td>\n",
       "      <td>-1</td>\n",
       "      <td>113.14631</td>\n",
       "      <td>23.02181</td>\n",
       "      <td>2015-07-01 00:03:30</td>\n",
       "      <td>-1</td>\n",
       "      <td>-1</td>\n",
       "      <td>2015-07-01 00:03:40</td>\n",
       "    </tr>\n",
       "    <tr>\n",
       "      <th>510</th>\n",
       "      <td>GPS</td>\n",
       "      <td>粤E19204</td>\n",
       "      <td>116</td>\n",
       "      <td>-1</td>\n",
       "      <td>113.14631</td>\n",
       "      <td>23.02181</td>\n",
       "      <td>2015-07-01 00:03:30</td>\n",
       "      <td>-1</td>\n",
       "      <td>-1</td>\n",
       "      <td>2015-07-01 00:03:42</td>\n",
       "    </tr>\n",
       "    <tr>\n",
       "      <th>522</th>\n",
       "      <td>GPS</td>\n",
       "      <td>粤E19204</td>\n",
       "      <td>116</td>\n",
       "      <td>-1</td>\n",
       "      <td>113.14631</td>\n",
       "      <td>23.02181</td>\n",
       "      <td>2015-07-01 00:03:35</td>\n",
       "      <td>-1</td>\n",
       "      <td>-1</td>\n",
       "      <td>2015-07-01 00:03:44</td>\n",
       "    </tr>\n",
       "    <tr>\n",
       "      <th>...</th>\n",
       "      <td>...</td>\n",
       "      <td>...</td>\n",
       "      <td>...</td>\n",
       "      <td>...</td>\n",
       "      <td>...</td>\n",
       "      <td>...</td>\n",
       "      <td>...</td>\n",
       "      <td>...</td>\n",
       "      <td>...</td>\n",
       "      <td>...</td>\n",
       "    </tr>\n",
       "    <tr>\n",
       "      <th>9895696</th>\n",
       "      <td>GPS</td>\n",
       "      <td>粤E19204</td>\n",
       "      <td>116</td>\n",
       "      <td>-1</td>\n",
       "      <td>113.14625</td>\n",
       "      <td>23.02180</td>\n",
       "      <td>2015-07-31 23:56:10</td>\n",
       "      <td>-1</td>\n",
       "      <td>-1</td>\n",
       "      <td>2015-07-31 23:56:13</td>\n",
       "    </tr>\n",
       "    <tr>\n",
       "      <th>9895724</th>\n",
       "      <td>GPS</td>\n",
       "      <td>粤E19204</td>\n",
       "      <td>116</td>\n",
       "      <td>-1</td>\n",
       "      <td>113.14625</td>\n",
       "      <td>23.02180</td>\n",
       "      <td>2015-07-31 23:56:22</td>\n",
       "      <td>-1</td>\n",
       "      <td>-1</td>\n",
       "      <td>2015-07-31 23:56:25</td>\n",
       "    </tr>\n",
       "    <tr>\n",
       "      <th>9895747</th>\n",
       "      <td>GPS</td>\n",
       "      <td>粤E19204</td>\n",
       "      <td>116</td>\n",
       "      <td>-1</td>\n",
       "      <td>113.14625</td>\n",
       "      <td>23.02180</td>\n",
       "      <td>2015-07-31 23:56:34</td>\n",
       "      <td>-1</td>\n",
       "      <td>-1</td>\n",
       "      <td>2015-07-31 23:56:38</td>\n",
       "    </tr>\n",
       "    <tr>\n",
       "      <th>9895773</th>\n",
       "      <td>GPS</td>\n",
       "      <td>粤E19204</td>\n",
       "      <td>116</td>\n",
       "      <td>-1</td>\n",
       "      <td>113.14625</td>\n",
       "      <td>23.02180</td>\n",
       "      <td>2015-07-31 23:56:46</td>\n",
       "      <td>-1</td>\n",
       "      <td>-1</td>\n",
       "      <td>2015-07-31 23:56:49</td>\n",
       "    </tr>\n",
       "    <tr>\n",
       "      <th>9895797</th>\n",
       "      <td>GPS</td>\n",
       "      <td>粤E19204</td>\n",
       "      <td>116</td>\n",
       "      <td>-1</td>\n",
       "      <td>113.14625</td>\n",
       "      <td>23.02180</td>\n",
       "      <td>2015-07-31 23:56:58</td>\n",
       "      <td>-1</td>\n",
       "      <td>-1</td>\n",
       "      <td>2015-07-31 23:57:01</td>\n",
       "    </tr>\n",
       "    <tr>\n",
       "      <th>9895819</th>\n",
       "      <td>GPS</td>\n",
       "      <td>粤E19204</td>\n",
       "      <td>116</td>\n",
       "      <td>-1</td>\n",
       "      <td>113.14625</td>\n",
       "      <td>23.02180</td>\n",
       "      <td>2015-07-31 23:57:10</td>\n",
       "      <td>-1</td>\n",
       "      <td>-1</td>\n",
       "      <td>2015-07-31 23:57:12</td>\n",
       "    </tr>\n",
       "    <tr>\n",
       "      <th>9895846</th>\n",
       "      <td>GPS</td>\n",
       "      <td>粤E19204</td>\n",
       "      <td>116</td>\n",
       "      <td>-1</td>\n",
       "      <td>113.14625</td>\n",
       "      <td>23.02180</td>\n",
       "      <td>2015-07-31 23:57:22</td>\n",
       "      <td>-1</td>\n",
       "      <td>-1</td>\n",
       "      <td>2015-07-31 23:57:24</td>\n",
       "    </tr>\n",
       "    <tr>\n",
       "      <th>9895871</th>\n",
       "      <td>GPS</td>\n",
       "      <td>粤E19204</td>\n",
       "      <td>116</td>\n",
       "      <td>-1</td>\n",
       "      <td>113.14625</td>\n",
       "      <td>23.02180</td>\n",
       "      <td>2015-07-31 23:57:34</td>\n",
       "      <td>-1</td>\n",
       "      <td>-1</td>\n",
       "      <td>2015-07-31 23:57:36</td>\n",
       "    </tr>\n",
       "    <tr>\n",
       "      <th>9895894</th>\n",
       "      <td>GPS</td>\n",
       "      <td>粤E19204</td>\n",
       "      <td>116</td>\n",
       "      <td>-1</td>\n",
       "      <td>113.14625</td>\n",
       "      <td>23.02180</td>\n",
       "      <td>2015-07-31 23:57:46</td>\n",
       "      <td>-1</td>\n",
       "      <td>-1</td>\n",
       "      <td>2015-07-31 23:57:48</td>\n",
       "    </tr>\n",
       "    <tr>\n",
       "      <th>9895922</th>\n",
       "      <td>GPS</td>\n",
       "      <td>粤E19204</td>\n",
       "      <td>116</td>\n",
       "      <td>-1</td>\n",
       "      <td>113.14625</td>\n",
       "      <td>23.02180</td>\n",
       "      <td>2015-07-31 23:57:58</td>\n",
       "      <td>-1</td>\n",
       "      <td>-1</td>\n",
       "      <td>2015-07-31 23:58:01</td>\n",
       "    </tr>\n",
       "    <tr>\n",
       "      <th>9895945</th>\n",
       "      <td>GPS</td>\n",
       "      <td>粤E19204</td>\n",
       "      <td>116</td>\n",
       "      <td>-1</td>\n",
       "      <td>113.14625</td>\n",
       "      <td>23.02180</td>\n",
       "      <td>2015-07-31 23:58:10</td>\n",
       "      <td>-1</td>\n",
       "      <td>-1</td>\n",
       "      <td>2015-07-31 23:58:13</td>\n",
       "    </tr>\n",
       "    <tr>\n",
       "      <th>9895977</th>\n",
       "      <td>GPS</td>\n",
       "      <td>粤E19204</td>\n",
       "      <td>116</td>\n",
       "      <td>-1</td>\n",
       "      <td>113.14625</td>\n",
       "      <td>23.02180</td>\n",
       "      <td>2015-07-31 23:58:22</td>\n",
       "      <td>-1</td>\n",
       "      <td>-1</td>\n",
       "      <td>2015-07-31 23:58:27</td>\n",
       "    </tr>\n",
       "    <tr>\n",
       "      <th>9895976</th>\n",
       "      <td>GPS</td>\n",
       "      <td>粤E19204</td>\n",
       "      <td>116</td>\n",
       "      <td>-1</td>\n",
       "      <td>113.14625</td>\n",
       "      <td>23.02180</td>\n",
       "      <td>2015-07-31 23:58:22</td>\n",
       "      <td>-1</td>\n",
       "      <td>-1</td>\n",
       "      <td>2015-07-31 23:58:27</td>\n",
       "    </tr>\n",
       "    <tr>\n",
       "      <th>9895998</th>\n",
       "      <td>GPS</td>\n",
       "      <td>粤E19204</td>\n",
       "      <td>116</td>\n",
       "      <td>-1</td>\n",
       "      <td>113.14625</td>\n",
       "      <td>23.02180</td>\n",
       "      <td>2015-07-31 23:58:34</td>\n",
       "      <td>-1</td>\n",
       "      <td>-1</td>\n",
       "      <td>2015-07-31 23:58:36</td>\n",
       "    </tr>\n",
       "    <tr>\n",
       "      <th>9896022</th>\n",
       "      <td>GPS</td>\n",
       "      <td>粤E19204</td>\n",
       "      <td>116</td>\n",
       "      <td>-1</td>\n",
       "      <td>113.14625</td>\n",
       "      <td>23.02180</td>\n",
       "      <td>2015-07-31 23:58:46</td>\n",
       "      <td>-1</td>\n",
       "      <td>-1</td>\n",
       "      <td>2015-07-31 23:58:50</td>\n",
       "    </tr>\n",
       "    <tr>\n",
       "      <th>9896048</th>\n",
       "      <td>GPS</td>\n",
       "      <td>粤E19204</td>\n",
       "      <td>116</td>\n",
       "      <td>-1</td>\n",
       "      <td>113.14625</td>\n",
       "      <td>23.02180</td>\n",
       "      <td>2015-07-31 23:58:58</td>\n",
       "      <td>-1</td>\n",
       "      <td>-1</td>\n",
       "      <td>2015-07-31 23:59:00</td>\n",
       "    </tr>\n",
       "    <tr>\n",
       "      <th>9896072</th>\n",
       "      <td>GPS</td>\n",
       "      <td>粤E19204</td>\n",
       "      <td>116</td>\n",
       "      <td>-1</td>\n",
       "      <td>113.14625</td>\n",
       "      <td>23.02180</td>\n",
       "      <td>2015-07-31 23:59:10</td>\n",
       "      <td>-1</td>\n",
       "      <td>-1</td>\n",
       "      <td>2015-07-31 23:59:13</td>\n",
       "    </tr>\n",
       "    <tr>\n",
       "      <th>9896099</th>\n",
       "      <td>GPS</td>\n",
       "      <td>粤E19204</td>\n",
       "      <td>116</td>\n",
       "      <td>-1</td>\n",
       "      <td>113.14625</td>\n",
       "      <td>23.02180</td>\n",
       "      <td>2015-07-31 23:59:22</td>\n",
       "      <td>-1</td>\n",
       "      <td>-1</td>\n",
       "      <td>2015-07-31 23:59:25</td>\n",
       "    </tr>\n",
       "    <tr>\n",
       "      <th>9896123</th>\n",
       "      <td>GPS</td>\n",
       "      <td>粤E19204</td>\n",
       "      <td>116</td>\n",
       "      <td>-1</td>\n",
       "      <td>113.14625</td>\n",
       "      <td>23.02180</td>\n",
       "      <td>2015-07-31 23:59:34</td>\n",
       "      <td>-1</td>\n",
       "      <td>-1</td>\n",
       "      <td>2015-07-31 23:59:37</td>\n",
       "    </tr>\n",
       "    <tr>\n",
       "      <th>9896148</th>\n",
       "      <td>GPS</td>\n",
       "      <td>粤E19204</td>\n",
       "      <td>116</td>\n",
       "      <td>-1</td>\n",
       "      <td>113.14625</td>\n",
       "      <td>23.02180</td>\n",
       "      <td>2015-07-31 23:59:46</td>\n",
       "      <td>-1</td>\n",
       "      <td>-1</td>\n",
       "      <td>2015-07-31 23:59:49</td>\n",
       "    </tr>\n",
       "    <tr>\n",
       "      <th>9896174</th>\n",
       "      <td>GPS</td>\n",
       "      <td>粤E19204</td>\n",
       "      <td>116</td>\n",
       "      <td>-1</td>\n",
       "      <td>113.14625</td>\n",
       "      <td>23.02180</td>\n",
       "      <td>2015-07-31 23:59:58</td>\n",
       "      <td>-1</td>\n",
       "      <td>-1</td>\n",
       "      <td>2015-08-01 00:00:02</td>\n",
       "    </tr>\n",
       "    <tr>\n",
       "      <th>9896197</th>\n",
       "      <td>GPS</td>\n",
       "      <td>粤E19204</td>\n",
       "      <td>116</td>\n",
       "      <td>-1</td>\n",
       "      <td>113.14625</td>\n",
       "      <td>23.02180</td>\n",
       "      <td>2015-08-01 00:00:10</td>\n",
       "      <td>-1</td>\n",
       "      <td>-1</td>\n",
       "      <td>2015-08-01 00:00:12</td>\n",
       "    </tr>\n",
       "    <tr>\n",
       "      <th>9896227</th>\n",
       "      <td>GPS</td>\n",
       "      <td>粤E19204</td>\n",
       "      <td>116</td>\n",
       "      <td>-1</td>\n",
       "      <td>113.14625</td>\n",
       "      <td>23.02180</td>\n",
       "      <td>2015-08-01 00:00:22</td>\n",
       "      <td>-1</td>\n",
       "      <td>-1</td>\n",
       "      <td>2015-08-01 00:00:25</td>\n",
       "    </tr>\n",
       "    <tr>\n",
       "      <th>9896231</th>\n",
       "      <td>GPS</td>\n",
       "      <td>粤E19204</td>\n",
       "      <td>116</td>\n",
       "      <td>-1</td>\n",
       "      <td>113.14625</td>\n",
       "      <td>23.02180</td>\n",
       "      <td>2015-08-01 00:00:22</td>\n",
       "      <td>-1</td>\n",
       "      <td>-1</td>\n",
       "      <td>2015-08-01 00:00:27</td>\n",
       "    </tr>\n",
       "    <tr>\n",
       "      <th>9896250</th>\n",
       "      <td>GPS</td>\n",
       "      <td>粤E19204</td>\n",
       "      <td>116</td>\n",
       "      <td>-1</td>\n",
       "      <td>113.14625</td>\n",
       "      <td>23.02180</td>\n",
       "      <td>2015-08-01 00:00:34</td>\n",
       "      <td>-1</td>\n",
       "      <td>-1</td>\n",
       "      <td>2015-08-01 00:00:38</td>\n",
       "    </tr>\n",
       "    <tr>\n",
       "      <th>9896278</th>\n",
       "      <td>GPS</td>\n",
       "      <td>粤E19204</td>\n",
       "      <td>116</td>\n",
       "      <td>-1</td>\n",
       "      <td>113.14625</td>\n",
       "      <td>23.02180</td>\n",
       "      <td>2015-08-01 00:00:46</td>\n",
       "      <td>-1</td>\n",
       "      <td>-1</td>\n",
       "      <td>2015-08-01 00:00:48</td>\n",
       "    </tr>\n",
       "    <tr>\n",
       "      <th>9896303</th>\n",
       "      <td>GPS</td>\n",
       "      <td>粤E19204</td>\n",
       "      <td>116</td>\n",
       "      <td>-1</td>\n",
       "      <td>113.14625</td>\n",
       "      <td>23.02180</td>\n",
       "      <td>2015-08-01 00:00:58</td>\n",
       "      <td>-1</td>\n",
       "      <td>-1</td>\n",
       "      <td>2015-08-01 00:01:00</td>\n",
       "    </tr>\n",
       "    <tr>\n",
       "      <th>9896326</th>\n",
       "      <td>GPS</td>\n",
       "      <td>粤E19204</td>\n",
       "      <td>116</td>\n",
       "      <td>-1</td>\n",
       "      <td>113.14625</td>\n",
       "      <td>23.02180</td>\n",
       "      <td>2015-08-01 00:01:10</td>\n",
       "      <td>-1</td>\n",
       "      <td>-1</td>\n",
       "      <td>2015-08-01 00:01:12</td>\n",
       "    </tr>\n",
       "    <tr>\n",
       "      <th>9896354</th>\n",
       "      <td>GPS</td>\n",
       "      <td>粤E19204</td>\n",
       "      <td>116</td>\n",
       "      <td>-1</td>\n",
       "      <td>113.14625</td>\n",
       "      <td>23.02180</td>\n",
       "      <td>2015-08-01 00:01:22</td>\n",
       "      <td>-1</td>\n",
       "      <td>-1</td>\n",
       "      <td>2015-08-01 00:01:25</td>\n",
       "    </tr>\n",
       "    <tr>\n",
       "      <th>9896376</th>\n",
       "      <td>GPS</td>\n",
       "      <td>粤E19204</td>\n",
       "      <td>116</td>\n",
       "      <td>-1</td>\n",
       "      <td>113.14625</td>\n",
       "      <td>23.02180</td>\n",
       "      <td>2015-08-01 00:01:34</td>\n",
       "      <td>-1</td>\n",
       "      <td>-1</td>\n",
       "      <td>2015-08-01 00:01:36</td>\n",
       "    </tr>\n",
       "  </tbody>\n",
       "</table>\n",
       "<p>498354 rows × 10 columns</p>\n",
       "</div>"
      ],
      "text/plain": [
       "         GPS licence_plate_number  route  direction  longitude  latitude  \\\n",
       "0        GPS              粤E19204    116         -1  113.14631  23.02181   \n",
       "19       GPS              粤E19204    116         -1  113.14631  23.02181   \n",
       "39       GPS              粤E19204    116         -1  113.14631  23.02181   \n",
       "57       GPS              粤E19204    116         -1  113.14631  23.02181   \n",
       "82       GPS              粤E19204    116         -1  113.14631  23.02181   \n",
       "102      GPS              粤E19204    116         -1  113.14631  23.02181   \n",
       "124      GPS              粤E19204    116         -1  113.14631  23.02181   \n",
       "132      GPS              粤E19204    116         -1  113.14631  23.02181   \n",
       "137      GPS              粤E19204    116         -1  113.14631  23.02181   \n",
       "159      GPS              粤E19204    116         -1  113.14631  23.02181   \n",
       "179      GPS              粤E19204    116         -1  113.14631  23.02181   \n",
       "189      GPS              粤E19204    116         -1  113.14631  23.02181   \n",
       "196      GPS              粤E19204    116         -1  113.14631  23.02181   \n",
       "210      GPS              粤E19204    116         -1  113.14631  23.02181   \n",
       "228      GPS              粤E19204    116         -1  113.14631  23.02181   \n",
       "250      GPS              粤E19204    116         -1  113.14631  23.02181   \n",
       "270      GPS              粤E19204    116         -1  113.14631  23.02181   \n",
       "293      GPS              粤E19204    116         -1  113.14631  23.02181   \n",
       "313      GPS              粤E19204    116         -1  113.14631  23.02181   \n",
       "340      GPS              粤E19204    116         -1  113.14631  23.02181   \n",
       "364      GPS              粤E19204    116         -1  113.14631  23.02181   \n",
       "383      GPS              粤E19204    116         -1  113.14631  23.02181   \n",
       "401      GPS              粤E19204    116         -1  113.14631  23.02181   \n",
       "421      GPS              粤E19204    116         -1  113.14631  23.02181   \n",
       "447      GPS              粤E19204    116         -1  113.14631  23.02181   \n",
       "458      GPS              粤E19204    116         -1  113.14631  23.02181   \n",
       "469      GPS              粤E19204    116         -1  113.14631  23.02181   \n",
       "506      GPS              粤E19204    116         -1  113.14631  23.02181   \n",
       "510      GPS              粤E19204    116         -1  113.14631  23.02181   \n",
       "522      GPS              粤E19204    116         -1  113.14631  23.02181   \n",
       "...      ...                  ...    ...        ...        ...       ...   \n",
       "9895696  GPS              粤E19204    116         -1  113.14625  23.02180   \n",
       "9895724  GPS              粤E19204    116         -1  113.14625  23.02180   \n",
       "9895747  GPS              粤E19204    116         -1  113.14625  23.02180   \n",
       "9895773  GPS              粤E19204    116         -1  113.14625  23.02180   \n",
       "9895797  GPS              粤E19204    116         -1  113.14625  23.02180   \n",
       "9895819  GPS              粤E19204    116         -1  113.14625  23.02180   \n",
       "9895846  GPS              粤E19204    116         -1  113.14625  23.02180   \n",
       "9895871  GPS              粤E19204    116         -1  113.14625  23.02180   \n",
       "9895894  GPS              粤E19204    116         -1  113.14625  23.02180   \n",
       "9895922  GPS              粤E19204    116         -1  113.14625  23.02180   \n",
       "9895945  GPS              粤E19204    116         -1  113.14625  23.02180   \n",
       "9895977  GPS              粤E19204    116         -1  113.14625  23.02180   \n",
       "9895976  GPS              粤E19204    116         -1  113.14625  23.02180   \n",
       "9895998  GPS              粤E19204    116         -1  113.14625  23.02180   \n",
       "9896022  GPS              粤E19204    116         -1  113.14625  23.02180   \n",
       "9896048  GPS              粤E19204    116         -1  113.14625  23.02180   \n",
       "9896072  GPS              粤E19204    116         -1  113.14625  23.02180   \n",
       "9896099  GPS              粤E19204    116         -1  113.14625  23.02180   \n",
       "9896123  GPS              粤E19204    116         -1  113.14625  23.02180   \n",
       "9896148  GPS              粤E19204    116         -1  113.14625  23.02180   \n",
       "9896174  GPS              粤E19204    116         -1  113.14625  23.02180   \n",
       "9896197  GPS              粤E19204    116         -1  113.14625  23.02180   \n",
       "9896227  GPS              粤E19204    116         -1  113.14625  23.02180   \n",
       "9896231  GPS              粤E19204    116         -1  113.14625  23.02180   \n",
       "9896250  GPS              粤E19204    116         -1  113.14625  23.02180   \n",
       "9896278  GPS              粤E19204    116         -1  113.14625  23.02180   \n",
       "9896303  GPS              粤E19204    116         -1  113.14625  23.02180   \n",
       "9896326  GPS              粤E19204    116         -1  113.14625  23.02180   \n",
       "9896354  GPS              粤E19204    116         -1  113.14625  23.02180   \n",
       "9896376  GPS              粤E19204    116         -1  113.14625  23.02180   \n",
       "\n",
       "            calibrated_time  velocity  angle            raw_time  \n",
       "0       2015-07-01 00:01:30        -1     -1 2015-07-01 00:01:34  \n",
       "19      2015-07-01 00:01:35        -1     -1 2015-07-01 00:01:39  \n",
       "39      2015-07-01 00:01:40        -1     -1 2015-07-01 00:01:44  \n",
       "57      2015-07-01 00:01:45        -1     -1 2015-07-01 00:01:47  \n",
       "82      2015-07-01 00:01:50        -1     -1 2015-07-01 00:01:54  \n",
       "102     2015-07-01 00:01:55        -1     -1 2015-07-01 00:01:58  \n",
       "124     2015-07-01 00:02:00        -1     -1 2015-07-01 00:02:05  \n",
       "132     2015-07-01 00:02:00        -1     -1 2015-07-01 00:02:06  \n",
       "137     2015-07-01 00:02:05        -1     -1 2015-07-01 00:02:09  \n",
       "159     2015-07-01 00:02:10        -1     -1 2015-07-01 00:02:14  \n",
       "179     2015-07-01 00:02:15        -1     -1 2015-07-01 00:02:18  \n",
       "189     2015-07-01 00:02:15        -1     -1 2015-07-01 00:02:23  \n",
       "196     2015-07-01 00:02:20        -1     -1 2015-07-01 00:02:23  \n",
       "210     2015-07-01 00:02:25        -1     -1 2015-07-01 00:02:28  \n",
       "228     2015-07-01 00:02:30        -1     -1 2015-07-01 00:02:34  \n",
       "250     2015-07-01 00:02:35        -1     -1 2015-07-01 00:02:38  \n",
       "270     2015-07-01 00:02:40        -1     -1 2015-07-01 00:02:43  \n",
       "293     2015-07-01 00:02:45        -1     -1 2015-07-01 00:02:48  \n",
       "313     2015-07-01 00:02:50        -1     -1 2015-07-01 00:02:54  \n",
       "340     2015-07-01 00:02:55        -1     -1 2015-07-01 00:02:58  \n",
       "364     2015-07-01 00:03:00        -1     -1 2015-07-01 00:03:04  \n",
       "383     2015-07-01 00:03:05        -1     -1 2015-07-01 00:03:08  \n",
       "401     2015-07-01 00:03:10        -1     -1 2015-07-01 00:03:14  \n",
       "421     2015-07-01 00:03:15        -1     -1 2015-07-01 00:03:18  \n",
       "447     2015-07-01 00:03:20        -1     -1 2015-07-01 00:03:23  \n",
       "458     2015-07-01 00:03:25        -1     -1 2015-07-01 00:03:28  \n",
       "469     2015-07-01 00:03:25        -1     -1 2015-07-01 00:03:30  \n",
       "506     2015-07-01 00:03:30        -1     -1 2015-07-01 00:03:40  \n",
       "510     2015-07-01 00:03:30        -1     -1 2015-07-01 00:03:42  \n",
       "522     2015-07-01 00:03:35        -1     -1 2015-07-01 00:03:44  \n",
       "...                     ...       ...    ...                 ...  \n",
       "9895696 2015-07-31 23:56:10        -1     -1 2015-07-31 23:56:13  \n",
       "9895724 2015-07-31 23:56:22        -1     -1 2015-07-31 23:56:25  \n",
       "9895747 2015-07-31 23:56:34        -1     -1 2015-07-31 23:56:38  \n",
       "9895773 2015-07-31 23:56:46        -1     -1 2015-07-31 23:56:49  \n",
       "9895797 2015-07-31 23:56:58        -1     -1 2015-07-31 23:57:01  \n",
       "9895819 2015-07-31 23:57:10        -1     -1 2015-07-31 23:57:12  \n",
       "9895846 2015-07-31 23:57:22        -1     -1 2015-07-31 23:57:24  \n",
       "9895871 2015-07-31 23:57:34        -1     -1 2015-07-31 23:57:36  \n",
       "9895894 2015-07-31 23:57:46        -1     -1 2015-07-31 23:57:48  \n",
       "9895922 2015-07-31 23:57:58        -1     -1 2015-07-31 23:58:01  \n",
       "9895945 2015-07-31 23:58:10        -1     -1 2015-07-31 23:58:13  \n",
       "9895977 2015-07-31 23:58:22        -1     -1 2015-07-31 23:58:27  \n",
       "9895976 2015-07-31 23:58:22        -1     -1 2015-07-31 23:58:27  \n",
       "9895998 2015-07-31 23:58:34        -1     -1 2015-07-31 23:58:36  \n",
       "9896022 2015-07-31 23:58:46        -1     -1 2015-07-31 23:58:50  \n",
       "9896048 2015-07-31 23:58:58        -1     -1 2015-07-31 23:59:00  \n",
       "9896072 2015-07-31 23:59:10        -1     -1 2015-07-31 23:59:13  \n",
       "9896099 2015-07-31 23:59:22        -1     -1 2015-07-31 23:59:25  \n",
       "9896123 2015-07-31 23:59:34        -1     -1 2015-07-31 23:59:37  \n",
       "9896148 2015-07-31 23:59:46        -1     -1 2015-07-31 23:59:49  \n",
       "9896174 2015-07-31 23:59:58        -1     -1 2015-08-01 00:00:02  \n",
       "9896197 2015-08-01 00:00:10        -1     -1 2015-08-01 00:00:12  \n",
       "9896227 2015-08-01 00:00:22        -1     -1 2015-08-01 00:00:25  \n",
       "9896231 2015-08-01 00:00:22        -1     -1 2015-08-01 00:00:27  \n",
       "9896250 2015-08-01 00:00:34        -1     -1 2015-08-01 00:00:38  \n",
       "9896278 2015-08-01 00:00:46        -1     -1 2015-08-01 00:00:48  \n",
       "9896303 2015-08-01 00:00:58        -1     -1 2015-08-01 00:01:00  \n",
       "9896326 2015-08-01 00:01:10        -1     -1 2015-08-01 00:01:12  \n",
       "9896354 2015-08-01 00:01:22        -1     -1 2015-08-01 00:01:25  \n",
       "9896376 2015-08-01 00:01:34        -1     -1 2015-08-01 00:01:36  \n",
       "\n",
       "[498354 rows x 10 columns]"
      ]
     },
     "execution_count": 246,
     "metadata": {},
     "output_type": "execute_result"
    }
   ],
   "source": [
    "data[data['licence_plate_number']=='粤E19204'].sort_values(\"calibrated_time\")"
   ]
  },
  {
   "cell_type": "code",
   "execution_count": 257,
   "metadata": {},
   "outputs": [
    {
     "data": {
      "text/plain": [
       "Timedelta('0 days 00:00:00')"
      ]
     },
     "execution_count": 257,
     "metadata": {},
     "output_type": "execute_result"
    }
   ],
   "source": [
    "data[\"calibrated_time\"].diff().median()"
   ]
  },
  {
   "cell_type": "markdown",
   "metadata": {},
   "source": [
    "### Answer: GPS records data approximately every 5 seconds"
   ]
  }
 ],
 "metadata": {
  "kernelspec": {
   "display_name": "Python 3",
   "language": "python",
   "name": "python3"
  },
  "language_info": {
   "codemirror_mode": {
    "name": "ipython",
    "version": 3
   },
   "file_extension": ".py",
   "mimetype": "text/x-python",
   "name": "python",
   "nbconvert_exporter": "python",
   "pygments_lexer": "ipython3",
   "version": "3.6.3"
  }
 },
 "nbformat": 4,
 "nbformat_minor": 2
}
