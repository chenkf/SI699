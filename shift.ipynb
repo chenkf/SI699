{
 "cells": [
  {
   "cell_type": "code",
   "execution_count": 1,
   "metadata": {
    "collapsed": true
   },
   "outputs": [],
   "source": [
    "import pandas as pd\n",
    "from datetime import datetime, timedelta\n",
    "%matplotlib inline\n",
    "import json\n",
    "import matplotlib.pyplot as plt\n",
    "import pickle"
   ]
  },
  {
   "cell_type": "code",
   "execution_count": 27,
   "metadata": {},
   "outputs": [],
   "source": [
    "complete_df = pd.read_csv(\"data/116_edit\",sep = \"\\t\" , header = 0)\n",
    "complete_df['calibrated_time'] = pd.to_datetime(complete_df['calibrated_time'])"
   ]
  },
  {
   "cell_type": "code",
   "execution_count": 15,
   "metadata": {},
   "outputs": [
    {
     "data": {
      "text/html": [
       "<div>\n",
       "<style>\n",
       "    .dataframe thead tr:only-child th {\n",
       "        text-align: right;\n",
       "    }\n",
       "\n",
       "    .dataframe thead th {\n",
       "        text-align: left;\n",
       "    }\n",
       "\n",
       "    .dataframe tbody tr th {\n",
       "        vertical-align: top;\n",
       "    }\n",
       "</style>\n",
       "<table border=\"1\" class=\"dataframe\">\n",
       "  <thead>\n",
       "    <tr style=\"text-align: right;\">\n",
       "      <th></th>\n",
       "      <th>raw_index</th>\n",
       "      <th>route</th>\n",
       "      <th>licence_plate_number</th>\n",
       "      <th>calibrated_time</th>\n",
       "      <th>longitude</th>\n",
       "      <th>latitude</th>\n",
       "      <th>delta_lon</th>\n",
       "      <th>delta_lat</th>\n",
       "      <th>delta_time</th>\n",
       "    </tr>\n",
       "  </thead>\n",
       "  <tbody>\n",
       "    <tr>\n",
       "      <th>0</th>\n",
       "      <td>19</td>\n",
       "      <td>116</td>\n",
       "      <td>粤E19204</td>\n",
       "      <td>2015-07-01 00:01:35</td>\n",
       "      <td>113.14631</td>\n",
       "      <td>23.02181</td>\n",
       "      <td>0.0</td>\n",
       "      <td>0.0</td>\n",
       "      <td>5</td>\n",
       "    </tr>\n",
       "    <tr>\n",
       "      <th>1</th>\n",
       "      <td>39</td>\n",
       "      <td>116</td>\n",
       "      <td>粤E19204</td>\n",
       "      <td>2015-07-01 00:01:40</td>\n",
       "      <td>113.14631</td>\n",
       "      <td>23.02181</td>\n",
       "      <td>0.0</td>\n",
       "      <td>0.0</td>\n",
       "      <td>5</td>\n",
       "    </tr>\n",
       "    <tr>\n",
       "      <th>2</th>\n",
       "      <td>57</td>\n",
       "      <td>116</td>\n",
       "      <td>粤E19204</td>\n",
       "      <td>2015-07-01 00:01:45</td>\n",
       "      <td>113.14631</td>\n",
       "      <td>23.02181</td>\n",
       "      <td>0.0</td>\n",
       "      <td>0.0</td>\n",
       "      <td>5</td>\n",
       "    </tr>\n",
       "    <tr>\n",
       "      <th>3</th>\n",
       "      <td>82</td>\n",
       "      <td>116</td>\n",
       "      <td>粤E19204</td>\n",
       "      <td>2015-07-01 00:01:50</td>\n",
       "      <td>113.14631</td>\n",
       "      <td>23.02181</td>\n",
       "      <td>0.0</td>\n",
       "      <td>0.0</td>\n",
       "      <td>5</td>\n",
       "    </tr>\n",
       "    <tr>\n",
       "      <th>4</th>\n",
       "      <td>102</td>\n",
       "      <td>116</td>\n",
       "      <td>粤E19204</td>\n",
       "      <td>2015-07-01 00:01:55</td>\n",
       "      <td>113.14631</td>\n",
       "      <td>23.02181</td>\n",
       "      <td>0.0</td>\n",
       "      <td>0.0</td>\n",
       "      <td>5</td>\n",
       "    </tr>\n",
       "  </tbody>\n",
       "</table>\n",
       "</div>"
      ],
      "text/plain": [
       "   raw_index  route licence_plate_number      calibrated_time  longitude  \\\n",
       "0         19    116              粤E19204  2015-07-01 00:01:35  113.14631   \n",
       "1         39    116              粤E19204  2015-07-01 00:01:40  113.14631   \n",
       "2         57    116              粤E19204  2015-07-01 00:01:45  113.14631   \n",
       "3         82    116              粤E19204  2015-07-01 00:01:50  113.14631   \n",
       "4        102    116              粤E19204  2015-07-01 00:01:55  113.14631   \n",
       "\n",
       "   latitude  delta_lon  delta_lat  delta_time  \n",
       "0  23.02181        0.0        0.0           5  \n",
       "1  23.02181        0.0        0.0           5  \n",
       "2  23.02181        0.0        0.0           5  \n",
       "3  23.02181        0.0        0.0           5  \n",
       "4  23.02181        0.0        0.0           5  "
      ]
     },
     "execution_count": 15,
     "metadata": {},
     "output_type": "execute_result"
    }
   ],
   "source": [
    "complete_df[complete_df.licence_plate_number == complete_df.licence_plate_number.unique().tolist()[0]].head()"
   ]
  },
  {
   "cell_type": "code",
   "execution_count": 17,
   "metadata": {
    "collapsed": true
   },
   "outputs": [],
   "source": [
    "start_range = [(113.145, 113.147), (23.0205, 23.0225)]\n",
    "end_range = [(113.0165, 113.0185), (23.046, 23.048)]"
   ]
  },
  {
   "cell_type": "code",
   "execution_count": 38,
   "metadata": {},
   "outputs": [],
   "source": [
    "shifts = []\n",
    "for bus in complete_df.licence_plate_number.unique().tolist()[:]:\n",
    "    temp_bus = complete_df[complete_df.licence_plate_number == bus]\n",
    "    for i in temp_bus.index:\n",
    "        if temp_bus.loc[i,\"longitude\"] < start_range[0][1] and temp_bus.loc[i,\"longitude\"] > start_range[0][0] and temp_bus.loc[i,\"latitude\"] < start_range[1][1] and temp_bus.loc[i,\"latitude\"] > start_range[1][0]:\n",
    "            # if within departure station, renew the shift list\n",
    "#             temp = [(i, temp_bus.loc[i,\"longitude\"], temp_bus.loc[i,\"latitude\"])]\n",
    "            temp = [i]\n",
    "        elif temp_bus.loc[i,\"longitude\"] < end_range[0][1] and temp_bus.loc[i,\"longitude\"] > end_range[0][0] and temp_bus.loc[i,\"latitude\"] < end_range[1][1] and temp_bus.loc[i,\"latitude\"] > end_range[1][0]:\n",
    "            # if within terminal station, check if the length of the list satisfied our requirement\n",
    "            if len(temp)> 100 :\n",
    "                if (temp_bus.loc[temp[-1],\"calibrated_time\"] - temp_bus.loc[temp[0],\"calibrated_time\"]).total_seconds()>3600 and (temp_bus.loc[temp[-1],\"calibrated_time\"] - temp_bus.loc[temp[0],\"calibrated_time\"]).total_seconds()<9600 :\n",
    "                    shifts.append(temp)\n",
    "            temp = []\n",
    "\n",
    "        elif len(temp)>0:\n",
    "            # if between the two stations, add it to the list\n",
    "#             temp.append((i, temp_bus.loc[i,\"longitude\"], temp_bus.loc[i,\"latitude\"]))\n",
    "            temp.append(i)\n",
    "\n",
    "#     print complete_df[complete_df.licence_plate_number == bus].shape\n"
   ]
  },
  {
   "cell_type": "code",
   "execution_count": 19,
   "metadata": {},
   "outputs": [],
   "source": [
    "# complete_df[complete_df.licence_plate_number == bus]"
   ]
  },
  {
   "cell_type": "code",
   "execution_count": 39,
   "metadata": {},
   "outputs": [
    {
     "data": {
      "text/plain": [
       "402"
      ]
     },
     "execution_count": 39,
     "metadata": {},
     "output_type": "execute_result"
    }
   ],
   "source": [
    "len(shifts)"
   ]
  },
  {
   "cell_type": "code",
   "execution_count": 40,
   "metadata": {},
   "outputs": [
    {
     "name": "stdout",
     "output_type": "stream",
     "text": [
      "402\n"
     ]
    }
   ],
   "source": [
    "valid_shift = []\n",
    "\n",
    "# further filter previously selected shifts\n",
    "for shift in shifts[:]:\n",
    "    # find out the index of each data point\n",
    "    ind = [s for s in shift]\n",
    "    # standardize the time based on the starting point\n",
    "    timelist = list(pd.to_datetime(complete_df.loc[ind][\"calibrated_time\"]))\n",
    "    timelist = [timedelta.total_seconds(t-timelist[0]) for t in timelist if timedelta.total_seconds(t-timelist[0])< 8000 and timedelta.total_seconds(t-timelist[0])> 0]\n",
    "    # extract lat and lon\n",
    "    xlist = list(complete_df.loc[ind][\"longitude\"])\n",
    "    ylist = list(complete_df.loc[ind][\"latitude\"])\n",
    "    temp = zip(xlist, ylist, timelist)\n",
    "    \n",
    "    if max(xlist)>113.2:\n",
    "        continue\n",
    "    valid_shift.append(temp)\n",
    "\n",
    "# number of valid shifts\n",
    "print len(valid_shift)"
   ]
  },
  {
   "cell_type": "code",
   "execution_count": 43,
   "metadata": {},
   "outputs": [],
   "source": [
    "datalist = [[{\"x\":point[0], \"y\":point[1], \"t\":point[2]} for point in shift] for shift in valid_shift]\n",
    "fout =  open(\"data/116_full.json\",\"w\")\n",
    "json.dump(datalist, fout)"
   ]
  },
  {
   "cell_type": "code",
   "execution_count": 44,
   "metadata": {},
   "outputs": [
    {
     "name": "stderr",
     "output_type": "stream",
     "text": [
      "IOPub data rate exceeded.\n",
      "The notebook server will temporarily stop sending output\n",
      "to the client in order to avoid crashing it.\n",
      "To change this limit, set the config variable\n",
      "`--NotebookApp.iopub_data_rate_limit`.\n"
     ]
    }
   ],
   "source": [
    "f = open(\"data/116_full.json\",\"r\")\n",
    "d = json.loads(f.read())\n",
    "print d"
   ]
  },
  {
   "cell_type": "code",
   "execution_count": null,
   "metadata": {
    "collapsed": true
   },
   "outputs": [],
   "source": []
  }
 ],
 "metadata": {
  "kernelspec": {
   "display_name": "Python 2",
   "language": "python",
   "name": "python2"
  },
  "language_info": {
   "codemirror_mode": {
    "name": "ipython",
    "version": 2
   },
   "file_extension": ".py",
   "mimetype": "text/x-python",
   "name": "python",
   "nbconvert_exporter": "python",
   "pygments_lexer": "ipython2",
   "version": "2.7.13"
  }
 },
 "nbformat": 4,
 "nbformat_minor": 2
}
