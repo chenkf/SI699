{
 "cells": [
  {
   "cell_type": "markdown",
   "metadata": {},
   "source": [
    "# Data Preprocessing Sample Code for Route 123"
   ]
  },
  {
   "cell_type": "code",
   "execution_count": 1,
   "metadata": {
    "collapsed": true
   },
   "outputs": [],
   "source": [
    "import pandas as pd\n",
    "from datetime import datetime, timedelta\n",
    "%matplotlib inline\n",
    "import json\n",
    "import matplotlib.pyplot as plt\n",
    "import pickle\n",
    "import json\n",
    "import math\n",
    "import numpy as np\n",
    "import random\n",
    "import warnings\n",
    "warnings.filterwarnings(\"ignore\")\n"
   ]
  },
  {
   "cell_type": "markdown",
   "metadata": {},
   "source": [
    "### Loading Data"
   ]
  },
  {
   "cell_type": "code",
   "execution_count": 2,
   "metadata": {},
   "outputs": [],
   "source": [
    "data = pd.read_csv(\"data/123\",sep = \"\\t\" , header = None)"
   ]
  },
  {
   "cell_type": "markdown",
   "metadata": {},
   "source": [
    "#### Remove invalid data points"
   ]
  },
  {
   "cell_type": "code",
   "execution_count": 3,
   "metadata": {},
   "outputs": [],
   "source": [
    "data = data[(data[4]> 113.02) & (data[4]<113.15)]\n",
    "data = data[(data[5]> 22.95) & (data[5]<23.1)]\n"
   ]
  },
  {
   "cell_type": "code",
   "execution_count": 4,
   "metadata": {
    "collapsed": true
   },
   "outputs": [],
   "source": [
    "seconds = [str(s).zfill(2)  for s in range(60)]\n",
    "minutes = [str(s).zfill(2)  for s in range(60)]\n",
    "hours = [str(s).zfill(2)  for s in range(24)]\n",
    "months = [str(s).zfill(2)  for s in range(1,13)]\n",
    "\n",
    "data = data[data[6].str[-2:].isin(seconds)]\n",
    "data = data[data[6].str[-5:-3].isin(minutes)]\n",
    "data = data[data[6].str[-8:-6].isin(hours)]\n",
    "data = data[data[6].str[5:7].isin(months)]\n",
    "data = data[data[6].str[:4].isin([\"2015\"])]\n",
    "data = data.reset_index(drop=True)"
   ]
  },
  {
   "cell_type": "code",
   "execution_count": 5,
   "metadata": {
    "collapsed": true
   },
   "outputs": [],
   "source": [
    "df = data.reset_index()"
   ]
  },
  {
   "cell_type": "code",
   "execution_count": 6,
   "metadata": {
    "collapsed": true
   },
   "outputs": [],
   "source": [
    "df.columns = [\"raw_index\",\"GPS\", \"licence_plate_number\",\"route\",\"direction\",\"longitude\",\"latitude\",\n",
    "               \"calibrated_time\",\"velocity\",\"angle\",\"raw_time\"]"
   ]
  },
  {
   "cell_type": "code",
   "execution_count": 7,
   "metadata": {},
   "outputs": [
    {
     "data": {
      "text/html": [
       "<div>\n",
       "<style>\n",
       "    .dataframe thead tr:only-child th {\n",
       "        text-align: right;\n",
       "    }\n",
       "\n",
       "    .dataframe thead th {\n",
       "        text-align: left;\n",
       "    }\n",
       "\n",
       "    .dataframe tbody tr th {\n",
       "        vertical-align: top;\n",
       "    }\n",
       "</style>\n",
       "<table border=\"1\" class=\"dataframe\">\n",
       "  <thead>\n",
       "    <tr style=\"text-align: right;\">\n",
       "      <th></th>\n",
       "      <th>raw_index</th>\n",
       "      <th>GPS</th>\n",
       "      <th>licence_plate_number</th>\n",
       "      <th>route</th>\n",
       "      <th>direction</th>\n",
       "      <th>longitude</th>\n",
       "      <th>latitude</th>\n",
       "      <th>calibrated_time</th>\n",
       "      <th>velocity</th>\n",
       "      <th>angle</th>\n",
       "      <th>raw_time</th>\n",
       "      <th>lon_cp</th>\n",
       "      <th>lat_cp</th>\n",
       "      <th>time_cp</th>\n",
       "      <th>delta_lon</th>\n",
       "      <th>delta_lat</th>\n",
       "      <th>delta_time</th>\n",
       "    </tr>\n",
       "  </thead>\n",
       "  <tbody>\n",
       "    <tr>\n",
       "      <th>0</th>\n",
       "      <td>0</td>\n",
       "      <td>GPS</td>\n",
       "      <td>粤E13706</td>\n",
       "      <td>123</td>\n",
       "      <td>-1</td>\n",
       "      <td>113.07685</td>\n",
       "      <td>23.051683</td>\n",
       "      <td>2015-07-01 00:01:18</td>\n",
       "      <td>-1</td>\n",
       "      <td>-1</td>\n",
       "      <td>2015-07-01 00:01:22</td>\n",
       "      <td>NaN</td>\n",
       "      <td>NaN</td>\n",
       "      <td>NaN</td>\n",
       "      <td>NaN</td>\n",
       "      <td>NaN</td>\n",
       "      <td>NaT</td>\n",
       "    </tr>\n",
       "    <tr>\n",
       "      <th>1</th>\n",
       "      <td>10</td>\n",
       "      <td>GPS</td>\n",
       "      <td>粤E13706</td>\n",
       "      <td>123</td>\n",
       "      <td>-1</td>\n",
       "      <td>113.07685</td>\n",
       "      <td>23.051683</td>\n",
       "      <td>2015-07-01 00:01:23</td>\n",
       "      <td>-1</td>\n",
       "      <td>-1</td>\n",
       "      <td>2015-07-01 00:01:26</td>\n",
       "      <td>113.07685</td>\n",
       "      <td>23.051683</td>\n",
       "      <td>2015-07-01 00:01:18</td>\n",
       "      <td>0.0</td>\n",
       "      <td>0.0</td>\n",
       "      <td>00:00:05</td>\n",
       "    </tr>\n",
       "    <tr>\n",
       "      <th>2</th>\n",
       "      <td>21</td>\n",
       "      <td>GPS</td>\n",
       "      <td>粤E13706</td>\n",
       "      <td>123</td>\n",
       "      <td>-1</td>\n",
       "      <td>113.07685</td>\n",
       "      <td>23.051683</td>\n",
       "      <td>2015-07-01 00:01:28</td>\n",
       "      <td>-1</td>\n",
       "      <td>-1</td>\n",
       "      <td>2015-07-01 00:01:31</td>\n",
       "      <td>113.07685</td>\n",
       "      <td>23.051683</td>\n",
       "      <td>2015-07-01 00:01:23</td>\n",
       "      <td>0.0</td>\n",
       "      <td>0.0</td>\n",
       "      <td>00:00:05</td>\n",
       "    </tr>\n",
       "    <tr>\n",
       "      <th>3</th>\n",
       "      <td>33</td>\n",
       "      <td>GPS</td>\n",
       "      <td>粤E13706</td>\n",
       "      <td>123</td>\n",
       "      <td>-1</td>\n",
       "      <td>113.07685</td>\n",
       "      <td>23.051683</td>\n",
       "      <td>2015-07-01 00:01:33</td>\n",
       "      <td>-1</td>\n",
       "      <td>-1</td>\n",
       "      <td>2015-07-01 00:01:38</td>\n",
       "      <td>113.07685</td>\n",
       "      <td>23.051683</td>\n",
       "      <td>2015-07-01 00:01:28</td>\n",
       "      <td>0.0</td>\n",
       "      <td>0.0</td>\n",
       "      <td>00:00:05</td>\n",
       "    </tr>\n",
       "    <tr>\n",
       "      <th>4</th>\n",
       "      <td>44</td>\n",
       "      <td>GPS</td>\n",
       "      <td>粤E13706</td>\n",
       "      <td>123</td>\n",
       "      <td>-1</td>\n",
       "      <td>113.07685</td>\n",
       "      <td>23.051683</td>\n",
       "      <td>2015-07-01 00:01:38</td>\n",
       "      <td>-1</td>\n",
       "      <td>-1</td>\n",
       "      <td>2015-07-01 00:01:42</td>\n",
       "      <td>113.07685</td>\n",
       "      <td>23.051683</td>\n",
       "      <td>2015-07-01 00:01:33</td>\n",
       "      <td>0.0</td>\n",
       "      <td>0.0</td>\n",
       "      <td>00:00:05</td>\n",
       "    </tr>\n",
       "  </tbody>\n",
       "</table>\n",
       "</div>"
      ],
      "text/plain": [
       "  raw_index  GPS licence_plate_number route direction  longitude   latitude  \\\n",
       "0         0  GPS              粤E13706   123        -1  113.07685  23.051683   \n",
       "1        10  GPS              粤E13706   123        -1  113.07685  23.051683   \n",
       "2        21  GPS              粤E13706   123        -1  113.07685  23.051683   \n",
       "3        33  GPS              粤E13706   123        -1  113.07685  23.051683   \n",
       "4        44  GPS              粤E13706   123        -1  113.07685  23.051683   \n",
       "\n",
       "       calibrated_time velocity angle             raw_time     lon_cp  \\\n",
       "0  2015-07-01 00:01:18       -1    -1  2015-07-01 00:01:22        NaN   \n",
       "1  2015-07-01 00:01:23       -1    -1  2015-07-01 00:01:26  113.07685   \n",
       "2  2015-07-01 00:01:28       -1    -1  2015-07-01 00:01:31  113.07685   \n",
       "3  2015-07-01 00:01:33       -1    -1  2015-07-01 00:01:38  113.07685   \n",
       "4  2015-07-01 00:01:38       -1    -1  2015-07-01 00:01:42  113.07685   \n",
       "\n",
       "      lat_cp              time_cp  delta_lon  delta_lat delta_time  \n",
       "0        NaN                  NaN        NaN        NaN        NaT  \n",
       "1  23.051683  2015-07-01 00:01:18        0.0        0.0   00:00:05  \n",
       "2  23.051683  2015-07-01 00:01:23        0.0        0.0   00:00:05  \n",
       "3  23.051683  2015-07-01 00:01:28        0.0        0.0   00:00:05  \n",
       "4  23.051683  2015-07-01 00:01:33        0.0        0.0   00:00:05  "
      ]
     },
     "execution_count": 7,
     "metadata": {},
     "output_type": "execute_result"
    }
   ],
   "source": [
    "add_speed_data = pd.DataFrame(columns=[\"raw_index\",\"GPS\", \"licence_plate_number\",\"route\",\"direction\",\"longitude\",\"latitude\",\n",
    "               \"calibrated_time\",\"velocity\",\"angle\",\"raw_time\",\"lon_cp\",\"lat_cp\",\"time_cp\",\"delta_lon\", \"delta_lat\",\"delta_time\"])\n",
    "\n",
    "# create a new column for the change in lat, lon and time since last data point\n",
    "for plate in df[\"licence_plate_number\"].unique():\n",
    "    bus_df = df[df[\"licence_plate_number\"] == plate]\n",
    "    bus_df = bus_df.reset_index(drop = True)\n",
    "    bus_df.loc[:,\"lon_cp\"] = bus_df.loc[:,\"longitude\"]\n",
    "    bus_df.loc[:,\"lat_cp\"] = bus_df.loc[:,\"latitude\"]\n",
    "    bus_df.loc[:,\"time_cp\"] = bus_df.loc[:,\"calibrated_time\"]\n",
    "    bus_df.lon_cp = bus_df.lon_cp.shift(1)\n",
    "    bus_df.lat_cp = bus_df.lat_cp.shift(1)\n",
    "    bus_df.time_cp = bus_df.time_cp.shift(1)\n",
    "    bus_df.loc[:,\"delta_lon\"] = bus_df.loc[:,\"longitude\"] -  bus_df.loc[:,\"lon_cp\"]\n",
    "    bus_df.loc[:,\"delta_lat\"] = bus_df.loc[:,\"latitude\"] -  bus_df.loc[:,\"lat_cp\"]\n",
    "    bus_df.loc[:,\"delta_time\"] = pd.to_datetime(bus_df.loc[:,\"calibrated_time\"]) -  pd.to_datetime(bus_df.loc[:,\"time_cp\"])\n",
    "    add_speed_data = pd.concat([add_speed_data, bus_df])\n",
    "\n",
    "add_speed_data.head()"
   ]
  },
  {
   "cell_type": "code",
   "execution_count": 8,
   "metadata": {},
   "outputs": [
    {
     "data": {
      "text/html": [
       "<div>\n",
       "<style>\n",
       "    .dataframe thead tr:only-child th {\n",
       "        text-align: right;\n",
       "    }\n",
       "\n",
       "    .dataframe thead th {\n",
       "        text-align: left;\n",
       "    }\n",
       "\n",
       "    .dataframe tbody tr th {\n",
       "        vertical-align: top;\n",
       "    }\n",
       "</style>\n",
       "<table border=\"1\" class=\"dataframe\">\n",
       "  <thead>\n",
       "    <tr style=\"text-align: right;\">\n",
       "      <th></th>\n",
       "      <th>route</th>\n",
       "      <th>licence_plate_number</th>\n",
       "      <th>calibrated_time</th>\n",
       "      <th>longitude</th>\n",
       "      <th>latitude</th>\n",
       "      <th>delta_lon</th>\n",
       "      <th>delta_lat</th>\n",
       "      <th>delta_time</th>\n",
       "    </tr>\n",
       "    <tr>\n",
       "      <th>raw_index</th>\n",
       "      <th></th>\n",
       "      <th></th>\n",
       "      <th></th>\n",
       "      <th></th>\n",
       "      <th></th>\n",
       "      <th></th>\n",
       "      <th></th>\n",
       "      <th></th>\n",
       "    </tr>\n",
       "  </thead>\n",
       "  <tbody>\n",
       "    <tr>\n",
       "      <th>0</th>\n",
       "      <td>123</td>\n",
       "      <td>粤E13706</td>\n",
       "      <td>2015-07-01 00:01:18</td>\n",
       "      <td>113.07685</td>\n",
       "      <td>23.051683</td>\n",
       "      <td>NaN</td>\n",
       "      <td>NaN</td>\n",
       "      <td>NaT</td>\n",
       "    </tr>\n",
       "    <tr>\n",
       "      <th>10</th>\n",
       "      <td>123</td>\n",
       "      <td>粤E13706</td>\n",
       "      <td>2015-07-01 00:01:23</td>\n",
       "      <td>113.07685</td>\n",
       "      <td>23.051683</td>\n",
       "      <td>0.0</td>\n",
       "      <td>0.0</td>\n",
       "      <td>00:00:05</td>\n",
       "    </tr>\n",
       "    <tr>\n",
       "      <th>21</th>\n",
       "      <td>123</td>\n",
       "      <td>粤E13706</td>\n",
       "      <td>2015-07-01 00:01:28</td>\n",
       "      <td>113.07685</td>\n",
       "      <td>23.051683</td>\n",
       "      <td>0.0</td>\n",
       "      <td>0.0</td>\n",
       "      <td>00:00:05</td>\n",
       "    </tr>\n",
       "    <tr>\n",
       "      <th>33</th>\n",
       "      <td>123</td>\n",
       "      <td>粤E13706</td>\n",
       "      <td>2015-07-01 00:01:33</td>\n",
       "      <td>113.07685</td>\n",
       "      <td>23.051683</td>\n",
       "      <td>0.0</td>\n",
       "      <td>0.0</td>\n",
       "      <td>00:00:05</td>\n",
       "    </tr>\n",
       "    <tr>\n",
       "      <th>44</th>\n",
       "      <td>123</td>\n",
       "      <td>粤E13706</td>\n",
       "      <td>2015-07-01 00:01:38</td>\n",
       "      <td>113.07685</td>\n",
       "      <td>23.051683</td>\n",
       "      <td>0.0</td>\n",
       "      <td>0.0</td>\n",
       "      <td>00:00:05</td>\n",
       "    </tr>\n",
       "  </tbody>\n",
       "</table>\n",
       "</div>"
      ],
      "text/plain": [
       "          route licence_plate_number      calibrated_time  longitude  \\\n",
       "raw_index                                                              \n",
       "0           123              粤E13706  2015-07-01 00:01:18  113.07685   \n",
       "10          123              粤E13706  2015-07-01 00:01:23  113.07685   \n",
       "21          123              粤E13706  2015-07-01 00:01:28  113.07685   \n",
       "33          123              粤E13706  2015-07-01 00:01:33  113.07685   \n",
       "44          123              粤E13706  2015-07-01 00:01:38  113.07685   \n",
       "\n",
       "            latitude  delta_lon  delta_lat delta_time  \n",
       "raw_index                                              \n",
       "0          23.051683        NaN        NaN        NaT  \n",
       "10         23.051683        0.0        0.0   00:00:05  \n",
       "21         23.051683        0.0        0.0   00:00:05  \n",
       "33         23.051683        0.0        0.0   00:00:05  \n",
       "44         23.051683        0.0        0.0   00:00:05  "
      ]
     },
     "execution_count": 8,
     "metadata": {},
     "output_type": "execute_result"
    }
   ],
   "source": [
    "complete_df = add_speed_data[[\"raw_index\",\"route\",\"licence_plate_number\",\"calibrated_time\",\"longitude\",\n",
    "                              \"latitude\", \"delta_lon\", \"delta_lat\",\"delta_time\"]]\n",
    "complete_df = complete_df.set_index(\"raw_index\")\n",
    "\n",
    "complete_df.head()"
   ]
  },
  {
   "cell_type": "code",
   "execution_count": 9,
   "metadata": {
    "collapsed": true
   },
   "outputs": [],
   "source": [
    "complete_df = complete_df.drop_duplicates(subset=[\"calibrated_time\",\"longitude\",\"latitude\"], keep=\"first\")\n",
    "complete_df = complete_df[complete_df[\"delta_time\"].isin(list(complete_df[\"delta_time\"].value_counts().index[:6]))]"
   ]
  },
  {
   "cell_type": "code",
   "execution_count": 10,
   "metadata": {
    "collapsed": true
   },
   "outputs": [],
   "source": [
    "complete_df[\"delta_time\"] = complete_df[\"delta_time\"].dt.seconds"
   ]
  },
  {
   "cell_type": "code",
   "execution_count": 11,
   "metadata": {
    "collapsed": true
   },
   "outputs": [],
   "source": [
    "complete_df.to_csv(\"data/123_edit\",sep = \"\\t\")"
   ]
  },
  {
   "cell_type": "markdown",
   "metadata": {},
   "source": [
    "### Finding Stop Location"
   ]
  },
  {
   "cell_type": "markdown",
   "metadata": {},
   "source": [
    "Find all data points that indicate that the bus stopped for more than a few seconds.\n",
    "Filter them base on rules.\n",
    "Then do clustering to find potential bus location."
   ]
  },
  {
   "cell_type": "code",
   "execution_count": 15,
   "metadata": {
    "collapsed": true
   },
   "outputs": [],
   "source": [
    "complete_df = pd.read_csv(\"data/123_edit\",sep = \"\\t\")"
   ]
  },
  {
   "cell_type": "code",
   "execution_count": 18,
   "metadata": {},
   "outputs": [
    {
     "data": {
      "text/plain": [
       "<matplotlib.axes._subplots.AxesSubplot at 0x1150b7910>"
      ]
     },
     "execution_count": 18,
     "metadata": {},
     "output_type": "execute_result"
    },
    {
     "data": {
      "image/png": "[encoded data removed]",
      "text/plain": [
       "<matplotlib.figure.Figure at 0x1150cc2d0>"
      ]
     },
     "metadata": {},
     "output_type": "display_data"
    }
   ],
   "source": [
    "complete_df.loc[95000:100000,\"longitude\"].plot()\n"
   ]
  },
  {
   "cell_type": "code",
   "execution_count": 19,
   "metadata": {
    "collapsed": true
   },
   "outputs": [],
   "source": [
    "complete_df['calibrated_time'] = pd.to_datetime(complete_df['calibrated_time'])"
   ]
  },
  {
   "cell_type": "markdown",
   "metadata": {},
   "source": [
    "#### Find out locations that bus stopped for more than 15 seconds"
   ]
  },
  {
   "cell_type": "code",
   "execution_count": 20,
   "metadata": {},
   "outputs": [
    {
     "name": "stdout",
     "output_type": "stream",
     "text": [
      "295453\n"
     ]
    }
   ],
   "source": [
    "not_working = []\n",
    "for plate in complete_df[\"licence_plate_number\"].unique():\n",
    "    bus1 = complete_df[complete_df[\"licence_plate_number\"] == plate]\n",
    "    first_index = bus1.index[0]\n",
    "    last_loc = (bus1.loc[first_index][\"longitude\"], bus1.loc[first_index][\"latitude\"])\n",
    "    caching = []\n",
    "    \n",
    "    for index, row in bus1.iterrows():\n",
    "        if row[\"longitude\"] == last_loc[0] and row[\"latitude\"] == last_loc[1]:\n",
    "            caching.append(index)\n",
    "        else:\n",
    "            if len(caching) > 1:\n",
    "                not_working.append(caching)\n",
    "            caching = [index]\n",
    "            last_loc = (row[\"longitude\"], row[\"latitude\"])\n",
    "    \n",
    "\n",
    "print len(not_working)"
   ]
  },
  {
   "cell_type": "code",
   "execution_count": 21,
   "metadata": {
    "collapsed": true
   },
   "outputs": [],
   "source": [
    "# find the start and the end of evrey not_working period, and calculate the gap between them\n",
    "stop_index_15 = [point[0] for point in not_working if (complete_df.loc[point[-1],\"calibrated_time\"] - complete_df.loc[point[0],\"calibrated_time\"]).total_seconds() > 15]"
   ]
  },
  {
   "cell_type": "code",
   "execution_count": 22,
   "metadata": {
    "collapsed": true
   },
   "outputs": [],
   "source": [
    "stop_loc_15_df = complete_df.loc[stop_index_15][[\"longitude\",\"latitude\"]]\n",
    "# stop_loc_15_df = stop_loc_15_df[(stop_loc_15_df[\"latitude\"]>23.02)& (stop_loc_15_df[\"latitude\"]<23.06) &\n",
    "#                           (stop_loc_15_df[\"longitude\"]>113.00) &(stop_loc_15_df[\"longitude\"]<113.2)]"
   ]
  },
  {
   "cell_type": "code",
   "execution_count": 23,
   "metadata": {},
   "outputs": [
    {
     "data": {
      "text/plain": [
       "<matplotlib.axes._subplots.AxesSubplot at 0x207e954d0>"
      ]
     },
     "execution_count": 23,
     "metadata": {},
     "output_type": "execute_result"
    },
    {
     "data": {
      "image/png": "[encoded data removed]",
      "text/plain": [
       "<matplotlib.figure.Figure at 0x12304eed0>"
      ]
     },
     "metadata": {},
     "output_type": "display_data"
    }
   ],
   "source": [
    "stop_loc_15_df.plot.scatter(x = \"longitude\", y = \"latitude\")"
   ]
  },
  {
   "cell_type": "markdown",
   "metadata": {},
   "source": [
    "#### Give each data point a score"
   ]
  },
  {
   "cell_type": "code",
   "execution_count": 24,
   "metadata": {},
   "outputs": [
    {
     "data": {
      "text/html": [
       "<div>\n",
       "<style>\n",
       "    .dataframe thead tr:only-child th {\n",
       "        text-align: right;\n",
       "    }\n",
       "\n",
       "    .dataframe thead th {\n",
       "        text-align: left;\n",
       "    }\n",
       "\n",
       "    .dataframe tbody tr th {\n",
       "        vertical-align: top;\n",
       "    }\n",
       "</style>\n",
       "<table border=\"1\" class=\"dataframe\">\n",
       "  <thead>\n",
       "    <tr style=\"text-align: right;\">\n",
       "      <th></th>\n",
       "      <th>longitude</th>\n",
       "      <th>latitude</th>\n",
       "      <th>nearby</th>\n",
       "    </tr>\n",
       "  </thead>\n",
       "  <tbody>\n",
       "    <tr>\n",
       "      <th>0</th>\n",
       "      <td>113.076850</td>\n",
       "      <td>23.051683</td>\n",
       "      <td>1693</td>\n",
       "    </tr>\n",
       "    <tr>\n",
       "      <th>1060</th>\n",
       "      <td>113.076283</td>\n",
       "      <td>23.052017</td>\n",
       "      <td>2912</td>\n",
       "    </tr>\n",
       "    <tr>\n",
       "      <th>1117</th>\n",
       "      <td>113.076533</td>\n",
       "      <td>23.052050</td>\n",
       "      <td>2843</td>\n",
       "    </tr>\n",
       "    <tr>\n",
       "      <th>3632</th>\n",
       "      <td>113.076350</td>\n",
       "      <td>23.052017</td>\n",
       "      <td>3268</td>\n",
       "    </tr>\n",
       "    <tr>\n",
       "      <th>3752</th>\n",
       "      <td>113.076417</td>\n",
       "      <td>23.052133</td>\n",
       "      <td>2905</td>\n",
       "    </tr>\n",
       "  </tbody>\n",
       "</table>\n",
       "</div>"
      ],
      "text/plain": [
       "       longitude   latitude  nearby\n",
       "0     113.076850  23.051683    1693\n",
       "1060  113.076283  23.052017    2912\n",
       "1117  113.076533  23.052050    2843\n",
       "3632  113.076350  23.052017    3268\n",
       "3752  113.076417  23.052133    2905"
      ]
     },
     "execution_count": 24,
     "metadata": {},
     "output_type": "execute_result"
    }
   ],
   "source": [
    "count = 0\n",
    "stop_loc_15_df[\"nearby\"] = 0\n",
    "for i in stop_loc_15_df.index:\n",
    "    count += 1\n",
    "    stop_loc_15_df.loc[i,\"nearby\"] = stop_loc_15_df[(stop_loc_15_df[\"longitude\"] > (stop_loc_15_df.loc[i,\"longitude\"] - 0.0002))&\n",
    "                                              (stop_loc_15_df[\"longitude\"] < (stop_loc_15_df.loc[i,\"longitude\"] + 0.0002))&\n",
    "                                              (stop_loc_15_df[\"latitude\"] > (stop_loc_15_df.loc[i,\"latitude\"]-0.0002))&\n",
    "                                              (stop_loc_15_df[\"latitude\"] < (stop_loc_15_df.loc[i,\"latitude\"]+0.0002))].shape[0]\n",
    "\n",
    "stop_loc_15_df.head()"
   ]
  },
  {
   "cell_type": "code",
   "execution_count": 25,
   "metadata": {},
   "outputs": [
    {
     "data": {
      "text/plain": [
       "<matplotlib.axes._subplots.AxesSubplot at 0x11f1c3c50>"
      ]
     },
     "execution_count": 25,
     "metadata": {},
     "output_type": "execute_result"
    },
    {
     "data": {
      "image/png": "[encoded data removed]",
      "text/plain": [
       "<matplotlib.figure.Figure at 0x1232daf10>"
      ]
     },
     "metadata": {},
     "output_type": "display_data"
    }
   ],
   "source": [
    "stop_loc_15_df_unique = stop_loc_15_df.drop_duplicates().sort_values(\"nearby\",ascending = False)\n",
    "stop_loc_15_df_unique = stop_loc_15_df_unique[stop_loc_15_df_unique[\"latitude\"] < 23.045 ]\n",
    "stop_loc_15_df_unique = stop_loc_15_df_unique[(stop_loc_15_df_unique[\"nearby\"]<10000)&(stop_loc_15_df_unique[\"nearby\"]>200)]\n",
    "stop_loc_15_df_unique.plot.scatter(\"longitude\",\"latitude\")"
   ]
  },
  {
   "cell_type": "code",
   "execution_count": 26,
   "metadata": {
    "collapsed": true
   },
   "outputs": [],
   "source": [
    "from sklearn.cluster import DBSCAN\n",
    "DB = DBSCAN(eps=0.0005, min_samples=600).fit(stop_loc_15_df_unique[[\"longitude\",\"latitude\"]])\n",
    "loc = pd.DataFrame(DB.components_.tolist())\n",
    "loc.index = DB.core_sample_indices_\n",
    "loc.columns = [\"lon\",\"lat\"]\n",
    "lab = pd.DataFrame(DB.labels_)\n",
    "lab.columns = [\"label\"]\n",
    "df = pd.concat([loc, lab], axis=1)\n",
    "df = df.dropna(axis=0, how='any')\n",
    "stop_loc = df.groupby(\"label\").mean()"
   ]
  },
  {
   "cell_type": "code",
   "execution_count": 27,
   "metadata": {},
   "outputs": [
    {
     "data": {
      "text/plain": [
       "<matplotlib.axes._subplots.AxesSubplot at 0x126f04f90>"
      ]
     },
     "execution_count": 27,
     "metadata": {},
     "output_type": "execute_result"
    },
    {
     "data": {
      "image/png": "[encoded data removed]",
      "text/plain": [
       "<matplotlib.figure.Figure at 0x118ec8d50>"
      ]
     },
     "metadata": {},
     "output_type": "display_data"
    }
   ],
   "source": [
    "stop = stop_loc[(stop_loc.lon<113.12)&(stop_loc.lon>113.06)]\n",
    "stop.plot(x=\"lon\", y= \"lat\", kind = \"scatter\",color = \"red\")"
   ]
  },
  {
   "cell_type": "code",
   "execution_count": 111,
   "metadata": {
    "collapsed": true
   },
   "outputs": [],
   "source": [
    "# stop.to_csv(\"data/stoploc.csv\")\n"
   ]
  },
  {
   "cell_type": "markdown",
   "metadata": {},
   "source": [
    "### Cutting the sequence into shifts"
   ]
  },
  {
   "cell_type": "code",
   "execution_count": 28,
   "metadata": {},
   "outputs": [],
   "source": [
    "complete_df['calibrated_time'] = pd.to_datetime(complete_df['calibrated_time'])\n",
    "start_range = [(113.128, 113.130), (22.9895, 22.9915)]\n",
    "end_range = [(113.055, 113.057), (23.005, 23.007)]\n",
    "shifts = []\n",
    "\n",
    "for bus in complete_df.licence_plate_number.unique().tolist()[:]:\n",
    "    temp = []\n",
    "    temp_bus = complete_df[complete_df.licence_plate_number == bus]\n",
    "    for i in temp_bus.index:\n",
    "        if temp_bus.loc[i,\"longitude\"] < start_range[0][1] and temp_bus.loc[i,\"longitude\"] > start_range[0][0] and temp_bus.loc[i,\"latitude\"] < start_range[1][1] and temp_bus.loc[i,\"latitude\"] > start_range[1][0]:\n",
    "            # if within departure station, renew the shift list\n",
    "#             temp = [(i, temp_bus.loc[i,\"longitude\"], temp_bus.loc[i,\"latitude\"])]\n",
    "            temp = [i]\n",
    "        elif temp_bus.loc[i,\"longitude\"] < end_range[0][1] and temp_bus.loc[i,\"longitude\"] > end_range[0][0] and temp_bus.loc[i,\"latitude\"] < end_range[1][1] and temp_bus.loc[i,\"latitude\"] > end_range[1][0]:\n",
    "            # if within terminal station, check if the length of the list satisfied our requirement\n",
    "            if len(temp)> 100 :\n",
    "                if (temp_bus.loc[temp[-1],\"calibrated_time\"] - temp_bus.loc[temp[0],\"calibrated_time\"]).total_seconds()>3600 and (temp_bus.loc[temp[-1],\"calibrated_time\"] - temp_bus.loc[temp[0],\"calibrated_time\"]).total_seconds()<9600 :\n",
    "                    shifts.append(temp)\n",
    "            temp = []\n",
    "\n",
    "        elif len(temp)>0:\n",
    "            # if between the two stations, add it to the list\n",
    "#             temp.append((i, temp_bus.loc[i,\"longitude\"], temp_bus.loc[i,\"latitude\"]))\n",
    "            temp.append(i)\n"
   ]
  },
  {
   "cell_type": "code",
   "execution_count": 29,
   "metadata": {},
   "outputs": [],
   "source": [
    "valid_shift = []\n",
    "\n",
    "# further filter previously selected shifts\n",
    "for shift in shifts[:]:\n",
    "    # find out the index of each data point\n",
    "    ind = [s for s in shift]\n",
    "    # standardize the time based on the starting point\n",
    "    timelist = list(pd.to_datetime(complete_df.loc[ind][\"calibrated_time\"]))\n",
    "    # time past\n",
    "    timelist = [timedelta.total_seconds(t-timelist[0]) for t in timelist if timedelta.total_seconds(t-timelist[0])< 8000 and timedelta.total_seconds(t-timelist[0])> 0]\n",
    "    #plate number\n",
    "    platelist = list(complete_df.loc[ind][\"licence_plate_number\"])\n",
    "    #lon\n",
    "    xlist = list(complete_df.loc[ind][\"longitude\"])\n",
    "    #lat\n",
    "    ylist = list(complete_df.loc[ind][\"latitude\"])\n",
    "    # timestamp\n",
    "    tlist = list(complete_df.loc[ind][\"calibrated_time\"])\n",
    "    #delta lon\n",
    "    deltax = list(complete_df.loc[ind][\"delta_lon\"])\n",
    "    #delta lat\n",
    "    deltay = list(complete_df.loc[ind][\"delta_lat\"])\n",
    "    #delta time\n",
    "    deltat = list(complete_df.loc[ind][\"delta_time\"])\n",
    "    \n",
    "    temp = zip(platelist, xlist, ylist, tlist, timelist, deltax, deltay, deltat)\n",
    "    \n",
    "    if max(xlist)>113.2:\n",
    "        continue\n",
    "    valid_shift.append(temp)\n"
   ]
  },
  {
   "cell_type": "markdown",
   "metadata": {},
   "source": [
    "#### Identify stop location"
   ]
  },
  {
   "cell_type": "code",
   "execution_count": null,
   "metadata": {
    "collapsed": true
   },
   "outputs": [],
   "source": [
    "# stop = pd.read_csv(\"data/stoploc_116.csv\",sep = \",\")"
   ]
  },
  {
   "cell_type": "code",
   "execution_count": 30,
   "metadata": {},
   "outputs": [
    {
     "name": "stdout",
     "output_type": "stream",
     "text": [
      "     Plate         Lon        Lat           Timestamp  timepast  deltalon  \\\n",
      "0  粤E13706  113.128550  22.991267 2015-07-01 07:49:34       5.0  0.000000   \n",
      "1  粤E13706  113.128550  22.991600 2015-07-01 07:49:39      10.0  0.000000   \n",
      "2  粤E13706  113.128517  22.991917 2015-07-01 07:49:44      15.0 -0.000033   \n",
      "3  粤E13706  113.128483  22.992300 2015-07-01 07:49:49      20.0 -0.000033   \n",
      "4  粤E13706  113.128450  22.992717 2015-07-01 07:49:54      25.0 -0.000033   \n",
      "\n",
      "   deltalat deltat      speed     deltad    distance  average_speed  \\\n",
      "0  0.000233      5   6.599663  32.998316   32.998316       6.599663   \n",
      "1  0.000333      5   9.428090  47.140452   80.138769       8.013877   \n",
      "2  0.000317      5   8.956686  44.783429  124.922198       8.328147   \n",
      "3  0.000383      5  10.842304  54.211520  179.133718       8.956686   \n",
      "4  0.000417      5  11.785113  58.925565  238.059283       9.522371   \n",
      "\n",
      "   speed_smooth_3  speed_smooth_5  speed_smooth_10 shift train_test  \n",
      "0             NaN             NaN              NaN     0          0  \n",
      "1             NaN             NaN              NaN     0          0  \n",
      "2        8.328147             NaN              NaN     0          0  \n",
      "3        9.742360             NaN              NaN     0          0  \n",
      "4       10.528034        9.522371              NaN     0          0  \n"
     ]
    }
   ],
   "source": [
    "agg_df = pd.DataFrame(columns = [\"Plate\", \"Lon\", \"Lat\", \"Timestamp\", \"timepast\",\n",
    "                                     \"deltalon\", \"deltalat\", \"deltat\", \"speed\", \"deltad\", \"distance\",\n",
    "                                 \"average_speed\", \"speed_smooth_3\", \"speed_smooth_5\", \"speed_smooth_10\", \"shift\", \"train_test\"])\n",
    "\n",
    "for shift, shift_data in enumerate(valid_shift):\n",
    "    shift_df = pd.DataFrame(shift_data)\n",
    "    shift_df.columns = [\"Plate\", \"Lon\", \"Lat\", \"Timestamp\", \"timepast\", \"deltalon\", \"deltalat\", \"deltat\"]\n",
    "    shift_df[\"speed\"] = ((shift_df[\"deltalat\"]*100000)**2 + (shift_df[\"deltalat\"]*100000)**2).apply(math.sqrt) / shift_df[\"deltat\"]\n",
    "    shift_df[\"deltad\"] = shift_df[\"speed\"] * shift_df[\"deltat\"]\n",
    "    shift_df[\"distance\"] = shift_df[\"deltad\"].expanding().sum()\n",
    "    shift_df[\"average_speed\"] = shift_df[\"distance\"] / shift_df[\"timepast\"]\n",
    "    shift_df[\"speed_smooth_3\"] = shift_df[\"speed\"].rolling(window=3).mean()\n",
    "    shift_df[\"speed_smooth_5\"] = shift_df[\"speed\"].rolling(window=5).mean()\n",
    "    shift_df[\"speed_smooth_10\"] = shift_df[\"speed\"].rolling(window=10).mean()\n",
    "    shift_df[\"shift\"] = shift\n",
    "    shift_df[\"train_test\"] = 1 if random.random() > 0.8 else 0\n",
    "    agg_df = agg_df.append(shift_df, ignore_index = True)\n",
    "\n",
    "print agg_df.head()"
   ]
  },
  {
   "cell_type": "code",
   "execution_count": 31,
   "metadata": {
    "collapsed": true
   },
   "outputs": [],
   "source": [
    "agg_df[\"Lon_round\"] = agg_df[\"Lon\"].round(4)\n",
    "agg_df[\"Lat_round\"] = agg_df[\"Lat\"].round(4)\n",
    "grid_df = agg_df[agg_df[\"train_test\"] == 0].groupby([\"Lon_round\", \"Lat_round\"])[[\"timepast\", \"speed_smooth_3\", \"speed_smooth_5\", \"speed_smooth_10\"]].mean()\n",
    "grid_df = grid_df.reset_index()\n",
    "grid_df.columns = [\"Lon_round\", \"Lat_round\", \"time_avg\", \"speed_avg_3\", \"speed_avg_5\", \"speed_avg_10\"]\n",
    "new_df = pd.merge(agg_df, grid_df,  how='left', left_on=['Lon_round','Lat_round'], right_on = ['Lon_round','Lat_round'])\n"
   ]
  },
  {
   "cell_type": "code",
   "execution_count": 32,
   "metadata": {
    "collapsed": true
   },
   "outputs": [],
   "source": [
    "new_df[\"delay\"] = new_df[\"timepast\"] - new_df[\"time_avg\"]\n",
    "new_df[\"delay_12\"] = new_df[\"delay\"].shift(12)\n",
    "new_df[\"delay_24\"] = new_df[\"delay\"].shift(24)\n",
    "new_df[\"delay_36\"] = new_df[\"delay\"].shift(36)\n",
    "new_df[\"delay_48\"] = new_df[\"delay\"].shift(48)\n",
    "new_df[\"delay_60\"] = new_df[\"delay\"].shift(12)"
   ]
  },
  {
   "cell_type": "code",
   "execution_count": 33,
   "metadata": {
    "collapsed": true
   },
   "outputs": [],
   "source": [
    "stop_dic = {}\n",
    "for index, row in stop.iterrows():\n",
    "    stop_dic[index] = []\n"
   ]
  },
  {
   "cell_type": "code",
   "execution_count": null,
   "metadata": {},
   "outputs": [],
   "source": [
    "\n",
    "for shift in range(len(valid_shift)):\n",
    "\n",
    "    res_df = pd.DataFrame(columns = [u'Plate', u'Lon', u'Lat', u'Timestamp', u'timepast', u'deltalon',\n",
    "                                     u'deltalat', u'deltat', u'speed', u'deltad', u'distance',\n",
    "                                     u'average_speed', u'speed_smooth_3', u'speed_smooth_5',\n",
    "                                     u'speed_smooth_10', u'shift', u'train_test', u'Lon_round', u'Lat_round',\n",
    "                                     u'time_avg', u'speed_avg_3', u'speed_avg_5', u'speed_avg_10', u'delay',\n",
    "                                     u'delay_12', u'delay_24', u'delay_36', u'delay_48', u'delay_60', u'timeleft',\n",
    "                                     u'tostop', u'stoplon', u'stoplat',\n",
    "                                    ])\n",
    "\n",
    "    shift_df = new_df[new_df[\"shift\"] == shift]\n",
    "    \n",
    "    stop_info = []\n",
    "    \n",
    "    for index, row in stop.iterrows():\n",
    "        lon_range = [row[\"lon\"] - 0.0002, row[\"lon\"] + 0.0002]\n",
    "        lat_range = [row[\"lat\"] - 0.0002, row[\"lat\"] + 0.0002]\n",
    "        \n",
    "        for point in shift_df.iterrows():\n",
    "            if point[1][\"Lon\"] < lon_range[1] and point[1][\"Lon\"] > lon_range[0] and point[1][\"Lat\"] < lat_range[1] and point[1][\"Lat\"] > lat_range[0]:\n",
    "                stop_info.append([index, point[1][\"timepast\"], point[1][\"Lon\"], point[1][\"Lat\"]])\n",
    "                if point[1][\"train_test\"] == 0:\n",
    "                    stop_dic[index].append(point[1][\"timepast\"])\n",
    "                break\n",
    "    # drop those shift deviate from the standard route by too much\n",
    "    if len(stop_info) < 5:\n",
    "        continue\n",
    "    \n",
    "    for st in stop_info:\n",
    "        sub_df = shift_df[shift_df.timepast<st[1]]\n",
    "        sub_df[\"timeleft\"] = st[1] - sub_df.timepast\n",
    "        sub_df[\"tostop\"] = st[0]\n",
    "        sub_df[\"stoplon\"] = st[2]\n",
    "        sub_df[\"stoplat\"] = st[3]\n",
    "        res_df = res_df.append(sub_df, ignore_index = True)\n",
    "\n",
    "    res_df.to_csv(\"shifts_123/%s.csv\" % shift)"
   ]
  },
  {
   "cell_type": "code",
   "execution_count": 27,
   "metadata": {
    "collapsed": true
   },
   "outputs": [],
   "source": [
    "stop_time_exp = {1: 592.91037735849056,\n",
    "     2: 1661.625,\n",
    "     3: 2834.5033444816054,\n",
    "     5: 1858.8259668508288,\n",
    "     7: 2245.5670103092784,\n",
    "     8: 304.01388888888891,\n",
    "     9: 2340.3162393162393,\n",
    "     10: 661.05359877488513,\n",
    "     11: 2073.8668831168829,\n",
    "     12: 1296.5062499999999,\n",
    "     13: 849.73932926829264\n",
    "}"
   ]
  },
  {
   "cell_type": "code",
   "execution_count": 130,
   "metadata": {},
   "outputs": [
    {
     "data": {
      "image/png": "[encoded data removed]",
      "text/plain": [
       "<matplotlib.figure.Figure at 0x170df2190>"
      ]
     },
     "metadata": {},
     "output_type": "display_data"
    }
   ],
   "source": [
    "fig, ax = plt.subplots()\n",
    "stop.plot.scatter(x = \"lon\", y = \"lat\", ax = ax)\n",
    "for k, v in stop.iterrows():\n",
    "    ax.annotate(k, v)"
   ]
  },
  {
   "cell_type": "code",
   "execution_count": 28,
   "metadata": {
    "collapsed": true
   },
   "outputs": [],
   "source": [
    "stop_order = {\n",
    "    8:1,\n",
    "    1:2,\n",
    "    10:3,\n",
    "    13:4,\n",
    "    12:5,\n",
    "    2:6,\n",
    "    5:7,\n",
    "    11:8,\n",
    "    7:9,\n",
    "    9:10,\n",
    "    3:11\n",
    "}"
   ]
  },
  {
   "cell_type": "markdown",
   "metadata": {},
   "source": [
    "### Add ordinal stop to the data"
   ]
  },
  {
   "cell_type": "code",
   "execution_count": 42,
   "metadata": {
    "collapsed": true
   },
   "outputs": [],
   "source": [
    "complete_df = pd.DataFrame()\n",
    "count = 0\n",
    "for shift in range(1000):\n",
    "    try:\n",
    "#         print shift\n",
    "        shift_df = pd.read_csv(\"shifts_123/%s.csv\" % shift)\n",
    "        if shift_df[(shift_df[\"Lat\"] > 22.99) & (shift_df[\"Lat\"] < 23.01) \n",
    "                    & (shift_df[\"Lon\"] < 113.10) & (shift_df[\"Lon\"] < 113.11)].shape[0] > 0:\n",
    "            continue\n",
    "        if shift_df[shift_df[\"Lat\"]>23.045].shape[0]>0:\n",
    "            continue\n",
    "        if shift_df[(shift_df[\"Lat\"] > 22.99) & (shift_df[\"Lat\"] < 23.01) \n",
    "                    & (shift_df[\"Lon\"] < 113.115) & (shift_df[\"Lon\"] > 113.09)].shape[0] > 0:   \n",
    "            continue\n",
    "            \n",
    "        shift_df[\"tostop_estimate\"] = shift_df[\"tostop\"].apply(lambda x:stop_time_exp[x])\n",
    "        shift_df[\"ordinal_stop\"] = shift_df[\"tostop\"].apply(lambda x:stop_order[x])\n",
    "        shift_df.to_csv(\"shifts_123_valid/%s.csv\" % shift)\n",
    "    except:\n",
    "        pass"
   ]
  }
 ],
 "metadata": {
  "kernelspec": {
   "display_name": "Python 2",
   "language": "python",
   "name": "python2"
  },
  "language_info": {
   "codemirror_mode": {
    "name": "ipython",
    "version": 2
   },
   "file_extension": ".py",
   "mimetype": "text/x-python",
   "name": "python",
   "nbconvert_exporter": "python",
   "pygments_lexer": "ipython2",
   "version": "2.7.13"
  }
 },
 "nbformat": 4,
 "nbformat_minor": 2
}
